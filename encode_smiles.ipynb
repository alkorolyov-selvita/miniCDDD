{
 "cells": [
  {
   "metadata": {
    "ExecuteTime": {
     "end_time": "2025-03-19T05:11:40.982028Z",
     "start_time": "2025-03-19T05:11:39.595231Z"
    }
   },
   "cell_type": "code",
   "source": [
    "from models import load_cddd_encoder\n",
    "\n",
    "import torch\n",
    "import _codecs\n",
    "import numpy as np\n",
    "\n",
    "# torch.serialization.add_safe_globals([np.dtypes.Int64DType, _codecs.encode, np.core.multiarray.scalar])\n",
    "\n",
    "\n",
    "# cddd_enc = load_cddd_encoder('1k_test/models/cddd_encoder.pt')\n",
    "cddd_enc = load_cddd_encoder('600k_chembl_float16/models/cddd_encoder.pt', weights_only=False)\n",
    "cddd_enc"
   ],
   "id": "cea57687b696767a",
   "outputs": [
    {
     "data": {
      "text/plain": [
       "CDDDEncoder(\n",
       "  (encoder): Encoder(\n",
       "    (gru1): GRU(56, 512, batch_first=True)\n",
       "    (gru2): GRU(512, 1024, batch_first=True)\n",
       "    (gru3): GRU(1024, 2048, batch_first=True)\n",
       "    (dropout): Dropout(p=0.15, inplace=False)\n",
       "    (latent_projection): Linear(in_features=3584, out_features=512, bias=True)\n",
       "    (gaussian_noise): GaussianNoise()\n",
       "  )\n",
       ")"
      ]
     },
     "execution_count": 1,
     "metadata": {},
     "output_type": "execute_result"
    }
   ],
   "execution_count": 1
  },
  {
   "metadata": {
    "ExecuteTime": {
     "end_time": "2025-03-19T05:11:40.987761Z",
     "start_time": "2025-03-19T05:11:40.984626Z"
    }
   },
   "cell_type": "code",
   "source": [
    "for k,v in cddd_enc.encoder.state_dict().items():\n",
    "    print(k, v.dtype)\n",
    "# cddd_enc.encoder.to(torch.bfloat16)"
   ],
   "id": "7018e1a336049ff8",
   "outputs": [
    {
     "name": "stdout",
     "output_type": "stream",
     "text": [
      "gru1.weight_ih_l0 torch.bfloat16\n",
      "gru1.weight_hh_l0 torch.bfloat16\n",
      "gru1.bias_ih_l0 torch.bfloat16\n",
      "gru1.bias_hh_l0 torch.bfloat16\n",
      "gru2.weight_ih_l0 torch.bfloat16\n",
      "gru2.weight_hh_l0 torch.bfloat16\n",
      "gru2.bias_ih_l0 torch.bfloat16\n",
      "gru2.bias_hh_l0 torch.bfloat16\n",
      "gru3.weight_ih_l0 torch.bfloat16\n",
      "gru3.weight_hh_l0 torch.bfloat16\n",
      "gru3.bias_ih_l0 torch.bfloat16\n",
      "gru3.bias_hh_l0 torch.bfloat16\n",
      "latent_projection.weight torch.bfloat16\n",
      "latent_projection.bias torch.bfloat16\n"
     ]
    }
   ],
   "execution_count": 2
  },
  {
   "metadata": {
    "ExecuteTime": {
     "end_time": "2025-03-19T05:11:56.122005Z",
     "start_time": "2025-03-19T05:11:56.105652Z"
    }
   },
   "cell_type": "code",
   "source": "cddd_enc(['CO', 'CN'], verbose=True)",
   "id": "b2bc28a0818e55c9",
   "outputs": [
    {
     "name": "stderr",
     "output_type": "stream",
     "text": [
      "Tokenizing SMILES: 100%|██████████| 2/2 [00:00<00:00, 13797.05it/s]\n",
      "Encoding   SMILES: 100%|██████████| 1/1 [00:00<00:00, 154.09it/s]\n"
     ]
    },
    {
     "data": {
      "text/plain": [
       "array([[ 0.453125  , -0.9140625 , -0.421875  , ...,  0.78125   ,\n",
       "         0.875     , -0.8203125 ],\n",
       "       [ 0.44921875, -0.9375    , -0.3046875 , ...,  0.82421875,\n",
       "         0.83984375, -0.7734375 ]], dtype=float32)"
      ]
     },
     "execution_count": 5,
     "metadata": {},
     "output_type": "execute_result"
    }
   ],
   "execution_count": 5
  },
  {
   "metadata": {
    "ExecuteTime": {
     "end_time": "2025-03-19T04:18:48.070753Z",
     "start_time": "2025-03-19T04:18:48.007625Z"
    }
   },
   "cell_type": "code",
   "source": [
    "import torch\n",
    "\n",
    "checkpoint = torch.load(\"600k_chembl_float16/checkpoints/last.ckpt\", map_location=\"cpu\", weights_only=True)\n",
    "for key, val in checkpoint.items():\n",
    "    print(key, val.dtype if hasattr(val, 'dtype') else type(val))\n",
    "    # checkpoint[key] = checkpoint[key].to(torch.bfloat16)\n",
    "# model.load_state_dict(checkpoint)"
   ],
   "id": "dab8546308027acf",
   "outputs": [
    {
     "name": "stdout",
     "output_type": "stream",
     "text": [
      "epoch <class 'int'>\n",
      "global_step <class 'int'>\n",
      "pytorch-lightning_version <class 'str'>\n",
      "state_dict <class 'collections.OrderedDict'>\n",
      "loops <class 'dict'>\n",
      "callbacks <class 'dict'>\n",
      "optimizer_states <class 'list'>\n",
      "lr_schedulers <class 'list'>\n",
      "hparams_name <class 'str'>\n",
      "hyper_parameters <class 'dict'>\n"
     ]
    }
   ],
   "execution_count": 9
  },
  {
   "metadata": {
    "ExecuteTime": {
     "end_time": "2025-03-19T04:19:55.680486Z",
     "start_time": "2025-03-19T04:19:55.675751Z"
    }
   },
   "cell_type": "code",
   "source": [
    "for k, v in checkpoint['state_dict'].items():\n",
    "    print(k, v.dtype if hasattr(v, 'dtype') else type(v))"
   ],
   "id": "9cbbd27002c44dc5",
   "outputs": [
    {
     "name": "stdout",
     "output_type": "stream",
     "text": [
      "model.encoder.gru1.weight_ih_l0 torch.bfloat16\n",
      "model.encoder.gru1.weight_hh_l0 torch.bfloat16\n",
      "model.encoder.gru1.bias_ih_l0 torch.bfloat16\n",
      "model.encoder.gru1.bias_hh_l0 torch.bfloat16\n",
      "model.encoder.gru2.weight_ih_l0 torch.bfloat16\n",
      "model.encoder.gru2.weight_hh_l0 torch.bfloat16\n",
      "model.encoder.gru2.bias_ih_l0 torch.bfloat16\n",
      "model.encoder.gru2.bias_hh_l0 torch.bfloat16\n",
      "model.encoder.gru3.weight_ih_l0 torch.bfloat16\n",
      "model.encoder.gru3.weight_hh_l0 torch.bfloat16\n",
      "model.encoder.gru3.bias_ih_l0 torch.bfloat16\n",
      "model.encoder.gru3.bias_hh_l0 torch.bfloat16\n",
      "model.encoder.latent_projection.weight torch.bfloat16\n",
      "model.encoder.latent_projection.bias torch.bfloat16\n",
      "model.decoder.latent_to_states.weight torch.bfloat16\n",
      "model.decoder.latent_to_states.bias torch.bfloat16\n",
      "model.decoder.gru1.weight_ih_l0 torch.bfloat16\n",
      "model.decoder.gru1.weight_hh_l0 torch.bfloat16\n",
      "model.decoder.gru1.bias_ih_l0 torch.bfloat16\n",
      "model.decoder.gru1.bias_hh_l0 torch.bfloat16\n",
      "model.decoder.gru2.weight_ih_l0 torch.bfloat16\n",
      "model.decoder.gru2.weight_hh_l0 torch.bfloat16\n",
      "model.decoder.gru2.bias_ih_l0 torch.bfloat16\n",
      "model.decoder.gru2.bias_hh_l0 torch.bfloat16\n",
      "model.decoder.gru3.weight_ih_l0 torch.bfloat16\n",
      "model.decoder.gru3.weight_hh_l0 torch.bfloat16\n",
      "model.decoder.gru3.bias_ih_l0 torch.bfloat16\n",
      "model.decoder.gru3.bias_hh_l0 torch.bfloat16\n",
      "model.decoder.output.weight torch.bfloat16\n",
      "model.decoder.output.bias torch.bfloat16\n",
      "model.classifier.mlp.0.weight torch.bfloat16\n",
      "model.classifier.mlp.0.bias torch.bfloat16\n",
      "model.classifier.mlp.2.weight torch.bfloat16\n",
      "model.classifier.mlp.2.bias torch.bfloat16\n",
      "model.classifier.mlp.4.weight torch.bfloat16\n",
      "model.classifier.mlp.4.bias torch.bfloat16\n"
     ]
    }
   ],
   "execution_count": 13
  },
  {
   "metadata": {
    "ExecuteTime": {
     "end_time": "2025-03-19T04:38:16.186487Z",
     "start_time": "2025-03-19T04:38:16.024788Z"
    }
   },
   "cell_type": "code",
   "source": "cddd_enc(['CO', 'CN'])",
   "id": "30635f3575f8a337",
   "outputs": [
    {
     "data": {
      "text/plain": [
       "array([[ 0.453125  , -0.9140625 , -0.421875  , ...,  0.78125   ,\n",
       "         0.875     , -0.8203125 ],\n",
       "       [ 0.44921875, -0.9375    , -0.3046875 , ...,  0.82421875,\n",
       "         0.83984375, -0.7734375 ]], dtype=float32)"
      ]
     },
     "execution_count": 3,
     "metadata": {},
     "output_type": "execute_result"
    }
   ],
   "execution_count": 3
  },
  {
   "metadata": {},
   "cell_type": "code",
   "outputs": [],
   "execution_count": null,
   "source": "",
   "id": "e91bce42f8a3755a"
  },
  {
   "metadata": {},
   "cell_type": "code",
   "outputs": [],
   "execution_count": null,
   "source": "",
   "id": "28de1bacac69cf9b"
  },
  {
   "metadata": {
    "ExecuteTime": {
     "end_time": "2025-03-19T05:09:39.154077Z",
     "start_time": "2025-03-19T05:09:38.583296Z"
    }
   },
   "cell_type": "code",
   "source": [
    "import pandas as pd\n",
    "\n",
    "df = pd.read_csv('data/600k_chembl_filtered.smi.zst', header=None, names=['smiles'])\n",
    "print(df.info())\n",
    "df.head(10)"
   ],
   "id": "86ef7bb73d24fb46",
   "outputs": [
    {
     "name": "stdout",
     "output_type": "stream",
     "text": [
      "<class 'pandas.core.frame.DataFrame'>\n",
      "RangeIndex: 636218 entries, 0 to 636217\n",
      "Data columns (total 1 columns):\n",
      " #   Column  Non-Null Count   Dtype \n",
      "---  ------  --------------   ----- \n",
      " 0   smiles  636218 non-null  object\n",
      "dtypes: object(1)\n",
      "memory usage: 4.9+ MB\n",
      "None\n"
     ]
    },
    {
     "data": {
      "text/plain": [
       "                                              smiles\n",
       "0  CC1(C)CCC(C)(C)c2cc(-c3cccc(-c4ccc(C(=O)O)cc4)...\n",
       "1  Cc1cc2c(cc1C1=NOC(c3ccc(C(=O)O)cc3)C1)C(C)(C)C...\n",
       "2  Cc1ccc(-c2ccc(C(=O)O)cc2)cc1-c1ccc2c(c1)C(C)(C...\n",
       "3  Cc1cc2c(cc1-c1ncc(-c3ccc(C(=O)O)cc3)s1)C(C)(C)...\n",
       "4  Cc1ccc(-c2ccc(C(=O)O)cc2)cc1-c1cc2c(cc1C)C(C)(...\n",
       "5  Cc1cc2c(cc1-c1cccc(-c3ccc(C(=O)O)cc3)n1)C(C)(C...\n",
       "6  CC1(C)CCC(C)(C)c2cc(-c3cccc(-c4ccc(C(=O)O)cc4)...\n",
       "7  CC1(C)CCC(C)(C)c2cc(-c3ccc4cc(C(=O)O)ccc4c3)ccc21\n",
       "8   CC(=Cc1ccc(C(=O)O)cc1)c1ccc2c(c1)C(C)(C)CCC2(C)C\n",
       "9  CC(C)=C(c1ccc(C(=O)O)cc1)c1ccc2c(c1)C(C)(C)CCC..."
      ],
      "text/html": [
       "<div>\n",
       "<style scoped>\n",
       "    .dataframe tbody tr th:only-of-type {\n",
       "        vertical-align: middle;\n",
       "    }\n",
       "\n",
       "    .dataframe tbody tr th {\n",
       "        vertical-align: top;\n",
       "    }\n",
       "\n",
       "    .dataframe thead th {\n",
       "        text-align: right;\n",
       "    }\n",
       "</style>\n",
       "<table border=\"1\" class=\"dataframe\">\n",
       "  <thead>\n",
       "    <tr style=\"text-align: right;\">\n",
       "      <th></th>\n",
       "      <th>smiles</th>\n",
       "    </tr>\n",
       "  </thead>\n",
       "  <tbody>\n",
       "    <tr>\n",
       "      <th>0</th>\n",
       "      <td>CC1(C)CCC(C)(C)c2cc(-c3cccc(-c4ccc(C(=O)O)cc4)...</td>\n",
       "    </tr>\n",
       "    <tr>\n",
       "      <th>1</th>\n",
       "      <td>Cc1cc2c(cc1C1=NOC(c3ccc(C(=O)O)cc3)C1)C(C)(C)C...</td>\n",
       "    </tr>\n",
       "    <tr>\n",
       "      <th>2</th>\n",
       "      <td>Cc1ccc(-c2ccc(C(=O)O)cc2)cc1-c1ccc2c(c1)C(C)(C...</td>\n",
       "    </tr>\n",
       "    <tr>\n",
       "      <th>3</th>\n",
       "      <td>Cc1cc2c(cc1-c1ncc(-c3ccc(C(=O)O)cc3)s1)C(C)(C)...</td>\n",
       "    </tr>\n",
       "    <tr>\n",
       "      <th>4</th>\n",
       "      <td>Cc1ccc(-c2ccc(C(=O)O)cc2)cc1-c1cc2c(cc1C)C(C)(...</td>\n",
       "    </tr>\n",
       "    <tr>\n",
       "      <th>5</th>\n",
       "      <td>Cc1cc2c(cc1-c1cccc(-c3ccc(C(=O)O)cc3)n1)C(C)(C...</td>\n",
       "    </tr>\n",
       "    <tr>\n",
       "      <th>6</th>\n",
       "      <td>CC1(C)CCC(C)(C)c2cc(-c3cccc(-c4ccc(C(=O)O)cc4)...</td>\n",
       "    </tr>\n",
       "    <tr>\n",
       "      <th>7</th>\n",
       "      <td>CC1(C)CCC(C)(C)c2cc(-c3ccc4cc(C(=O)O)ccc4c3)ccc21</td>\n",
       "    </tr>\n",
       "    <tr>\n",
       "      <th>8</th>\n",
       "      <td>CC(=Cc1ccc(C(=O)O)cc1)c1ccc2c(c1)C(C)(C)CCC2(C)C</td>\n",
       "    </tr>\n",
       "    <tr>\n",
       "      <th>9</th>\n",
       "      <td>CC(C)=C(c1ccc(C(=O)O)cc1)c1ccc2c(c1)C(C)(C)CCC...</td>\n",
       "    </tr>\n",
       "  </tbody>\n",
       "</table>\n",
       "</div>"
      ]
     },
     "execution_count": 4,
     "metadata": {},
     "output_type": "execute_result"
    }
   ],
   "execution_count": 4
  },
  {
   "metadata": {
    "ExecuteTime": {
     "end_time": "2025-03-17T17:20:51.280737Z",
     "start_time": "2025-03-17T17:20:51.260418Z"
    }
   },
   "cell_type": "code",
   "source": "df.sample(1000).to_csv('data/1k_test.smi', index=False, header=False)",
   "id": "4bf8fe6a2d41ee19",
   "outputs": [],
   "execution_count": 4
  },
  {
   "metadata": {
    "ExecuteTime": {
     "end_time": "2025-03-19T05:10:22.592293Z",
     "start_time": "2025-03-19T05:09:41.079661Z"
    }
   },
   "cell_type": "code",
   "source": "cddd_enc(df.smiles)",
   "id": "b9eebfd4a8008b00",
   "outputs": [
    {
     "name": "stderr",
     "output_type": "stream",
     "text": [
      "Tokenizing SMILES: 100%|██████████| 636218/636218 [00:09<00:00, 68590.27it/s]\n",
      "Encoding SMILES: 100%|██████████| 9941/9941 [00:31<00:00, 316.18it/s]\n"
     ]
    },
    {
     "data": {
      "text/plain": [
       "array([[ 0.09765625,  0.30078125, -0.13183594, ..., -0.84765625,\n",
       "        -0.84375   ,  0.12988281],\n",
       "       [ 0.31640625,  0.65234375, -0.27929688, ..., -0.88671875,\n",
       "        -0.5234375 ,  0.2890625 ],\n",
       "       [ 0.359375  ,  0.46875   , -0.19042969, ..., -0.77734375,\n",
       "        -0.8671875 ,  0.08154297],\n",
       "       ...,\n",
       "       [ 0.60546875,  0.76171875, -0.16308594, ..., -0.86328125,\n",
       "         0.26953125,  0.89453125],\n",
       "       [ 0.890625  ,  0.18457031, -0.5390625 , ..., -0.58203125,\n",
       "        -0.33203125,  0.8203125 ],\n",
       "       [ 0.84765625, -0.04101562, -0.7265625 , ..., -0.56640625,\n",
       "        -0.43164062,  0.75      ]], dtype=float32)"
      ]
     },
     "execution_count": 5,
     "metadata": {},
     "output_type": "execute_result"
    }
   ],
   "execution_count": 5
  },
  {
   "metadata": {},
   "cell_type": "code",
   "outputs": [],
   "execution_count": null,
   "source": "",
   "id": "f42249a9b351349"
  }
 ],
 "metadata": {
  "kernelspec": {
   "display_name": "Python 3",
   "language": "python",
   "name": "python3"
  },
  "language_info": {
   "codemirror_mode": {
    "name": "ipython",
    "version": 2
   },
   "file_extension": ".py",
   "mimetype": "text/x-python",
   "name": "python",
   "nbconvert_exporter": "python",
   "pygments_lexer": "ipython2",
   "version": "2.7.6"
  }
 },
 "nbformat": 4,
 "nbformat_minor": 5
}
