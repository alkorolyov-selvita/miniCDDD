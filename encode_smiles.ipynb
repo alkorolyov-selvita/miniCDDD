{
 "cells": [
  {
   "cell_type": "code",
   "id": "initial_id",
   "metadata": {
    "collapsed": true,
    "ExecuteTime": {
     "end_time": "2025-03-15T08:59:23.884166Z",
     "start_time": "2025-03-15T08:59:14.700074Z"
    }
   },
   "source": [
    "import numpy as np\n",
    "import pandas as pd\n",
    "import tensorflow as tf\n",
    "import json\n",
    "import re\n",
    "\n",
    "class SmilesTokenizer:\n",
    "    def __init__(self, lookup_filename, max_length=73):\n",
    "        self.lookup_table = self._load_lookup_table(lookup_filename)\n",
    "        self.max_length = max_length\n",
    "\n",
    "    def _load_lookup_table(self, filename):\n",
    "        with open(filename, 'r') as f:\n",
    "            return json.load(f)\n",
    "\n",
    "    def _pad_tokens_to_max_length(self, tokens):\n",
    "        padding_id = self.lookup_table['<PAD>']\n",
    "        sos_id = self.lookup_table['<SOS>']\n",
    "        eos_id = self.lookup_table['<EOS>']\n",
    "        return [sos_id] + tokens + [eos_id] + [padding_id] * (self.max_length - len(tokens) - 2)\n",
    "\n",
    "    def _extract_atoms_from_smiles(self, smi):\n",
    "        pattern =  \"(\\[[^\\]]+]|Br?|Cl?|N|O|S|P|F|I|b|c|n|o|s|p|\\(|\\)|\\.|=|#|-|\\+|\\\\\\\\|\\/|:|~|@|\\?|>|\\*|\\$|\\%[0-9]{2}|[0-9])\"\n",
    "        regex = re.compile(pattern)\n",
    "        return [token for token in regex.findall(smi)]\n",
    "\n",
    "    def tokenize(self, smiles_string):\n",
    "        tokens = [self.lookup_table[atom] for atom in self._extract_atoms_from_smiles(smiles_string)]\n",
    "        padded_tokens = self._pad_tokens_to_max_length(tokens)\n",
    "        return np.array(padded_tokens)\n",
    "\n",
    "tokenizer = SmilesTokenizer('./lookup_table.json')\n",
    "\n",
    "trained_encoder_model = tf.keras.models.load_model('./models/encoder_model.h5')"
   ],
   "outputs": [
    {
     "name": "stderr",
     "output_type": "stream",
     "text": [
      "2025-03-15 09:59:15.007628: I tensorflow/core/platform/cpu_feature_guard.cc:193] This TensorFlow binary is optimized with oneAPI Deep Neural Network Library (oneDNN) to use the following CPU instructions in performance-critical operations:  AVX2 FMA\n",
      "To enable them in other operations, rebuild TensorFlow with the appropriate compiler flags.\n",
      "2025-03-15 09:59:15.817926: W tensorflow/compiler/xla/stream_executor/platform/default/dso_loader.cc:64] Could not load dynamic library 'libnvinfer.so.7'; dlerror: libnvinfer.so.7: cannot open shared object file: No such file or directory\n",
      "2025-03-15 09:59:15.818025: W tensorflow/compiler/xla/stream_executor/platform/default/dso_loader.cc:64] Could not load dynamic library 'libnvinfer_plugin.so.7'; dlerror: libnvinfer_plugin.so.7: cannot open shared object file: No such file or directory\n",
      "2025-03-15 09:59:15.818032: W tensorflow/compiler/tf2tensorrt/utils/py_utils.cc:38] TF-TRT Warning: Cannot dlopen some TensorRT libraries. If you would like to use Nvidia GPU with TensorRT, please make sure the missing libraries mentioned above are installed properly.\n",
      "2025-03-15 09:59:16.679180: W tensorflow/compiler/xla/stream_executor/platform/default/dso_loader.cc:64] Could not load dynamic library 'libcudnn.so.8'; dlerror: libcudnn.so.8: cannot open shared object file: No such file or directory\n",
      "2025-03-15 09:59:16.679234: W tensorflow/core/common_runtime/gpu/gpu_device.cc:1934] Cannot dlopen some GPU libraries. Please make sure the missing libraries mentioned above are installed properly if you would like to use GPU. Follow the guide at https://www.tensorflow.org/install/gpu for how to download and setup the required libraries for your platform.\n",
      "Skipping registering GPU devices...\n"
     ]
    },
    {
     "name": "stdout",
     "output_type": "stream",
     "text": [
      "WARNING:tensorflow:No training configuration found in the save file, so the model was *not* compiled. Compile it manually.\n"
     ]
    }
   ],
   "execution_count": 1
  },
  {
   "metadata": {
    "ExecuteTime": {
     "end_time": "2025-03-15T09:09:03.063946Z",
     "start_time": "2025-03-15T09:09:01.985839Z"
    }
   },
   "cell_type": "code",
   "source": [
    "# test\n",
    "cddd_rep = trained_encoder_model.predict(tokenizer.tokenize('CC(C)(C)c1ccc2occ(CC(=O)Nc3ccccc3F)c2c1').reshape(1,-1))\n",
    "\n",
    "print('CDDD representation:')\n",
    "print(cddd_rep.shape)\n",
    "cddd_rep"
   ],
   "id": "82ceb8f2a6ab241b",
   "outputs": [
    {
     "name": "stdout",
     "output_type": "stream",
     "text": [
      "1/1 [==============================] - 0s 432ms/step\n",
      "1/1 [==============================] - 1s 516ms/step\n",
      "CDDD representation:\n",
      "(1, 512)\n"
     ]
    },
    {
     "data": {
      "text/plain": [
       "array([[ 1.        ,  1.        , -0.99998516, -1.        , -1.        ,\n",
       "         1.        ,  1.        ,  1.        , -1.        , -1.        ,\n",
       "         1.        , -1.        , -1.        ,  1.        ,  1.        ,\n",
       "        -1.        , -1.        ,  1.        , -1.        ,  0.999995  ,\n",
       "         1.        ,  1.        ,  1.        ,  1.        , -1.        ,\n",
       "        -1.        , -1.        , -1.        , -1.        , -1.        ,\n",
       "         0.9999974 , -1.        , -1.        ,  1.        ,  1.        ,\n",
       "        -1.        , -1.        , -1.        ,  1.        ,  1.        ,\n",
       "         1.        ,  0.9999982 , -1.        ,  0.9998153 ,  1.        ,\n",
       "        -1.        , -1.        ,  1.        , -1.        , -1.        ,\n",
       "        -1.        , -1.        , -1.        , -1.        ,  1.        ,\n",
       "        -1.        ,  1.        , -1.        , -1.        ,  1.        ,\n",
       "         1.        , -1.        , -1.        , -1.        ,  1.        ,\n",
       "        -1.        ,  1.        ,  1.        , -1.        ,  1.        ,\n",
       "        -1.        ,  1.        , -1.        ,  1.        , -1.        ,\n",
       "        -1.        , -1.        ,  1.        ,  1.        , -1.        ,\n",
       "        -1.        ,  1.        , -1.        ,  1.        ,  1.        ,\n",
       "        -1.        , -1.        , -1.        ,  1.        , -1.        ,\n",
       "        -1.        , -1.        ,  1.        ,  0.99999964, -1.        ,\n",
       "        -1.        , -1.        , -1.        , -1.        , -1.        ,\n",
       "         1.        , -1.        ,  1.        ,  1.        , -1.        ,\n",
       "        -1.        , -1.        , -1.        , -1.        ,  1.        ,\n",
       "         1.        , -1.        , -0.99999964,  1.        , -0.9999994 ,\n",
       "         1.        , -1.        ,  1.        ,  1.        ,  1.        ,\n",
       "        -0.9999996 ,  0.9999962 ,  1.        ,  0.99999946, -1.        ,\n",
       "         1.        , -1.        ,  1.        ,  1.        ,  1.        ,\n",
       "         1.        , -1.        , -1.        ,  1.        , -1.        ,\n",
       "         1.        , -1.        , -1.        ,  1.        ,  1.        ,\n",
       "         1.        ,  1.        ,  1.        , -1.        ,  1.        ,\n",
       "         1.        ,  1.        , -1.        ,  1.        ,  1.        ,\n",
       "        -1.        , -1.        ,  1.        , -1.        ,  1.        ,\n",
       "         1.        , -1.        ,  1.        , -1.        ,  0.9999995 ,\n",
       "         1.        , -1.        ,  1.        ,  1.        , -0.9999982 ,\n",
       "         1.        , -1.        , -1.        ,  1.        ,  1.        ,\n",
       "        -1.        , -1.        ,  1.        , -1.        , -1.        ,\n",
       "         1.        , -1.        , -1.        ,  1.        ,  0.99999946,\n",
       "        -1.        ,  1.        , -1.        ,  0.99999624,  1.        ,\n",
       "        -1.        ,  1.        , -1.        ,  1.        ,  1.        ,\n",
       "         1.        , -1.        , -1.        ,  1.        ,  1.        ,\n",
       "        -1.        , -1.        ,  1.        , -1.        ,  0.9999964 ,\n",
       "        -0.9999928 , -1.        , -1.        , -1.        ,  1.        ,\n",
       "         1.        , -1.        ,  1.        ,  1.        , -1.        ,\n",
       "        -1.        , -1.        ,  1.        , -1.        , -1.        ,\n",
       "         0.9999997 , -1.        , -1.        ,  1.        , -1.        ,\n",
       "        -1.        , -1.        ,  1.        , -1.        , -0.9999957 ,\n",
       "         1.        , -1.        , -1.        , -1.        ,  1.        ,\n",
       "         1.        , -1.        , -1.        ,  1.        ,  1.        ,\n",
       "         1.        ,  1.        , -1.        , -1.        ,  1.        ,\n",
       "         1.        ,  1.        , -1.        ,  1.        ,  1.        ,\n",
       "        -1.        ,  1.        , -1.        ,  1.        ,  1.        ,\n",
       "        -1.        , -1.        ,  1.        ,  1.        , -1.        ,\n",
       "         1.        , -1.        ,  1.        ,  1.        ,  0.9999902 ,\n",
       "         1.        ,  1.        , -1.        , -1.        , -1.        ,\n",
       "         1.        ,  1.        , -0.9999995 , -1.        ,  1.        ,\n",
       "        -1.        , -1.        ,  1.        ,  1.        , -1.        ,\n",
       "         1.        , -1.        ,  1.        , -1.        , -1.        ,\n",
       "         1.        , -1.        , -0.99999964, -1.        ,  1.        ,\n",
       "        -1.        , -1.        ,  1.        , -1.        ,  0.99999624,\n",
       "         1.        , -1.        ,  1.        ,  1.        ,  1.        ,\n",
       "         1.        , -1.        , -1.        ,  1.        ,  0.9999982 ,\n",
       "         0.99999654,  1.        , -1.        ,  1.        ,  1.        ,\n",
       "        -1.        ,  1.        , -0.9999982 ,  1.        , -1.        ,\n",
       "         1.        ,  1.        , -1.        ,  1.        ,  1.        ,\n",
       "        -1.        ,  1.        ,  1.        ,  0.9999993 ,  1.        ,\n",
       "         1.        , -1.        , -1.        , -1.        , -0.9999997 ,\n",
       "        -1.        , -1.        ,  1.        , -1.        , -1.        ,\n",
       "         1.        ,  1.        , -1.        ,  1.        , -1.        ,\n",
       "         0.99999964, -1.        ,  1.        ,  1.        ,  1.        ,\n",
       "        -1.        , -1.        ,  1.        , -1.        , -1.        ,\n",
       "         1.        , -1.        ,  1.        ,  1.        , -1.        ,\n",
       "        -1.        ,  1.        ,  1.        , -1.        ,  1.        ,\n",
       "        -1.        ,  1.        , -1.        ,  1.        , -1.        ,\n",
       "         1.        , -1.        , -1.        , -1.        , -1.        ,\n",
       "        -1.        ,  1.        , -1.        ,  1.        ,  1.        ,\n",
       "         1.        , -1.        , -1.        ,  1.        ,  1.        ,\n",
       "        -1.        ,  1.        ,  1.        , -1.        , -1.        ,\n",
       "         0.9999997 , -1.        , -1.        ,  1.        ,  1.        ,\n",
       "        -1.        ,  1.        , -1.        ,  1.        ,  1.        ,\n",
       "         1.        , -1.        , -1.        , -0.99999964,  1.        ,\n",
       "         1.        , -1.        , -0.9999982 ,  1.        ,  1.        ,\n",
       "        -1.        ,  1.        , -1.        ,  1.        ,  1.        ,\n",
       "         1.        ,  1.        ,  1.        , -1.        ,  1.        ,\n",
       "         1.        , -1.        ,  1.        ,  1.        ,  1.        ,\n",
       "         1.        , -1.        ,  1.        ,  1.        , -1.        ,\n",
       "        -1.        ,  0.9999986 , -1.        , -1.        ,  1.        ,\n",
       "        -1.        ,  1.        , -1.        ,  1.        , -0.9999985 ,\n",
       "         1.        ,  1.        , -1.        , -1.        ,  1.        ,\n",
       "         1.        , -1.        ,  1.        , -1.        , -1.        ,\n",
       "         1.        , -1.        ,  1.        ,  0.99999225,  1.        ,\n",
       "         1.        , -1.        ,  1.        , -1.        , -1.        ,\n",
       "        -1.        ,  1.        ,  1.        ,  1.        ,  1.        ,\n",
       "         0.9999994 ,  1.        , -1.        , -1.        , -1.        ,\n",
       "         1.        , -1.        , -1.        , -1.        , -0.9999986 ,\n",
       "        -1.        , -1.        , -1.        , -1.        ,  1.        ,\n",
       "         1.        ,  1.        , -1.        , -1.        , -1.        ,\n",
       "        -1.        , -1.        , -1.        , -1.        ,  1.        ,\n",
       "         1.        ,  1.        , -1.        , -0.9999962 , -1.        ,\n",
       "        -1.        ,  1.        ,  1.        , -1.        ,  1.        ,\n",
       "        -1.        ,  1.        ,  1.        , -1.        , -1.        ,\n",
       "         1.        , -1.        , -1.        ,  1.        , -1.        ,\n",
       "         1.        ,  1.        ,  1.        , -1.        ,  0.9999975 ,\n",
       "         0.99999946, -1.        , -1.        ,  1.        , -1.        ,\n",
       "         1.        , -1.        ]], dtype=float32)"
      ]
     },
     "execution_count": 18,
     "metadata": {},
     "output_type": "execute_result"
    }
   ],
   "execution_count": 18
  },
  {
   "metadata": {
    "ExecuteTime": {
     "end_time": "2025-03-15T08:59:26.186033Z",
     "start_time": "2025-03-15T08:59:25.460565Z"
    }
   },
   "cell_type": "code",
   "source": [
    "df = pd.read_csv('./data/all_chembl.smi.zst', header=None, names=['smiles'])\n",
    "print(df.info())\n",
    "df.head(10)"
   ],
   "id": "c44f32f5f4c168b7",
   "outputs": [
    {
     "name": "stdout",
     "output_type": "stream",
     "text": [
      "<class 'pandas.core.frame.DataFrame'>\n",
      "RangeIndex: 698595 entries, 0 to 698594\n",
      "Data columns (total 1 columns):\n",
      " #   Column  Non-Null Count   Dtype \n",
      "---  ------  --------------   ----- \n",
      " 0   smiles  698595 non-null  object\n",
      "dtypes: object(1)\n",
      "memory usage: 5.3+ MB\n",
      "None\n"
     ]
    },
    {
     "data": {
      "text/plain": [
       "                                                     smiles\n",
       "0    CC1(C)CCC(C)(C)c2cc(-c3cccc(-c4ccc(C(=O)O)cc4)n3)ccc21\n",
       "1     Cc1cc2c(cc1C1=NOC(c3ccc(C(=O)O)cc3)C1)C(C)(C)CCC2(C)C\n",
       "2   Cc1ccc(-c2ccc(C(=O)O)cc2)cc1-c1ccc2c(c1)C(C)(C)CCC2(C)C\n",
       "3    Cc1cc2c(cc1-c1ncc(-c3ccc(C(=O)O)cc3)s1)C(C)(C)CCC2(C)C\n",
       "4  Cc1ccc(-c2ccc(C(=O)O)cc2)cc1-c1cc2c(cc1C)C(C)(C)CCC2(C)C\n",
       "5   Cc1cc2c(cc1-c1cccc(-c3ccc(C(=O)O)cc3)n1)C(C)(C)CCC2(C)C\n",
       "6    CC1(C)CCC(C)(C)c2cc(-c3cccc(-c4ccc(C(=O)O)cc4)c3)ccc21\n",
       "7         CC1(C)CCC(C)(C)c2cc(-c3ccc4cc(C(=O)O)ccc4c3)ccc21\n",
       "8          CC(=Cc1ccc(C(=O)O)cc1)c1ccc2c(c1)C(C)(C)CCC2(C)C\n",
       "9       CC(C)=C(c1ccc(C(=O)O)cc1)c1ccc2c(c1)C(C)(C)CCC2(C)C"
      ],
      "text/html": [
       "<div>\n",
       "<style scoped>\n",
       "    .dataframe tbody tr th:only-of-type {\n",
       "        vertical-align: middle;\n",
       "    }\n",
       "\n",
       "    .dataframe tbody tr th {\n",
       "        vertical-align: top;\n",
       "    }\n",
       "\n",
       "    .dataframe thead th {\n",
       "        text-align: right;\n",
       "    }\n",
       "</style>\n",
       "<table border=\"1\" class=\"dataframe\">\n",
       "  <thead>\n",
       "    <tr style=\"text-align: right;\">\n",
       "      <th></th>\n",
       "      <th>smiles</th>\n",
       "    </tr>\n",
       "  </thead>\n",
       "  <tbody>\n",
       "    <tr>\n",
       "      <th>0</th>\n",
       "      <td>CC1(C)CCC(C)(C)c2cc(-c3cccc(-c4ccc(C(=O)O)cc4)n3)ccc21</td>\n",
       "    </tr>\n",
       "    <tr>\n",
       "      <th>1</th>\n",
       "      <td>Cc1cc2c(cc1C1=NOC(c3ccc(C(=O)O)cc3)C1)C(C)(C)CCC2(C)C</td>\n",
       "    </tr>\n",
       "    <tr>\n",
       "      <th>2</th>\n",
       "      <td>Cc1ccc(-c2ccc(C(=O)O)cc2)cc1-c1ccc2c(c1)C(C)(C)CCC2(C)C</td>\n",
       "    </tr>\n",
       "    <tr>\n",
       "      <th>3</th>\n",
       "      <td>Cc1cc2c(cc1-c1ncc(-c3ccc(C(=O)O)cc3)s1)C(C)(C)CCC2(C)C</td>\n",
       "    </tr>\n",
       "    <tr>\n",
       "      <th>4</th>\n",
       "      <td>Cc1ccc(-c2ccc(C(=O)O)cc2)cc1-c1cc2c(cc1C)C(C)(C)CCC2(C)C</td>\n",
       "    </tr>\n",
       "    <tr>\n",
       "      <th>5</th>\n",
       "      <td>Cc1cc2c(cc1-c1cccc(-c3ccc(C(=O)O)cc3)n1)C(C)(C)CCC2(C)C</td>\n",
       "    </tr>\n",
       "    <tr>\n",
       "      <th>6</th>\n",
       "      <td>CC1(C)CCC(C)(C)c2cc(-c3cccc(-c4ccc(C(=O)O)cc4)c3)ccc21</td>\n",
       "    </tr>\n",
       "    <tr>\n",
       "      <th>7</th>\n",
       "      <td>CC1(C)CCC(C)(C)c2cc(-c3ccc4cc(C(=O)O)ccc4c3)ccc21</td>\n",
       "    </tr>\n",
       "    <tr>\n",
       "      <th>8</th>\n",
       "      <td>CC(=Cc1ccc(C(=O)O)cc1)c1ccc2c(c1)C(C)(C)CCC2(C)C</td>\n",
       "    </tr>\n",
       "    <tr>\n",
       "      <th>9</th>\n",
       "      <td>CC(C)=C(c1ccc(C(=O)O)cc1)c1ccc2c(c1)C(C)(C)CCC2(C)C</td>\n",
       "    </tr>\n",
       "  </tbody>\n",
       "</table>\n",
       "</div>"
      ]
     },
     "execution_count": 3,
     "metadata": {},
     "output_type": "execute_result"
    }
   ],
   "execution_count": 3
  },
  {
   "metadata": {
    "ExecuteTime": {
     "end_time": "2025-03-15T08:59:26.449441Z",
     "start_time": "2025-03-15T08:59:26.282175Z"
    }
   },
   "cell_type": "code",
   "source": [
    "from tqdm import tqdm\n",
    "\n",
    "for smi in tqdm(df.smiles[:10000]):\n",
    "    try:\n",
    "        tokenizer.tokenize(smi)\n",
    "    except Exception as e:\n",
    "        print(e)\n",
    "        print(smi)"
   ],
   "id": "9555191db8ccb659",
   "outputs": [
    {
     "name": "stderr",
     "output_type": "stream",
     "text": [
      "  0%|          | 0/10000 [00:00<?, ?it/s]"
     ]
    },
    {
     "name": "stdout",
     "output_type": "stream",
     "text": [
      "'[As]'\n",
      "Nc1cccc2c([As](=O)(O)O)cccc12\n",
      "'[As]'\n",
      "Nc1cccc2ccc([As](=O)(O)O)cc12\n",
      "'[s+]'\n",
      "CN(C)c1ccc2nc3ccc(N(C)C)cc3[s+]c2c1\n",
      "'B'\n",
      "CCOC(=O)C(=Cc1ccc(B(O)O)cc1)C(=O)c1sc(Nc2ccc(Cl)cc2)nc1N(C)C\n",
      "'[As]'\n",
      "Nc1nc(N)nc(Nc2ccc([As]3SCC(CO)S3)cc2)n1\n",
      "'8'\n",
      "C=CC[N+]12CCC34c5ccccc5N5C=C6C7CC8C9(CC[N+]8(CC=C)CC7=CCO)c7ccccc7N(C=C(C(CC31)C(=CCO)C2)C54)C69\n"
     ]
    },
    {
     "name": "stderr",
     "output_type": "stream",
     "text": [
      "100%|██████████| 10000/10000 [00:00<00:00, 62885.00it/s]"
     ]
    },
    {
     "name": "stdout",
     "output_type": "stream",
     "text": [
      "'8'\n",
      "COc1ccc(C[N+]23CCC45c6ccccc6N6C7OCC=C8C[N+]9(Cc%10ccc(OC)c(OC)c%10)CCC%10%11c%12ccccc%12N(C%12OCC=C(C2)C(CC43)C%12C65)C%10C7C8CC%119)cc1OC\n",
      "'8'\n",
      "C#CC[N+]12CCC34c5ccccc5N5C6OCC=C7C[N+]8(CC#C)CCC9%10c%11ccccc%11N(C%11OCC=C(C1)C(CC32)C%11C54)C9C6C7CC%108\n",
      "'8'\n",
      "O=C1c2ccccc2C(=O)N1CCC[N+]12CCC34c5ccccc5N5C6OCC=C7C[N+]8(CCCN9C(=O)c%10ccccc%10C9=O)CCC9%10c%11ccccc%11N(C%11OCC=C(C1)C(CC32)C%11C54)C9C6C7CC%108\n",
      "'8'\n",
      "C1=C2CN3CCC45c6ccccc6N6C7OCC=C8CN9CCC%10%11c%12ccccc%12N(C(OC1)C(C2CC34)C65)C%10C7C8CC9%11\n",
      "'8'\n",
      "Brc1ccc(C[N+]23CCC45c6ccccc6N6C7OCC=C8C[N+]9(Cc%10ccc(Br)cc%10)CCC%10%11c%12ccccc%12N(C%12OCC=C(C2)C(CC43)C%12C65)C%10C7C8CC%119)cc1\n",
      "'8'\n",
      "CCC[N+]12CCC34c5ccccc5N5C6OCC=C7C[N+]8(CCC)CCC9%10c%11ccccc%11N(C%11OCC=C(C1)C(CC32)C%11C54)C9C6C7CC%108\n",
      "'8'\n",
      "C1=C2C[N+]3(Cc4ccccc4)CCC45c6ccccc6N6C7OCC=C8C[N+]9(Cc%10ccccc%10)CCC%10%11c%12ccccc%12N(C(OC1)C(C2CC43)C65)C%10C7C8CC%119\n",
      "'8'\n",
      "FC(F)(F)c1ccc(C[N+]23CCC45c6ccccc6N6C7OCC=C8C[N+]9(Cc%10ccc(C(F)(F)F)cc%10)CCC%10%11c%12ccccc%12N(C%12OCC=C(C2)C(CC43)C%12C65)C%10C7C8CC%119)cc1\n",
      "'8'\n",
      "C[N+]12CCC34c5ccccc5N5C6OCC=C7C[N+]8(C)CCC9%10c%11ccccc%11N(C%11OCC=C(C1)C(CC32)C%11C54)C9C6C7CC%108\n",
      "'8'\n",
      "C=CC[N+]12CCC34c5ccccc5N5C6OCC=C7C[N+]8(CC=C)CCC9%10c%11ccccc%11N(C%11OCC=C(C1)C(CC32)C%11C54)C9C6C7CC%108\n",
      "'8'\n",
      "O=[N+]([O-])c1ccc(C[N+]23CCC45c6ccccc6N6C7OCC=C8C[N+]9(Cc%10ccc([N+](=O)[O-])cc%10)CCC%10%11c%12ccccc%12N(C%12OCC=C(C2)C(CC43)C%12C65)C%10C7C8CC%119)cc1\n",
      "'8'\n",
      "C1=C2C[N+]3(Cc4ccc5ccccc5c4)CCC45c6ccccc6N6C7OCC=C8C[N+]9(Cc%10ccc%11ccccc%11c%10)CCC%10%11c%12ccccc%12N(C(OC1)C(C2CC43)C65)C%10C7C8CC%119\n",
      "'[BH2-]'\n",
      "CN1CCC2CCc3cc[n+]([BH2-]C#N)cc3C21\n",
      "'[BH2-]'\n",
      "CN1CCCC1c1ccc[n+]([BH2-]C#N)c1\n"
     ]
    },
    {
     "name": "stderr",
     "output_type": "stream",
     "text": [
      "\n"
     ]
    }
   ],
   "execution_count": 4
  },
  {
   "metadata": {
    "ExecuteTime": {
     "end_time": "2025-03-15T08:59:26.612859Z",
     "start_time": "2025-03-15T08:59:26.609721Z"
    }
   },
   "cell_type": "code",
   "source": [
    "def tokenize(smi):\n",
    "    try:\n",
    "        token = tokenizer.tokenize(smi).reshape(1, -1)\n",
    "        if token.shape[1] > 73:\n",
    "            return None\n",
    "        return token\n",
    "    except:\n",
    "        return None"
   ],
   "id": "da20266578815d34",
   "outputs": [],
   "execution_count": 5
  },
  {
   "metadata": {
    "ExecuteTime": {
     "end_time": "2025-03-15T08:59:40.594944Z",
     "start_time": "2025-03-15T08:59:26.777962Z"
    }
   },
   "cell_type": "code",
   "source": "df['tokens'] = df.smiles.apply(tokenize)",
   "id": "d5e022d123b5474",
   "outputs": [],
   "execution_count": 6
  },
  {
   "metadata": {
    "ExecuteTime": {
     "end_time": "2025-03-15T08:59:40.812207Z",
     "start_time": "2025-03-15T08:59:40.626108Z"
    }
   },
   "cell_type": "code",
   "source": [
    "df.dropna(subset='tokens', inplace=True)\n",
    "df.info()"
   ],
   "id": "6aec77c0bd9033d8",
   "outputs": [
    {
     "name": "stdout",
     "output_type": "stream",
     "text": [
      "<class 'pandas.core.frame.DataFrame'>\n",
      "Index: 630201 entries, 0 to 698593\n",
      "Data columns (total 2 columns):\n",
      " #   Column  Non-Null Count   Dtype \n",
      "---  ------  --------------   ----- \n",
      " 0   smiles  630201 non-null  object\n",
      " 1   tokens  630201 non-null  object\n",
      "dtypes: object(2)\n",
      "memory usage: 14.4+ MB\n"
     ]
    }
   ],
   "execution_count": 7
  },
  {
   "metadata": {
    "ExecuteTime": {
     "end_time": "2025-03-15T08:59:40.897098Z",
     "start_time": "2025-03-15T08:59:40.894487Z"
    }
   },
   "cell_type": "code",
   "source": [
    "if hasattr(tqdm, '_instances'):\n",
    "    tqdm._instances.clear()"
   ],
   "id": "2ad9cc821ea0d624",
   "outputs": [],
   "execution_count": 8
  },
  {
   "metadata": {
    "ExecuteTime": {
     "end_time": "2025-03-15T09:00:43.706443Z",
     "start_time": "2025-03-15T09:00:40.399764Z"
    }
   },
   "cell_type": "code",
   "source": [
    "res = trained_encoder_model.predict(np.vstack(df.tokens[:100]), verbose=0)\n",
    "res.shape"
   ],
   "id": "7a64d779d7c078e7",
   "outputs": [
    {
     "data": {
      "text/plain": [
       "(100, 512)"
      ]
     },
     "execution_count": 10,
     "metadata": {},
     "output_type": "execute_result"
    }
   ],
   "execution_count": 10
  },
  {
   "metadata": {
    "ExecuteTime": {
     "end_time": "2025-03-15T09:03:31.576202Z",
     "start_time": "2025-03-15T09:03:27.861034Z"
    }
   },
   "cell_type": "code",
   "source": [
    "def chunked(series, n):\n",
    "    \"\"\"Yield successive n-sized chunks from l.\"\"\"\n",
    "    for i in range(0, len(series), n):\n",
    "        yield series[i:i + n]\n",
    "\n",
    "results = []\n",
    "for chunk in tqdm(chunked(df.tokens, 100), total=len(df) // 100):\n",
    "    results.append(trained_encoder_model.predict(np.vstack(chunk), verbose=0))\n",
    "\n",
    "results = np.vstack(results)\n",
    "results.shape"
   ],
   "id": "8b5c1708557d5194",
   "outputs": [
    {
     "name": "stderr",
     "output_type": "stream",
     "text": [
      "  0%|          | 10/63020 [00:03<6:29:07,  2.70it/s]\n"
     ]
    },
    {
     "data": {
      "text/plain": [
       "(100, 512)"
      ]
     },
     "execution_count": 15,
     "metadata": {},
     "output_type": "execute_result"
    }
   ],
   "execution_count": 15
  },
  {
   "metadata": {
    "ExecuteTime": {
     "end_time": "2025-03-15T09:03:42.944132Z",
     "start_time": "2025-03-15T09:03:42.940674Z"
    }
   },
   "cell_type": "code",
   "source": "results",
   "id": "700da28207ce6d4c",
   "outputs": [
    {
     "data": {
      "text/plain": [
       "array([[ 1.        ,  1.        , -0.9999833 , ..., -1.        ,\n",
       "         1.        , -1.        ],\n",
       "       [ 1.        ,  1.        , -0.9999853 , ..., -1.        ,\n",
       "         1.        , -1.        ],\n",
       "       [ 1.        ,  1.        , -0.9999854 , ..., -1.        ,\n",
       "         1.        , -1.        ],\n",
       "       ...,\n",
       "       [ 1.        ,  1.        , -0.99998516, ..., -1.        ,\n",
       "         1.        , -1.        ],\n",
       "       [ 1.        ,  1.        , -0.9999853 , ..., -1.        ,\n",
       "         1.        , -1.        ],\n",
       "       [ 1.        ,  1.        , -0.9999853 , ..., -1.        ,\n",
       "         1.        , -1.        ]], dtype=float32)"
      ]
     },
     "execution_count": 16,
     "metadata": {},
     "output_type": "execute_result"
    }
   ],
   "execution_count": 16
  },
  {
   "metadata": {},
   "cell_type": "code",
   "outputs": [],
   "execution_count": null,
   "source": "",
   "id": "1bc4c3219ba12358"
  },
  {
   "metadata": {},
   "cell_type": "code",
   "outputs": [],
   "execution_count": null,
   "source": "",
   "id": "ae1effb4199e38b1"
  },
  {
   "metadata": {
    "ExecuteTime": {
     "end_time": "2025-03-15T08:35:26.127343Z",
     "start_time": "2025-03-15T08:35:26.081685Z"
    }
   },
   "cell_type": "code",
   "source": [
    "df.loc['cddd'] = None\n",
    "df.loc[:9, 'cddd'] = results"
   ],
   "id": "dbeb4d543fc0f17a",
   "outputs": [],
   "execution_count": 182
  },
  {
   "metadata": {
    "ExecuteTime": {
     "end_time": "2025-03-15T08:35:39.720961Z",
     "start_time": "2025-03-15T08:35:39.710348Z"
    }
   },
   "cell_type": "code",
   "source": "df.loc[:9, 'cddd'].apply(np.squeeze)",
   "id": "e393e9802e6933e0",
   "outputs": [
    {
     "data": {
      "text/plain": [
       "0      [1.0, 1.0, -0.99998325, -1.0, -1.0, 1.0, 1.0, 1.0, -1.0, -1.0, 1.0, -1.0, -1.0, 1.0, 1.0, -1.0, -1.0, 1.0, -1.0, 0.99999505, 1.0, 1.0, 1.0, 1.0, -1.0, -1.0, -1.0, -1.0, -1.0, -1.0, 0.9999973, -1.0, -1.0, 1.0, 1.0, -1.0, -1.0, -1.0, 1.0, 1.0, 1.0, 0.99999803, -1.0, 0.9998113, 1.0, -1.0, -1.0, 1.0, -1.0, -1.0, -1.0, -1.0, -1.0, -1.0, 1.0, -1.0, 1.0, -1.0, -1.0, 1.0, 1.0, -1.0, -1.0, -1.0, 1.0, -1.0, 1.0, 1.0, -1.0, 1.0, -1.0, 1.0, -1.0, 1.0, -1.0, -1.0, -1.0, 1.0, 1.0, -1.0, -1.0, 1.0, -1.0, 1.0, 1.0, -1.0, -1.0, -1.0, 1.0, -1.0, -1.0, -1.0, 1.0, 0.9999995, -1.0, -1.0, -1.0, -1.0, -1.0, -1.0, ...]\n",
       "1       [1.0, 1.0, -0.9999854, -1.0, -1.0, 1.0, 1.0, 1.0, -1.0, -1.0, 1.0, -1.0, -1.0, 1.0, 1.0, -1.0, -1.0, 1.0, -1.0, 0.99999493, 1.0, 1.0, 1.0, 1.0, -1.0, -1.0, -1.0, -1.0, -1.0, -1.0, 0.9999975, -1.0, -1.0, 1.0, 1.0, -1.0, -1.0, -1.0, 1.0, 1.0, 1.0, 0.99999833, -1.0, 0.9998176, 1.0, -1.0, -1.0, 1.0, -1.0, -1.0, -1.0, -1.0, -1.0, -1.0, 1.0, -1.0, 1.0, -1.0, -1.0, 1.0, 1.0, -1.0, -1.0, -1.0, 1.0, -1.0, 1.0, 1.0, -1.0, 1.0, -1.0, 1.0, -1.0, 1.0, -1.0, -1.0, -1.0, 1.0, 1.0, -1.0, -1.0, 1.0, -1.0, 1.0, 1.0, -1.0, -1.0, -1.0, 1.0, -1.0, -1.0, -1.0, 1.0, 0.9999997, -1.0, -1.0, -1.0, -1.0, -1.0, -1.0, ...]\n",
       "2      [1.0, 1.0, -0.9999853, -1.0, -1.0, 1.0, 1.0, 1.0, -1.0, -1.0, 1.0, -1.0, -1.0, 1.0, 1.0, -1.0, -1.0, 1.0, -1.0, 0.99999493, 1.0, 1.0, 1.0, 1.0, -1.0, -1.0, -1.0, -1.0, -1.0, -1.0, 0.99999756, -1.0, -1.0, 1.0, 1.0, -1.0, -1.0, -1.0, 1.0, 1.0, 1.0, 0.99999833, -1.0, 0.9998147, 1.0, -1.0, -1.0, 1.0, -1.0, -1.0, -1.0, -1.0, -1.0, -1.0, 1.0, -1.0, 1.0, -1.0, -1.0, 1.0, 1.0, -1.0, -1.0, -1.0, 1.0, -1.0, 1.0, 1.0, -1.0, 1.0, -1.0, 1.0, -1.0, 1.0, -1.0, -1.0, -1.0, 1.0, 1.0, -1.0, -1.0, 1.0, -1.0, 1.0, 1.0, -1.0, -1.0, -1.0, 1.0, -1.0, -1.0, -1.0, 1.0, 0.9999997, -1.0, -1.0, -1.0, -1.0, -1.0, -1.0, ...]\n",
       "3      [1.0, 1.0, -0.99998516, -1.0, -1.0, 1.0, 1.0, 1.0, -1.0, -1.0, 1.0, -1.0, -1.0, 1.0, 1.0, -1.0, -1.0, 1.0, -1.0, 0.99999493, 1.0, 1.0, 1.0, 1.0, -1.0, -1.0, -1.0, -1.0, -1.0, -1.0, 0.9999974, -1.0, -1.0, 1.0, 1.0, -1.0, -1.0, -1.0, 1.0, 1.0, 1.0, 0.9999981, -1.0, 0.9998153, 1.0, -1.0, -1.0, 1.0, -1.0, -1.0, -1.0, -1.0, -1.0, -1.0, 1.0, -1.0, 1.0, -1.0, -1.0, 1.0, 1.0, -1.0, -1.0, -1.0, 1.0, -1.0, 1.0, 1.0, -1.0, 1.0, -1.0, 1.0, -1.0, 1.0, -1.0, -1.0, -1.0, 1.0, 1.0, -1.0, -1.0, 1.0, -1.0, 1.0, 1.0, -1.0, -1.0, -1.0, 1.0, -1.0, -1.0, -1.0, 1.0, 0.99999964, -1.0, -1.0, -1.0, -1.0, -1.0, -1.0, ...]\n",
       "4        [1.0, 1.0, -0.9999853, -1.0, -1.0, 1.0, 1.0, 1.0, -1.0, -1.0, 1.0, -1.0, -1.0, 1.0, 1.0, -1.0, -1.0, 1.0, -1.0, 0.99999493, 1.0, 1.0, 1.0, 1.0, -1.0, -1.0, -1.0, -1.0, -1.0, -1.0, 0.9999976, -1.0, -1.0, 1.0, 1.0, -1.0, -1.0, -1.0, 1.0, 1.0, 1.0, 0.9999982, -1.0, 0.9998149, 1.0, -1.0, -1.0, 1.0, -1.0, -1.0, -1.0, -1.0, -1.0, -1.0, 1.0, -1.0, 1.0, -1.0, -1.0, 1.0, 1.0, -1.0, -1.0, -1.0, 1.0, -1.0, 1.0, 1.0, -1.0, 1.0, -1.0, 1.0, -1.0, 1.0, -1.0, -1.0, -1.0, 1.0, 1.0, -1.0, -1.0, 1.0, -1.0, 1.0, 1.0, -1.0, -1.0, -1.0, 1.0, -1.0, -1.0, -1.0, 1.0, 0.9999997, -1.0, -1.0, -1.0, -1.0, -1.0, -1.0, ...]\n",
       "5        [1.0, 1.0, -0.99998516, -1.0, -1.0, 1.0, 1.0, 1.0, -1.0, -1.0, 1.0, -1.0, -1.0, 1.0, 1.0, -1.0, -1.0, 1.0, -1.0, 0.999995, 1.0, 1.0, 1.0, 1.0, -1.0, -1.0, -1.0, -1.0, -1.0, -1.0, 0.9999974, -1.0, -1.0, 1.0, 1.0, -1.0, -1.0, -1.0, 1.0, 1.0, 1.0, 0.9999982, -1.0, 0.9998153, 1.0, -1.0, -1.0, 1.0, -1.0, -1.0, -1.0, -1.0, -1.0, -1.0, 1.0, -1.0, 1.0, -1.0, -1.0, 1.0, 1.0, -1.0, -1.0, -1.0, 1.0, -1.0, 1.0, 1.0, -1.0, 1.0, -1.0, 1.0, -1.0, 1.0, -1.0, -1.0, -1.0, 1.0, 1.0, -1.0, -1.0, 1.0, -1.0, 1.0, 1.0, -1.0, -1.0, -1.0, 1.0, -1.0, -1.0, -1.0, 1.0, 0.99999964, -1.0, -1.0, -1.0, -1.0, -1.0, -1.0, ...]\n",
       "6    [1.0, 1.0, -0.99998325, -1.0, -1.0, 1.0, 1.0, 1.0, -1.0, -1.0, 1.0, -1.0, -1.0, 1.0, 1.0, -1.0, -1.0, 1.0, -1.0, 0.99999493, 1.0, 1.0, 1.0, 1.0, -1.0, -1.0, -1.0, -1.0, -1.0, -1.0, 0.99999726, -1.0, -1.0, 1.0, 1.0, -1.0, -1.0, -1.0, 1.0, 1.0, 1.0, 0.99999815, -1.0, 0.9998113, 1.0, -1.0, -1.0, 1.0, -1.0, -1.0, -1.0, -1.0, -1.0, -1.0, 1.0, -1.0, 1.0, -1.0, -1.0, 1.0, 1.0, -1.0, -1.0, -1.0, 1.0, -1.0, 1.0, 1.0, -1.0, 1.0, -1.0, 1.0, -1.0, 1.0, -1.0, -1.0, -1.0, 1.0, 1.0, -1.0, -1.0, 1.0, -1.0, 1.0, 1.0, -1.0, -1.0, -1.0, 1.0, -1.0, -1.0, -1.0, 1.0, 0.99999964, -1.0, -1.0, -1.0, -1.0, -1.0, -1.0, ...]\n",
       "7      [1.0, 1.0, -0.9999832, -1.0, -1.0, 1.0, 1.0, 1.0, -1.0, -1.0, 1.0, -1.0, -1.0, 1.0, 1.0, -1.0, -1.0, 1.0, -1.0, 0.99999493, 1.0, 1.0, 1.0, 1.0, -1.0, -1.0, -1.0, -1.0, -1.0, -1.0, 0.9999973, -1.0, -1.0, 1.0, 1.0, -1.0, -1.0, -1.0, 1.0, 1.0, 1.0, 0.99999803, -1.0, 0.9998123, 1.0, -1.0, -1.0, 1.0, -1.0, -1.0, -1.0, -1.0, -1.0, -1.0, 1.0, -1.0, 1.0, -1.0, -1.0, 1.0, 1.0, -1.0, -1.0, -1.0, 1.0, -1.0, 1.0, 1.0, -1.0, 1.0, -1.0, 1.0, -1.0, 1.0, -1.0, -1.0, -1.0, 1.0, 1.0, -1.0, -1.0, 1.0, -1.0, 1.0, 1.0, -1.0, -1.0, -1.0, 1.0, -1.0, -1.0, -1.0, 1.0, 0.99999964, -1.0, -1.0, -1.0, -1.0, -1.0, -1.0, ...]\n",
       "8       [1.0, 1.0, -0.9999829, -1.0, -1.0, 1.0, 1.0, 1.0, -1.0, -1.0, 1.0, -1.0, -1.0, 1.0, 1.0, -1.0, -1.0, 1.0, -1.0, 0.99999505, 1.0, 1.0, 1.0, 1.0, -1.0, -1.0, -1.0, -1.0, -1.0, -1.0, 0.99999714, -1.0, -1.0, 1.0, 1.0, -1.0, -1.0, -1.0, 1.0, 1.0, 1.0, 0.9999979, -1.0, 0.9998099, 1.0, -1.0, -1.0, 1.0, -1.0, -1.0, -1.0, -1.0, -1.0, -1.0, 1.0, -1.0, 1.0, -1.0, -1.0, 1.0, 1.0, -1.0, -1.0, -1.0, 1.0, -1.0, 1.0, 1.0, -1.0, 1.0, -1.0, 1.0, -1.0, 1.0, -1.0, -1.0, -1.0, 1.0, 1.0, -1.0, -1.0, 1.0, -1.0, 1.0, 1.0, -1.0, -1.0, -1.0, 1.0, -1.0, -1.0, -1.0, 1.0, 0.9999995, -1.0, -1.0, -1.0, -1.0, -1.0, -1.0, ...]\n",
       "9      [1.0, 1.0, -0.9999829, -1.0, -1.0, 1.0, 1.0, 1.0, -1.0, -1.0, 1.0, -1.0, -1.0, 1.0, 1.0, -1.0, -1.0, 1.0, -1.0, 0.99999505, 1.0, 1.0, 1.0, 1.0, -1.0, -1.0, -1.0, -1.0, -1.0, -1.0, 0.9999973, -1.0, -1.0, 1.0, 1.0, -1.0, -1.0, -1.0, 1.0, 1.0, 1.0, 0.99999803, -1.0, 0.9998099, 1.0, -1.0, -1.0, 1.0, -1.0, -1.0, -1.0, -1.0, -1.0, -1.0, 1.0, -1.0, 1.0, -1.0, -1.0, 1.0, 1.0, -1.0, -1.0, -1.0, 1.0, -1.0, 1.0, 1.0, -1.0, 1.0, -1.0, 1.0, -1.0, 1.0, -1.0, -1.0, -1.0, 1.0, 1.0, -1.0, -1.0, 1.0, -1.0, 1.0, 1.0, -1.0, -1.0, -1.0, 1.0, -1.0, -1.0, -1.0, 1.0, 0.99999964, -1.0, -1.0, -1.0, -1.0, -1.0, -1.0, ...]\n",
       "Name: cddd, dtype: object"
      ]
     },
     "execution_count": 183,
     "metadata": {},
     "output_type": "execute_result"
    }
   ],
   "execution_count": 183
  },
  {
   "metadata": {
    "ExecuteTime": {
     "end_time": "2025-03-15T08:35:05.792206Z",
     "start_time": "2025-03-15T08:35:05.785317Z"
    }
   },
   "cell_type": "code",
   "source": "df['cddd']",
   "id": "b7b723e5af067b79",
   "outputs": [
    {
     "data": {
      "text/plain": [
       "0         [[1.0, 1.0, -0.99998325, -1.0, -1.0, 1.0, 1.0, 1.0, -1.0, -1.0, 1.0, -1.0, -1.0, 1.0, 1.0, -1.0, -1.0, 1.0, -1.0, 0.99999505, 1.0, 1.0, 1.0, 1.0, -1.0, -1.0, -1.0, -1.0, -1.0, -1.0, 0.9999973, -1.0, -1.0, 1.0, 1.0, -1.0, -1.0, -1.0, 1.0, 1.0, 1.0, 0.99999803, -1.0, 0.9998113, 1.0, -1.0, -1.0, 1.0, -1.0, -1.0, -1.0, -1.0, -1.0, -1.0, 1.0, -1.0, 1.0, -1.0, -1.0, 1.0, 1.0, -1.0, -1.0, -1.0, 1.0, -1.0, 1.0, 1.0, -1.0, 1.0, -1.0, 1.0, -1.0, 1.0, -1.0, -1.0, -1.0, 1.0, 1.0, -1.0, -1.0, 1.0, -1.0, 1.0, 1.0, -1.0, -1.0, -1.0, 1.0, -1.0, -1.0, -1.0, 1.0, 0.9999995, -1.0, -1.0, -1.0, -1.0, -1.0, -1.0, ...]]\n",
       "1          [[1.0, 1.0, -0.9999854, -1.0, -1.0, 1.0, 1.0, 1.0, -1.0, -1.0, 1.0, -1.0, -1.0, 1.0, 1.0, -1.0, -1.0, 1.0, -1.0, 0.99999493, 1.0, 1.0, 1.0, 1.0, -1.0, -1.0, -1.0, -1.0, -1.0, -1.0, 0.9999975, -1.0, -1.0, 1.0, 1.0, -1.0, -1.0, -1.0, 1.0, 1.0, 1.0, 0.99999833, -1.0, 0.9998176, 1.0, -1.0, -1.0, 1.0, -1.0, -1.0, -1.0, -1.0, -1.0, -1.0, 1.0, -1.0, 1.0, -1.0, -1.0, 1.0, 1.0, -1.0, -1.0, -1.0, 1.0, -1.0, 1.0, 1.0, -1.0, 1.0, -1.0, 1.0, -1.0, 1.0, -1.0, -1.0, -1.0, 1.0, 1.0, -1.0, -1.0, 1.0, -1.0, 1.0, 1.0, -1.0, -1.0, -1.0, 1.0, -1.0, -1.0, -1.0, 1.0, 0.9999997, -1.0, -1.0, -1.0, -1.0, -1.0, -1.0, ...]]\n",
       "2         [[1.0, 1.0, -0.9999853, -1.0, -1.0, 1.0, 1.0, 1.0, -1.0, -1.0, 1.0, -1.0, -1.0, 1.0, 1.0, -1.0, -1.0, 1.0, -1.0, 0.99999493, 1.0, 1.0, 1.0, 1.0, -1.0, -1.0, -1.0, -1.0, -1.0, -1.0, 0.99999756, -1.0, -1.0, 1.0, 1.0, -1.0, -1.0, -1.0, 1.0, 1.0, 1.0, 0.99999833, -1.0, 0.9998147, 1.0, -1.0, -1.0, 1.0, -1.0, -1.0, -1.0, -1.0, -1.0, -1.0, 1.0, -1.0, 1.0, -1.0, -1.0, 1.0, 1.0, -1.0, -1.0, -1.0, 1.0, -1.0, 1.0, 1.0, -1.0, 1.0, -1.0, 1.0, -1.0, 1.0, -1.0, -1.0, -1.0, 1.0, 1.0, -1.0, -1.0, 1.0, -1.0, 1.0, 1.0, -1.0, -1.0, -1.0, 1.0, -1.0, -1.0, -1.0, 1.0, 0.9999997, -1.0, -1.0, -1.0, -1.0, -1.0, -1.0, ...]]\n",
       "3         [[1.0, 1.0, -0.99998516, -1.0, -1.0, 1.0, 1.0, 1.0, -1.0, -1.0, 1.0, -1.0, -1.0, 1.0, 1.0, -1.0, -1.0, 1.0, -1.0, 0.99999493, 1.0, 1.0, 1.0, 1.0, -1.0, -1.0, -1.0, -1.0, -1.0, -1.0, 0.9999974, -1.0, -1.0, 1.0, 1.0, -1.0, -1.0, -1.0, 1.0, 1.0, 1.0, 0.9999981, -1.0, 0.9998153, 1.0, -1.0, -1.0, 1.0, -1.0, -1.0, -1.0, -1.0, -1.0, -1.0, 1.0, -1.0, 1.0, -1.0, -1.0, 1.0, 1.0, -1.0, -1.0, -1.0, 1.0, -1.0, 1.0, 1.0, -1.0, 1.0, -1.0, 1.0, -1.0, 1.0, -1.0, -1.0, -1.0, 1.0, 1.0, -1.0, -1.0, 1.0, -1.0, 1.0, 1.0, -1.0, -1.0, -1.0, 1.0, -1.0, -1.0, -1.0, 1.0, 0.99999964, -1.0, -1.0, -1.0, -1.0, -1.0, -1.0, ...]]\n",
       "4           [[1.0, 1.0, -0.9999853, -1.0, -1.0, 1.0, 1.0, 1.0, -1.0, -1.0, 1.0, -1.0, -1.0, 1.0, 1.0, -1.0, -1.0, 1.0, -1.0, 0.99999493, 1.0, 1.0, 1.0, 1.0, -1.0, -1.0, -1.0, -1.0, -1.0, -1.0, 0.9999976, -1.0, -1.0, 1.0, 1.0, -1.0, -1.0, -1.0, 1.0, 1.0, 1.0, 0.9999982, -1.0, 0.9998149, 1.0, -1.0, -1.0, 1.0, -1.0, -1.0, -1.0, -1.0, -1.0, -1.0, 1.0, -1.0, 1.0, -1.0, -1.0, 1.0, 1.0, -1.0, -1.0, -1.0, 1.0, -1.0, 1.0, 1.0, -1.0, 1.0, -1.0, 1.0, -1.0, 1.0, -1.0, -1.0, -1.0, 1.0, 1.0, -1.0, -1.0, 1.0, -1.0, 1.0, 1.0, -1.0, -1.0, -1.0, 1.0, -1.0, -1.0, -1.0, 1.0, 0.9999997, -1.0, -1.0, -1.0, -1.0, -1.0, -1.0, ...]]\n",
       "                                                                                                                                                                                                                                                                                                                      ...                                                                                                                                                                                                                                                                                                             \n",
       "698590                                                                                                                                                                                                                                                                                                                                                                                                                                                                                                                                                                                                                             NaN\n",
       "698591                                                                                                                                                                                                                                                                                                                                                                                                                                                                                                                                                                                                                             NaN\n",
       "698592                                                                                                                                                                                                                                                                                                                                                                                                                                                                                                                                                                                                                             NaN\n",
       "698593                                                                                                                                                                                                                                                                                                                                                                                                                                                                                                                                                                                                                             NaN\n",
       "698594                                                                                                                                                                                                                                                                                                                                                                                                                                                                                                                                                                                                                             NaN\n",
       "Name: cddd, Length: 694004, dtype: object"
      ]
     },
     "execution_count": 180,
     "metadata": {},
     "output_type": "execute_result"
    }
   ],
   "execution_count": 180
  }
 ],
 "metadata": {
  "kernelspec": {
   "display_name": "Python 3",
   "language": "python",
   "name": "python3"
  },
  "language_info": {
   "codemirror_mode": {
    "name": "ipython",
    "version": 2
   },
   "file_extension": ".py",
   "mimetype": "text/x-python",
   "name": "python",
   "nbconvert_exporter": "python",
   "pygments_lexer": "ipython2",
   "version": "2.7.6"
  }
 },
 "nbformat": 4,
 "nbformat_minor": 5
}
