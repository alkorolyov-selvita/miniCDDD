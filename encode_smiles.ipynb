{
 "cells": [
  {
   "metadata": {
    "ExecuteTime": {
     "end_time": "2025-03-18T06:26:37.009160Z",
     "start_time": "2025-03-18T06:26:36.848655Z"
    }
   },
   "cell_type": "code",
   "source": [
    "from utils import load_cddd_encoder\n",
    "\n",
    "# cddd_enc = load_cddd_encoder('1k_test/models/cddd_encoder.pt')\n",
    "cddd_enc = load_cddd_encoder('600k_chembl/models/cddd_encoder.pt')\n",
    "cddd_enc"
   ],
   "id": "cea57687b696767a",
   "outputs": [
    {
     "name": "stderr",
     "output_type": "stream",
     "text": [
      "/home/ergot/projects/miniCDDD/utils.py:144: FutureWarning: You are using `torch.load` with `weights_only=False` (the current default value), which uses the default pickle module implicitly. It is possible to construct malicious pickle data which will execute arbitrary code during unpickling (See https://github.com/pytorch/pytorch/blob/main/SECURITY.md#untrusted-models for more details). In a future release, the default value for `weights_only` will be flipped to `True`. This limits the functions that could be executed during unpickling. Arbitrary objects will no longer be allowed to be loaded via this mode unless they are explicitly allowlisted by the user via `torch.serialization.add_safe_globals`. We recommend you start setting `weights_only=True` for any use case where you don't have full control of the loaded file. Please open an issue on GitHub for any issues related to this experimental feature.\n",
      "  data = torch.load(model_path, map_location=device)\n"
     ]
    },
    {
     "data": {
      "text/plain": [
       "CDDDEncoder(\n",
       "  (encoder): Encoder(\n",
       "    (gru1): GRU(56, 512, batch_first=True)\n",
       "    (gru2): GRU(512, 1024, batch_first=True)\n",
       "    (gru3): GRU(1024, 2048, batch_first=True)\n",
       "    (dropout): Dropout(p=0.15, inplace=False)\n",
       "    (latent_projection): Linear(in_features=3584, out_features=512, bias=True)\n",
       "    (gaussian_noise): GaussianNoise()\n",
       "  )\n",
       ")"
      ]
     },
     "execution_count": 19,
     "metadata": {},
     "output_type": "execute_result"
    }
   ],
   "execution_count": 19
  },
  {
   "metadata": {
    "ExecuteTime": {
     "end_time": "2025-03-18T06:27:56.734404Z",
     "start_time": "2025-03-18T06:27:56.726642Z"
    }
   },
   "cell_type": "code",
   "source": "cddd_enc(['CO', 'CN'])",
   "id": "30635f3575f8a337",
   "outputs": [
    {
     "data": {
      "text/plain": [
       "array([[ 0.4142892 , -0.81622565, -0.14586732, ...,  0.99978054,\n",
       "        -0.14035487, -0.3939661 ],\n",
       "       [ 0.34488744, -0.8358219 , -0.15283763, ...,  0.999674  ,\n",
       "        -0.03842277, -0.3994055 ]], dtype=float32)"
      ]
     },
     "execution_count": 20,
     "metadata": {},
     "output_type": "execute_result"
    }
   ],
   "execution_count": 20
  },
  {
   "metadata": {},
   "cell_type": "code",
   "outputs": [],
   "execution_count": null,
   "source": "",
   "id": "e91bce42f8a3755a"
  },
  {
   "metadata": {},
   "cell_type": "code",
   "outputs": [],
   "execution_count": null,
   "source": "",
   "id": "28de1bacac69cf9b"
  },
  {
   "metadata": {
    "ExecuteTime": {
     "end_time": "2025-03-18T06:28:42.615724Z",
     "start_time": "2025-03-18T06:28:42.200380Z"
    }
   },
   "cell_type": "code",
   "source": [
    "import pandas as pd\n",
    "\n",
    "df = pd.read_csv('data/600k_chembl_filtered.smi.zst', header=None, names=['smiles'])\n",
    "print(df.info())\n",
    "df.head(10)"
   ],
   "id": "86ef7bb73d24fb46",
   "outputs": [
    {
     "name": "stdout",
     "output_type": "stream",
     "text": [
      "<class 'pandas.core.frame.DataFrame'>\n",
      "RangeIndex: 636218 entries, 0 to 636217\n",
      "Data columns (total 1 columns):\n",
      " #   Column  Non-Null Count   Dtype \n",
      "---  ------  --------------   ----- \n",
      " 0   smiles  636218 non-null  object\n",
      "dtypes: object(1)\n",
      "memory usage: 4.9+ MB\n",
      "None\n"
     ]
    },
    {
     "data": {
      "text/plain": [
       "                                              smiles\n",
       "0  CC1(C)CCC(C)(C)c2cc(-c3cccc(-c4ccc(C(=O)O)cc4)...\n",
       "1  Cc1cc2c(cc1C1=NOC(c3ccc(C(=O)O)cc3)C1)C(C)(C)C...\n",
       "2  Cc1ccc(-c2ccc(C(=O)O)cc2)cc1-c1ccc2c(c1)C(C)(C...\n",
       "3  Cc1cc2c(cc1-c1ncc(-c3ccc(C(=O)O)cc3)s1)C(C)(C)...\n",
       "4  Cc1ccc(-c2ccc(C(=O)O)cc2)cc1-c1cc2c(cc1C)C(C)(...\n",
       "5  Cc1cc2c(cc1-c1cccc(-c3ccc(C(=O)O)cc3)n1)C(C)(C...\n",
       "6  CC1(C)CCC(C)(C)c2cc(-c3cccc(-c4ccc(C(=O)O)cc4)...\n",
       "7  CC1(C)CCC(C)(C)c2cc(-c3ccc4cc(C(=O)O)ccc4c3)ccc21\n",
       "8   CC(=Cc1ccc(C(=O)O)cc1)c1ccc2c(c1)C(C)(C)CCC2(C)C\n",
       "9  CC(C)=C(c1ccc(C(=O)O)cc1)c1ccc2c(c1)C(C)(C)CCC..."
      ],
      "text/html": [
       "<div>\n",
       "<style scoped>\n",
       "    .dataframe tbody tr th:only-of-type {\n",
       "        vertical-align: middle;\n",
       "    }\n",
       "\n",
       "    .dataframe tbody tr th {\n",
       "        vertical-align: top;\n",
       "    }\n",
       "\n",
       "    .dataframe thead th {\n",
       "        text-align: right;\n",
       "    }\n",
       "</style>\n",
       "<table border=\"1\" class=\"dataframe\">\n",
       "  <thead>\n",
       "    <tr style=\"text-align: right;\">\n",
       "      <th></th>\n",
       "      <th>smiles</th>\n",
       "    </tr>\n",
       "  </thead>\n",
       "  <tbody>\n",
       "    <tr>\n",
       "      <th>0</th>\n",
       "      <td>CC1(C)CCC(C)(C)c2cc(-c3cccc(-c4ccc(C(=O)O)cc4)...</td>\n",
       "    </tr>\n",
       "    <tr>\n",
       "      <th>1</th>\n",
       "      <td>Cc1cc2c(cc1C1=NOC(c3ccc(C(=O)O)cc3)C1)C(C)(C)C...</td>\n",
       "    </tr>\n",
       "    <tr>\n",
       "      <th>2</th>\n",
       "      <td>Cc1ccc(-c2ccc(C(=O)O)cc2)cc1-c1ccc2c(c1)C(C)(C...</td>\n",
       "    </tr>\n",
       "    <tr>\n",
       "      <th>3</th>\n",
       "      <td>Cc1cc2c(cc1-c1ncc(-c3ccc(C(=O)O)cc3)s1)C(C)(C)...</td>\n",
       "    </tr>\n",
       "    <tr>\n",
       "      <th>4</th>\n",
       "      <td>Cc1ccc(-c2ccc(C(=O)O)cc2)cc1-c1cc2c(cc1C)C(C)(...</td>\n",
       "    </tr>\n",
       "    <tr>\n",
       "      <th>5</th>\n",
       "      <td>Cc1cc2c(cc1-c1cccc(-c3ccc(C(=O)O)cc3)n1)C(C)(C...</td>\n",
       "    </tr>\n",
       "    <tr>\n",
       "      <th>6</th>\n",
       "      <td>CC1(C)CCC(C)(C)c2cc(-c3cccc(-c4ccc(C(=O)O)cc4)...</td>\n",
       "    </tr>\n",
       "    <tr>\n",
       "      <th>7</th>\n",
       "      <td>CC1(C)CCC(C)(C)c2cc(-c3ccc4cc(C(=O)O)ccc4c3)ccc21</td>\n",
       "    </tr>\n",
       "    <tr>\n",
       "      <th>8</th>\n",
       "      <td>CC(=Cc1ccc(C(=O)O)cc1)c1ccc2c(c1)C(C)(C)CCC2(C)C</td>\n",
       "    </tr>\n",
       "    <tr>\n",
       "      <th>9</th>\n",
       "      <td>CC(C)=C(c1ccc(C(=O)O)cc1)c1ccc2c(c1)C(C)(C)CCC...</td>\n",
       "    </tr>\n",
       "  </tbody>\n",
       "</table>\n",
       "</div>"
      ]
     },
     "execution_count": 23,
     "metadata": {},
     "output_type": "execute_result"
    }
   ],
   "execution_count": 23
  },
  {
   "metadata": {
    "ExecuteTime": {
     "end_time": "2025-03-17T17:20:51.280737Z",
     "start_time": "2025-03-17T17:20:51.260418Z"
    }
   },
   "cell_type": "code",
   "source": "df.sample(1000).to_csv('data/1k_test.smi', index=False, header=False)",
   "id": "4bf8fe6a2d41ee19",
   "outputs": [],
   "execution_count": 4
  },
  {
   "metadata": {
    "ExecuteTime": {
     "end_time": "2025-03-18T06:28:42.157923Z",
     "start_time": "2025-03-18T06:28:09.827203Z"
    }
   },
   "cell_type": "code",
   "source": "cddd_enc(df.smiles)",
   "id": "b9eebfd4a8008b00",
   "outputs": [
    {
     "data": {
      "text/plain": [
       "array([[ 0.33222735, -0.6320859 , -0.10455346, ..., -0.24807246,\n",
       "         0.40322846,  0.09501088],\n",
       "       [ 0.21657166, -0.5477084 , -0.11612824, ..., -0.35448816,\n",
       "         0.19540867, -0.17129357],\n",
       "       [ 0.38831005, -0.6986468 , -0.15535893, ..., -0.28450057,\n",
       "         0.35102642, -0.00091834],\n",
       "       ...,\n",
       "       [ 0.11350801,  0.50690067,  0.2077489 , ..., -0.10467771,\n",
       "         0.09038406,  0.43049362],\n",
       "       [ 0.15910347,  0.61093545,  0.1737043 , ..., -0.04300844,\n",
       "        -0.04344682,  0.46175286],\n",
       "       [ 0.7308878 ,  0.50463074,  0.7440273 , ..., -0.19695894,\n",
       "         0.31182137,  0.51982296]], dtype=float32)"
      ]
     },
     "execution_count": 22,
     "metadata": {},
     "output_type": "execute_result"
    }
   ],
   "execution_count": 22
  },
  {
   "metadata": {},
   "cell_type": "code",
   "outputs": [],
   "execution_count": null,
   "source": "",
   "id": "f42249a9b351349"
  }
 ],
 "metadata": {
  "kernelspec": {
   "display_name": "Python 3",
   "language": "python",
   "name": "python3"
  },
  "language_info": {
   "codemirror_mode": {
    "name": "ipython",
    "version": 2
   },
   "file_extension": ".py",
   "mimetype": "text/x-python",
   "name": "python",
   "nbconvert_exporter": "python",
   "pygments_lexer": "ipython2",
   "version": "2.7.6"
  }
 },
 "nbformat": 4,
 "nbformat_minor": 5
}
