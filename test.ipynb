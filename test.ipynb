{
 "cells": [
  {
   "cell_type": "code",
   "id": "initial_id",
   "metadata": {
    "collapsed": true,
    "ExecuteTime": {
     "end_time": "2025-03-16T03:13:47.651312Z",
     "start_time": "2025-03-16T03:13:47.577429Z"
    }
   },
   "source": [
    "import pandas as pd\n",
    "import numpy as np\n",
    "from joblib import Parallel, delayed\n",
    "\n",
    "%load_ext autoreload\n",
    "%autoreload 2\n",
    "\n",
    "KEEP_STEREO = False\n",
    "DESCRIPTORS = [\n",
    "    'MolLogP', 'MolMR', 'BalabanJ', 'NumHAcceptors',\n",
    "    'NumHDonors', 'NumValenceElectrons', 'TPSA'\n",
    "]"
   ],
   "outputs": [],
   "execution_count": 1
  },
  {
   "metadata": {
    "ExecuteTime": {
     "end_time": "2025-03-15T14:24:26.602024Z",
     "start_time": "2025-03-15T14:24:22.054796Z"
    }
   },
   "cell_type": "code",
   "source": [
    "from sklearn.preprocessing import StandardScaler\n",
    "from preprocess import preprocess_smiles_inplace, add_descriptors_parallel, chunked_ser\n",
    "from preprocess import randomize_smiles\n",
    "from preprocess import mem\n",
    "\n",
    "\n",
    "# df = pd.read_csv('data/250k_rndm_zinc_drugs_clean_3.csv')[['smiles']]\n",
    "df = pd.read_csv('data/700k_all_chembl.smi.zst', header=None, names=['smiles'])\n",
    "\n",
    "preprocess_smiles_inplace(df, smiles_col='smiles', keep_stereo=KEEP_STEREO)\n",
    "df = add_descriptors_parallel(df, DESCRIPTORS)\n",
    "\n",
    "scaler = StandardScaler()\n",
    "df.loc[:, DESCRIPTORS] = scaler.fit_transform(df[DESCRIPTORS].values)\n",
    "\n",
    "df['random_smiles'] = mem.cache(randomize_smiles)(df.smiles)\n",
    "df.rename(columns={'smiles': 'canonical_smiles'}, inplace=True)"
   ],
   "id": "765b6282d337e493",
   "outputs": [],
   "execution_count": 88
  },
  {
   "metadata": {
    "ExecuteTime": {
     "end_time": "2025-03-15T14:24:32.859250Z",
     "start_time": "2025-03-15T14:24:26.613736Z"
    }
   },
   "cell_type": "code",
   "source": [
    "from tokens import extract_tokens_from_smiles\n",
    "from tqdm import tqdm\n",
    "\n",
    "all_tokens = set()\n",
    "for smi in tqdm(df.canonical_smiles):\n",
    "    all_tokens |= set(extract_tokens_from_smiles(smi))\n",
    "\n",
    "lookup_table = {token: idx for idx, token in enumerate(sorted(all_tokens))}\n",
    "lookup_table['<UNK>'] = len(all_tokens)\n",
    "\n",
    "lookup_table"
   ],
   "id": "f373b345dc9c8050",
   "outputs": [
    {
     "name": "stderr",
     "output_type": "stream",
     "text": [
      "100%|██████████| 698595/698595 [00:06<00:00, 112164.95it/s]\n"
     ]
    },
    {
     "data": {
      "text/plain": [
       "{'#': 0,\n",
       " '%10': 1,\n",
       " '%11': 2,\n",
       " '%12': 3,\n",
       " '%13': 4,\n",
       " '%14': 5,\n",
       " '%15': 6,\n",
       " '%16': 7,\n",
       " '%17': 8,\n",
       " '%18': 9,\n",
       " '%19': 10,\n",
       " '%20': 11,\n",
       " '%21': 12,\n",
       " '%22': 13,\n",
       " '(': 14,\n",
       " ')': 15,\n",
       " '-': 16,\n",
       " '1': 17,\n",
       " '2': 18,\n",
       " '3': 19,\n",
       " '4': 20,\n",
       " '5': 21,\n",
       " '6': 22,\n",
       " '7': 23,\n",
       " '8': 24,\n",
       " '9': 25,\n",
       " '=': 26,\n",
       " 'B': 27,\n",
       " 'Br': 28,\n",
       " 'C': 29,\n",
       " 'Cl': 30,\n",
       " 'F': 31,\n",
       " 'I': 32,\n",
       " 'N': 33,\n",
       " 'O': 34,\n",
       " 'P': 35,\n",
       " 'S': 36,\n",
       " '[As+]': 37,\n",
       " '[As]': 38,\n",
       " '[B-]': 39,\n",
       " '[BH-]': 40,\n",
       " '[BH2-]': 41,\n",
       " '[C+]': 42,\n",
       " '[C-]': 43,\n",
       " '[C]': 44,\n",
       " '[I+]': 45,\n",
       " '[N+]': 46,\n",
       " '[N-]': 47,\n",
       " '[NH+]': 48,\n",
       " '[NH-]': 49,\n",
       " '[NH2+]': 50,\n",
       " '[Na]': 51,\n",
       " '[O+]': 52,\n",
       " '[O-]': 53,\n",
       " '[OH+]': 54,\n",
       " '[O]': 55,\n",
       " '[P+]': 56,\n",
       " '[PH]': 57,\n",
       " '[S+]': 58,\n",
       " '[S-]': 59,\n",
       " '[SH+]': 60,\n",
       " '[SH]': 61,\n",
       " '[Se+]': 62,\n",
       " '[SeH]': 63,\n",
       " '[Se]': 64,\n",
       " '[SiH]': 65,\n",
       " '[Si]': 66,\n",
       " '[Te]': 67,\n",
       " '[Zn-2]': 68,\n",
       " '[Zn]': 69,\n",
       " '[cH-]': 70,\n",
       " '[n+]': 71,\n",
       " '[n-]': 72,\n",
       " '[nH]': 73,\n",
       " '[o+]': 74,\n",
       " '[s+]': 75,\n",
       " '[se]': 76,\n",
       " '[te]': 77,\n",
       " 'c': 78,\n",
       " 'n': 79,\n",
       " 'o': 80,\n",
       " 's': 81,\n",
       " '<UNK>': 82}"
      ]
     },
     "execution_count": 89,
     "metadata": {},
     "output_type": "execute_result"
    }
   ],
   "execution_count": 89
  },
  {
   "metadata": {
    "ExecuteTime": {
     "end_time": "2025-03-15T14:24:56.146730Z",
     "start_time": "2025-03-15T14:24:32.870683Z"
    }
   },
   "cell_type": "code",
   "source": [
    "def encode_to_tokens(smi):\n",
    "    return [lookup_table.get(token, '<UNK>') for token in extract_tokens_from_smiles(smi)]\n",
    "\n",
    "df['input_tokens'] = df['random_smiles'].apply(encode_to_tokens)\n",
    "df['output_tokens'] = df['canonical_smiles'].apply(encode_to_tokens)"
   ],
   "id": "419dd2c4bb78dd",
   "outputs": [],
   "execution_count": 90
  },
  {
   "metadata": {
    "ExecuteTime": {
     "end_time": "2025-03-15T14:24:57.438029Z",
     "start_time": "2025-03-15T14:24:56.158696Z"
    }
   },
   "cell_type": "code",
   "source": [
    "import seaborn as sns\n",
    "\n",
    "sns.histplot(df['input_tokens'].apply(len), discrete=True);"
   ],
   "id": "e6814b40c22b29fe",
   "outputs": [
    {
     "data": {
      "text/plain": [
       "<Figure size 640x480 with 1 Axes>"
      ],
      "image/png": "[encoded data removed]"
     },
     "metadata": {},
     "output_type": "display_data"
    }
   ],
   "execution_count": 91
  },
  {
   "metadata": {
    "ExecuteTime": {
     "end_time": "2025-03-15T14:24:19.030Z",
     "start_time": "2025-03-15T14:24:18.917716Z"
    }
   },
   "cell_type": "code",
   "source": [
    "threshold = df['input_tokens'].apply(len).quantile(0.95)\n",
    "threshold"
   ],
   "id": "7bc41e71a5bd9ed1",
   "outputs": [
    {
     "data": {
      "text/plain": [
       "90.0"
      ]
     },
     "execution_count": 86,
     "metadata": {},
     "output_type": "execute_result"
    }
   ],
   "execution_count": 86
  },
  {
   "metadata": {
    "ExecuteTime": {
     "end_time": "2025-03-15T14:23:41.231732Z",
     "start_time": "2025-03-15T14:23:40.920199Z"
    }
   },
   "cell_type": "code",
   "source": [
    "mask = df['input_tokens'].apply(len) < threshold\n",
    "df = df[mask].copy()"
   ],
   "id": "838d6398ef080222",
   "outputs": [],
   "execution_count": 81
  },
  {
   "metadata": {
    "ExecuteTime": {
     "end_time": "2025-03-15T14:23:47.840678Z",
     "start_time": "2025-03-15T14:23:45.907780Z"
    }
   },
   "cell_type": "code",
   "source": [
    "from tokens import pad_tokens_to_max_length_with_lookup\n",
    "\n",
    "df_padded, updated_lookup_table, max_length = pad_tokens_to_max_length_with_lookup(df, lookup_table)"
   ],
   "id": "69ab0c00dac4b83",
   "outputs": [],
   "execution_count": 82
  },
  {
   "metadata": {
    "ExecuteTime": {
     "end_time": "2025-03-15T14:23:49.934034Z",
     "start_time": "2025-03-15T14:23:49.906221Z"
    }
   },
   "cell_type": "code",
   "source": "df_padded",
   "id": "93618c69dec375f5",
   "outputs": [
    {
     "data": {
      "text/plain": [
       "                                                                              canonical_smiles  \\\n",
       "0                                       CC1(C)CCC(C)(C)c2cc(-c3cccc(-c4ccc(C(=O)O)cc4)n3)ccc21   \n",
       "1                                        Cc1cc2c(cc1C1=NOC(c3ccc(C(=O)O)cc3)C1)C(C)(C)CCC2(C)C   \n",
       "2                                      Cc1ccc(-c2ccc(C(=O)O)cc2)cc1-c1ccc2c(c1)C(C)(C)CCC2(C)C   \n",
       "3                                       Cc1cc2c(cc1-c1ncc(-c3ccc(C(=O)O)cc3)s1)C(C)(C)CCC2(C)C   \n",
       "4                                     Cc1ccc(-c2ccc(C(=O)O)cc2)cc1-c1cc2c(cc1C)C(C)(C)CCC2(C)C   \n",
       "...                                                                                        ...   \n",
       "698590                              CC(=O)N1CCN(c2ccc3c(c2)CCCN3S(=O)(=O)N(C)Cc2cccc(Cl)c2)CC1   \n",
       "698591                              CC(=O)N1CCN(c2ccc3c(c2)CCCN3S(=O)(=O)N(C)Cc2ccc(Cl)cc2)CC1   \n",
       "698592                                 CCS(=O)(=O)c1ccc(CC(=O)Nc2cc(Cl)c(-c3ccccc3)c(Cl)c2)cc1   \n",
       "698593                            CCS(=O)(=O)c1ccc(CC(=O)Nc2cc(Cl)c(-c3cccc(C#N)c3)c(Cl)c2)cc1   \n",
       "698594  CCS(=O)(=O)c1ccc(CC(=O)Nc2cc(Cl)c(-c3ccc(CC4CCN(C(=O)C(C)(C)C)CC4)c(C#N)c3)c(Cl)c2)cc1   \n",
       "\n",
       "         MolLogP     MolMR  BalabanJ  NumHAcceptors  NumHDonors  \\\n",
       "0       1.278502 -0.075610  0.114690      -0.927865   -0.291058   \n",
       "1       1.028671 -0.111911 -0.147369      -0.687002   -0.291058   \n",
       "2       1.689765  0.024871  0.231090      -1.168729   -0.291058   \n",
       "3       1.445057 -0.037774  0.137799      -0.687002   -0.291058   \n",
       "4       1.828629  0.093436  0.356567      -1.168729   -0.291058   \n",
       "...          ...       ...       ...            ...         ...   \n",
       "698590 -0.218516  0.084484 -0.420445      -0.446138   -0.535145   \n",
       "698591 -0.218516  0.084484 -0.439187      -0.446138   -0.535145   \n",
       "698592  0.905880 -0.060467  0.064344      -0.687002   -0.291058   \n",
       "698593  0.848104  0.007780  0.131350      -0.446138   -0.291058   \n",
       "698594  1.670791  0.767147 -0.645755      -0.205274   -0.291058   \n",
       "\n",
       "        NumValenceElectrons      TPSA  \\\n",
       "0                 -0.196142 -0.424712   \n",
       "1                 -0.158071 -0.348422   \n",
       "2                 -0.139036 -0.537745   \n",
       "3                 -0.177107 -0.424712   \n",
       "4                 -0.081930 -0.537745   \n",
       "...                     ...       ...   \n",
       "698590             0.032283 -0.302121   \n",
       "698591             0.032283 -0.302121   \n",
       "698592            -0.177107 -0.310276   \n",
       "698593            -0.100965 -0.101660   \n",
       "698594             0.603345  0.076439   \n",
       "\n",
       "                                                                               random_smiles  \\\n",
       "0                                   c1c(C(O)=O)ccc(-c2cccc(n2)-c2cc3C(CCC(C)(c3cc2)C)(C)C)c1   \n",
       "1                                    c12cc(c(C3=NOC(c4ccc(cc4)C(=O)O)C3)cc1C(C)(CCC2(C)C)C)C   \n",
       "2                                  c1c(ccc(c1-c1ccc2C(CCC(C)(c2c1)C)(C)C)C)-c1ccc(C(=O)O)cc1   \n",
       "3                                     OC(c1ccc(-c2cnc(s2)-c2cc3c(C(CCC3(C)C)(C)C)cc2C)cc1)=O   \n",
       "4                                 OC(=O)c1ccc(cc1)-c1cc(-c2cc3C(C)(CCC(c3cc2C)(C)C)C)c(cc1)C   \n",
       "...                                                                                      ...   \n",
       "698590                          c12cc(ccc1N(S(=O)(N(C)Cc1cccc(c1)Cl)=O)CCC2)N1CCN(CC1)C(=O)C   \n",
       "698591                          N1(CCN(C(C)=O)CC1)c1ccc2N(S(=O)(=O)N(Cc3ccc(cc3)Cl)C)CCCc2c1   \n",
       "698592                               c1cc(ccc1)-c1c(cc(NC(Cc2ccc(S(=O)(CC)=O)cc2)=O)cc1Cl)Cl   \n",
       "698593                          C(c1cc(ccc1)-c1c(cc(cc1Cl)NC(=O)Cc1ccc(cc1)S(CC)(=O)=O)Cl)#N   \n",
       "698594  C(=O)(C(C)(C)C)N1CCC(Cc2ccc(cc2C#N)-c2c(Cl)cc(NC(Cc3ccc(S(=O)(=O)CC)cc3)=O)cc2Cl)CC1   \n",
       "\n",
       "                                                                                                                                                                                                                                                                                                                                                                    input_tokens  \\\n",
       "0       [87, 78, 17, 78, 14, 29, 14, 34, 15, 26, 34, 15, 78, 78, 78, 14, 16, 78, 18, 78, 78, 78, 78, 14, 79, 18, 15, 16, 78, 18, 78, 78, 19, 29, 14, 29, 29, 29, 14, 29, 15, 14, 78, 19, 78, 78, 18, 15, 29, 15, 14, 29, 15, 29, 15, 78, 17, 88, 86, 86, 86, 86, 86, 86, 86, 86, 86, 86, 86, 86, 86, 86, 86, 86, 86, 86, 86, 86, 86, 86, 86, 86, 86, 86, 86, 86, 86, 86, 86, 86]   \n",
       "1       [87, 78, 17, 18, 78, 78, 14, 78, 14, 29, 19, 26, 33, 34, 29, 14, 78, 20, 78, 78, 78, 14, 78, 78, 20, 15, 29, 14, 26, 34, 15, 34, 15, 29, 19, 15, 78, 78, 17, 29, 14, 29, 15, 14, 29, 29, 29, 18, 14, 29, 15, 29, 15, 29, 15, 29, 88, 86, 86, 86, 86, 86, 86, 86, 86, 86, 86, 86, 86, 86, 86, 86, 86, 86, 86, 86, 86, 86, 86, 86, 86, 86, 86, 86, 86, 86, 86, 86, 86, 86]   \n",
       "2       [87, 78, 17, 78, 14, 78, 78, 78, 14, 78, 17, 16, 78, 17, 78, 78, 78, 18, 29, 14, 29, 29, 29, 14, 29, 15, 14, 78, 18, 78, 17, 15, 29, 15, 14, 29, 15, 29, 15, 29, 15, 16, 78, 17, 78, 78, 78, 14, 29, 14, 26, 34, 15, 34, 15, 78, 78, 17, 88, 86, 86, 86, 86, 86, 86, 86, 86, 86, 86, 86, 86, 86, 86, 86, 86, 86, 86, 86, 86, 86, 86, 86, 86, 86, 86, 86, 86, 86, 86, 86]   \n",
       "3       [87, 34, 29, 14, 78, 17, 78, 78, 78, 14, 16, 78, 18, 78, 79, 78, 14, 81, 18, 15, 16, 78, 18, 78, 78, 19, 78, 14, 29, 14, 29, 29, 29, 19, 14, 29, 15, 29, 15, 14, 29, 15, 29, 15, 78, 78, 18, 29, 15, 78, 78, 17, 15, 26, 34, 88, 86, 86, 86, 86, 86, 86, 86, 86, 86, 86, 86, 86, 86, 86, 86, 86, 86, 86, 86, 86, 86, 86, 86, 86, 86, 86, 86, 86, 86, 86, 86, 86, 86, 86]   \n",
       "4       [87, 34, 29, 14, 26, 34, 15, 78, 17, 78, 78, 78, 14, 78, 78, 17, 15, 16, 78, 17, 78, 78, 14, 16, 78, 18, 78, 78, 19, 29, 14, 29, 15, 14, 29, 29, 29, 14, 78, 19, 78, 78, 18, 29, 15, 14, 29, 15, 29, 15, 29, 15, 78, 14, 78, 78, 17, 15, 29, 88, 86, 86, 86, 86, 86, 86, 86, 86, 86, 86, 86, 86, 86, 86, 86, 86, 86, 86, 86, 86, 86, 86, 86, 86, 86, 86, 86, 86, 86, 86]   \n",
       "...                                                                                                                                                                                                                                                                                                                                                                          ...   \n",
       "698590  [87, 78, 17, 18, 78, 78, 14, 78, 78, 78, 17, 33, 14, 36, 14, 26, 34, 15, 14, 33, 14, 29, 15, 29, 78, 17, 78, 78, 78, 78, 14, 78, 17, 15, 30, 15, 26, 34, 15, 29, 29, 29, 18, 15, 33, 17, 29, 29, 33, 14, 29, 29, 17, 15, 29, 14, 26, 34, 15, 29, 88, 86, 86, 86, 86, 86, 86, 86, 86, 86, 86, 86, 86, 86, 86, 86, 86, 86, 86, 86, 86, 86, 86, 86, 86, 86, 86, 86, 86, 86]   \n",
       "698591  [87, 33, 17, 14, 29, 29, 33, 14, 29, 14, 29, 15, 26, 34, 15, 29, 29, 17, 15, 78, 17, 78, 78, 78, 18, 33, 14, 36, 14, 26, 34, 15, 14, 26, 34, 15, 33, 14, 29, 78, 19, 78, 78, 78, 14, 78, 78, 19, 15, 30, 15, 29, 15, 29, 29, 29, 78, 18, 78, 17, 88, 86, 86, 86, 86, 86, 86, 86, 86, 86, 86, 86, 86, 86, 86, 86, 86, 86, 86, 86, 86, 86, 86, 86, 86, 86, 86, 86, 86, 86]   \n",
       "698592  [87, 78, 17, 78, 78, 14, 78, 78, 78, 17, 15, 16, 78, 17, 78, 14, 78, 78, 14, 33, 29, 14, 29, 78, 18, 78, 78, 78, 14, 36, 14, 26, 34, 15, 14, 29, 29, 15, 26, 34, 15, 78, 78, 18, 15, 26, 34, 15, 78, 78, 17, 30, 15, 30, 88, 86, 86, 86, 86, 86, 86, 86, 86, 86, 86, 86, 86, 86, 86, 86, 86, 86, 86, 86, 86, 86, 86, 86, 86, 86, 86, 86, 86, 86, 86, 86, 86, 86, 86, 86]   \n",
       "698593   [87, 29, 14, 78, 17, 78, 78, 14, 78, 78, 78, 17, 15, 16, 78, 17, 78, 14, 78, 78, 14, 78, 78, 17, 30, 15, 33, 29, 14, 26, 34, 15, 29, 78, 17, 78, 78, 78, 14, 78, 78, 17, 15, 36, 14, 29, 29, 15, 14, 26, 34, 15, 26, 34, 15, 30, 15, 0, 33, 88, 86, 86, 86, 86, 86, 86, 86, 86, 86, 86, 86, 86, 86, 86, 86, 86, 86, 86, 86, 86, 86, 86, 86, 86, 86, 86, 86, 86, 86, 86]   \n",
       "698594   [87, 29, 14, 26, 34, 15, 14, 29, 14, 29, 15, 14, 29, 15, 29, 15, 33, 17, 29, 29, 29, 14, 29, 78, 18, 78, 78, 78, 14, 78, 78, 18, 29, 0, 33, 15, 16, 78, 18, 78, 14, 30, 15, 78, 78, 14, 33, 29, 14, 29, 78, 19, 78, 78, 78, 14, 36, 14, 26, 34, 15, 14, 26, 34, 15, 29, 29, 15, 78, 78, 19, 15, 26, 34, 15, 78, 78, 18, 30, 15, 29, 29, 17, 88, 86, 86, 86, 86, 86, 86]   \n",
       "\n",
       "                                                                                                                                                                                                                                                                                                                                                                   output_tokens  \n",
       "0       [87, 29, 29, 17, 14, 29, 15, 29, 29, 29, 14, 29, 15, 14, 29, 15, 78, 18, 78, 78, 14, 16, 78, 19, 78, 78, 78, 78, 14, 16, 78, 20, 78, 78, 78, 14, 29, 14, 26, 34, 15, 34, 15, 78, 78, 20, 15, 79, 19, 15, 78, 78, 78, 18, 17, 88, 86, 86, 86, 86, 86, 86, 86, 86, 86, 86, 86, 86, 86, 86, 86, 86, 86, 86, 86, 86, 86, 86, 86, 86, 86, 86, 86, 86, 86, 86, 86, 86, 86, 86]  \n",
       "1       [87, 29, 78, 17, 78, 78, 18, 78, 14, 78, 78, 17, 29, 17, 26, 33, 34, 29, 14, 78, 19, 78, 78, 78, 14, 29, 14, 26, 34, 15, 34, 15, 78, 78, 19, 15, 29, 17, 15, 29, 14, 29, 15, 14, 29, 15, 29, 29, 29, 18, 14, 29, 15, 29, 88, 86, 86, 86, 86, 86, 86, 86, 86, 86, 86, 86, 86, 86, 86, 86, 86, 86, 86, 86, 86, 86, 86, 86, 86, 86, 86, 86, 86, 86, 86, 86, 86, 86, 86, 86]  \n",
       "2       [87, 29, 78, 17, 78, 78, 78, 14, 16, 78, 18, 78, 78, 78, 14, 29, 14, 26, 34, 15, 34, 15, 78, 78, 18, 15, 78, 78, 17, 16, 78, 17, 78, 78, 78, 18, 78, 14, 78, 17, 15, 29, 14, 29, 15, 14, 29, 15, 29, 29, 29, 18, 14, 29, 15, 29, 88, 86, 86, 86, 86, 86, 86, 86, 86, 86, 86, 86, 86, 86, 86, 86, 86, 86, 86, 86, 86, 86, 86, 86, 86, 86, 86, 86, 86, 86, 86, 86, 86, 86]  \n",
       "3       [87, 29, 78, 17, 78, 78, 18, 78, 14, 78, 78, 17, 16, 78, 17, 79, 78, 78, 14, 16, 78, 19, 78, 78, 78, 14, 29, 14, 26, 34, 15, 34, 15, 78, 78, 19, 15, 81, 17, 15, 29, 14, 29, 15, 14, 29, 15, 29, 29, 29, 18, 14, 29, 15, 29, 88, 86, 86, 86, 86, 86, 86, 86, 86, 86, 86, 86, 86, 86, 86, 86, 86, 86, 86, 86, 86, 86, 86, 86, 86, 86, 86, 86, 86, 86, 86, 86, 86, 86, 86]  \n",
       "4       [87, 29, 78, 17, 78, 78, 78, 14, 16, 78, 18, 78, 78, 78, 14, 29, 14, 26, 34, 15, 34, 15, 78, 78, 18, 15, 78, 78, 17, 16, 78, 17, 78, 78, 18, 78, 14, 78, 78, 17, 29, 15, 29, 14, 29, 15, 14, 29, 15, 29, 29, 29, 18, 14, 29, 15, 29, 88, 86, 86, 86, 86, 86, 86, 86, 86, 86, 86, 86, 86, 86, 86, 86, 86, 86, 86, 86, 86, 86, 86, 86, 86, 86, 86, 86, 86, 86, 86, 86, 86]  \n",
       "...                                                                                                                                                                                                                                                                                                                                                                          ...  \n",
       "698590  [87, 29, 29, 14, 26, 34, 15, 33, 17, 29, 29, 33, 14, 78, 18, 78, 78, 78, 19, 78, 14, 78, 18, 15, 29, 29, 29, 33, 19, 36, 14, 26, 34, 15, 14, 26, 34, 15, 33, 14, 29, 15, 29, 78, 18, 78, 78, 78, 78, 14, 30, 15, 78, 18, 15, 29, 29, 17, 88, 86, 86, 86, 86, 86, 86, 86, 86, 86, 86, 86, 86, 86, 86, 86, 86, 86, 86, 86, 86, 86, 86, 86, 86, 86, 86, 86, 86, 86, 86, 86]  \n",
       "698591  [87, 29, 29, 14, 26, 34, 15, 33, 17, 29, 29, 33, 14, 78, 18, 78, 78, 78, 19, 78, 14, 78, 18, 15, 29, 29, 29, 33, 19, 36, 14, 26, 34, 15, 14, 26, 34, 15, 33, 14, 29, 15, 29, 78, 18, 78, 78, 78, 14, 30, 15, 78, 78, 18, 15, 29, 29, 17, 88, 86, 86, 86, 86, 86, 86, 86, 86, 86, 86, 86, 86, 86, 86, 86, 86, 86, 86, 86, 86, 86, 86, 86, 86, 86, 86, 86, 86, 86, 86, 86]  \n",
       "698592  [87, 29, 29, 36, 14, 26, 34, 15, 14, 26, 34, 15, 78, 17, 78, 78, 78, 14, 29, 29, 14, 26, 34, 15, 33, 78, 18, 78, 78, 14, 30, 15, 78, 14, 16, 78, 19, 78, 78, 78, 78, 78, 19, 15, 78, 14, 30, 15, 78, 18, 15, 78, 78, 17, 88, 86, 86, 86, 86, 86, 86, 86, 86, 86, 86, 86, 86, 86, 86, 86, 86, 86, 86, 86, 86, 86, 86, 86, 86, 86, 86, 86, 86, 86, 86, 86, 86, 86, 86, 86]  \n",
       "698593   [87, 29, 29, 36, 14, 26, 34, 15, 14, 26, 34, 15, 78, 17, 78, 78, 78, 14, 29, 29, 14, 26, 34, 15, 33, 78, 18, 78, 78, 14, 30, 15, 78, 14, 16, 78, 19, 78, 78, 78, 78, 14, 29, 0, 33, 15, 78, 19, 15, 78, 14, 30, 15, 78, 18, 15, 78, 78, 17, 88, 86, 86, 86, 86, 86, 86, 86, 86, 86, 86, 86, 86, 86, 86, 86, 86, 86, 86, 86, 86, 86, 86, 86, 86, 86, 86, 86, 86, 86, 86]  \n",
       "698594   [87, 29, 29, 36, 14, 26, 34, 15, 14, 26, 34, 15, 78, 17, 78, 78, 78, 14, 29, 29, 14, 26, 34, 15, 33, 78, 18, 78, 78, 14, 30, 15, 78, 14, 16, 78, 19, 78, 78, 78, 14, 29, 29, 20, 29, 29, 33, 14, 29, 14, 26, 34, 15, 29, 14, 29, 15, 14, 29, 15, 29, 15, 29, 29, 20, 15, 78, 14, 29, 0, 33, 15, 78, 19, 15, 78, 14, 30, 15, 78, 18, 15, 78, 78, 17, 88, 86, 86, 86, 86]  \n",
       "\n",
       "[663369 rows x 11 columns]"
      ],
      "text/html": [
       "<div>\n",
       "<style scoped>\n",
       "    .dataframe tbody tr th:only-of-type {\n",
       "        vertical-align: middle;\n",
       "    }\n",
       "\n",
       "    .dataframe tbody tr th {\n",
       "        vertical-align: top;\n",
       "    }\n",
       "\n",
       "    .dataframe thead th {\n",
       "        text-align: right;\n",
       "    }\n",
       "</style>\n",
       "<table border=\"1\" class=\"dataframe\">\n",
       "  <thead>\n",
       "    <tr style=\"text-align: right;\">\n",
       "      <th></th>\n",
       "      <th>canonical_smiles</th>\n",
       "      <th>MolLogP</th>\n",
       "      <th>MolMR</th>\n",
       "      <th>BalabanJ</th>\n",
       "      <th>NumHAcceptors</th>\n",
       "      <th>NumHDonors</th>\n",
       "      <th>NumValenceElectrons</th>\n",
       "      <th>TPSA</th>\n",
       "      <th>random_smiles</th>\n",
       "      <th>input_tokens</th>\n",
       "      <th>output_tokens</th>\n",
       "    </tr>\n",
       "  </thead>\n",
       "  <tbody>\n",
       "    <tr>\n",
       "      <th>0</th>\n",
       "      <td>CC1(C)CCC(C)(C)c2cc(-c3cccc(-c4ccc(C(=O)O)cc4)n3)ccc21</td>\n",
       "      <td>1.278502</td>\n",
       "      <td>-0.075610</td>\n",
       "      <td>0.114690</td>\n",
       "      <td>-0.927865</td>\n",
       "      <td>-0.291058</td>\n",
       "      <td>-0.196142</td>\n",
       "      <td>-0.424712</td>\n",
       "      <td>c1c(C(O)=O)ccc(-c2cccc(n2)-c2cc3C(CCC(C)(c3cc2)C)(C)C)c1</td>\n",
       "      <td>[87, 78, 17, 78, 14, 29, 14, 34, 15, 26, 34, 15, 78, 78, 78, 14, 16, 78, 18, 78, 78, 78, 78, 14, 79, 18, 15, 16, 78, 18, 78, 78, 19, 29, 14, 29, 29, 29, 14, 29, 15, 14, 78, 19, 78, 78, 18, 15, 29, 15, 14, 29, 15, 29, 15, 78, 17, 88, 86, 86, 86, 86, 86, 86, 86, 86, 86, 86, 86, 86, 86, 86, 86, 86, 86, 86, 86, 86, 86, 86, 86, 86, 86, 86, 86, 86, 86, 86, 86, 86]</td>\n",
       "      <td>[87, 29, 29, 17, 14, 29, 15, 29, 29, 29, 14, 29, 15, 14, 29, 15, 78, 18, 78, 78, 14, 16, 78, 19, 78, 78, 78, 78, 14, 16, 78, 20, 78, 78, 78, 14, 29, 14, 26, 34, 15, 34, 15, 78, 78, 20, 15, 79, 19, 15, 78, 78, 78, 18, 17, 88, 86, 86, 86, 86, 86, 86, 86, 86, 86, 86, 86, 86, 86, 86, 86, 86, 86, 86, 86, 86, 86, 86, 86, 86, 86, 86, 86, 86, 86, 86, 86, 86, 86, 86]</td>\n",
       "    </tr>\n",
       "    <tr>\n",
       "      <th>1</th>\n",
       "      <td>Cc1cc2c(cc1C1=NOC(c3ccc(C(=O)O)cc3)C1)C(C)(C)CCC2(C)C</td>\n",
       "      <td>1.028671</td>\n",
       "      <td>-0.111911</td>\n",
       "      <td>-0.147369</td>\n",
       "      <td>-0.687002</td>\n",
       "      <td>-0.291058</td>\n",
       "      <td>-0.158071</td>\n",
       "      <td>-0.348422</td>\n",
       "      <td>c12cc(c(C3=NOC(c4ccc(cc4)C(=O)O)C3)cc1C(C)(CCC2(C)C)C)C</td>\n",
       "      <td>[87, 78, 17, 18, 78, 78, 14, 78, 14, 29, 19, 26, 33, 34, 29, 14, 78, 20, 78, 78, 78, 14, 78, 78, 20, 15, 29, 14, 26, 34, 15, 34, 15, 29, 19, 15, 78, 78, 17, 29, 14, 29, 15, 14, 29, 29, 29, 18, 14, 29, 15, 29, 15, 29, 15, 29, 88, 86, 86, 86, 86, 86, 86, 86, 86, 86, 86, 86, 86, 86, 86, 86, 86, 86, 86, 86, 86, 86, 86, 86, 86, 86, 86, 86, 86, 86, 86, 86, 86, 86]</td>\n",
       "      <td>[87, 29, 78, 17, 78, 78, 18, 78, 14, 78, 78, 17, 29, 17, 26, 33, 34, 29, 14, 78, 19, 78, 78, 78, 14, 29, 14, 26, 34, 15, 34, 15, 78, 78, 19, 15, 29, 17, 15, 29, 14, 29, 15, 14, 29, 15, 29, 29, 29, 18, 14, 29, 15, 29, 88, 86, 86, 86, 86, 86, 86, 86, 86, 86, 86, 86, 86, 86, 86, 86, 86, 86, 86, 86, 86, 86, 86, 86, 86, 86, 86, 86, 86, 86, 86, 86, 86, 86, 86, 86]</td>\n",
       "    </tr>\n",
       "    <tr>\n",
       "      <th>2</th>\n",
       "      <td>Cc1ccc(-c2ccc(C(=O)O)cc2)cc1-c1ccc2c(c1)C(C)(C)CCC2(C)C</td>\n",
       "      <td>1.689765</td>\n",
       "      <td>0.024871</td>\n",
       "      <td>0.231090</td>\n",
       "      <td>-1.168729</td>\n",
       "      <td>-0.291058</td>\n",
       "      <td>-0.139036</td>\n",
       "      <td>-0.537745</td>\n",
       "      <td>c1c(ccc(c1-c1ccc2C(CCC(C)(c2c1)C)(C)C)C)-c1ccc(C(=O)O)cc1</td>\n",
       "      <td>[87, 78, 17, 78, 14, 78, 78, 78, 14, 78, 17, 16, 78, 17, 78, 78, 78, 18, 29, 14, 29, 29, 29, 14, 29, 15, 14, 78, 18, 78, 17, 15, 29, 15, 14, 29, 15, 29, 15, 29, 15, 16, 78, 17, 78, 78, 78, 14, 29, 14, 26, 34, 15, 34, 15, 78, 78, 17, 88, 86, 86, 86, 86, 86, 86, 86, 86, 86, 86, 86, 86, 86, 86, 86, 86, 86, 86, 86, 86, 86, 86, 86, 86, 86, 86, 86, 86, 86, 86, 86]</td>\n",
       "      <td>[87, 29, 78, 17, 78, 78, 78, 14, 16, 78, 18, 78, 78, 78, 14, 29, 14, 26, 34, 15, 34, 15, 78, 78, 18, 15, 78, 78, 17, 16, 78, 17, 78, 78, 78, 18, 78, 14, 78, 17, 15, 29, 14, 29, 15, 14, 29, 15, 29, 29, 29, 18, 14, 29, 15, 29, 88, 86, 86, 86, 86, 86, 86, 86, 86, 86, 86, 86, 86, 86, 86, 86, 86, 86, 86, 86, 86, 86, 86, 86, 86, 86, 86, 86, 86, 86, 86, 86, 86, 86]</td>\n",
       "    </tr>\n",
       "    <tr>\n",
       "      <th>3</th>\n",
       "      <td>Cc1cc2c(cc1-c1ncc(-c3ccc(C(=O)O)cc3)s1)C(C)(C)CCC2(C)C</td>\n",
       "      <td>1.445057</td>\n",
       "      <td>-0.037774</td>\n",
       "      <td>0.137799</td>\n",
       "      <td>-0.687002</td>\n",
       "      <td>-0.291058</td>\n",
       "      <td>-0.177107</td>\n",
       "      <td>-0.424712</td>\n",
       "      <td>OC(c1ccc(-c2cnc(s2)-c2cc3c(C(CCC3(C)C)(C)C)cc2C)cc1)=O</td>\n",
       "      <td>[87, 34, 29, 14, 78, 17, 78, 78, 78, 14, 16, 78, 18, 78, 79, 78, 14, 81, 18, 15, 16, 78, 18, 78, 78, 19, 78, 14, 29, 14, 29, 29, 29, 19, 14, 29, 15, 29, 15, 14, 29, 15, 29, 15, 78, 78, 18, 29, 15, 78, 78, 17, 15, 26, 34, 88, 86, 86, 86, 86, 86, 86, 86, 86, 86, 86, 86, 86, 86, 86, 86, 86, 86, 86, 86, 86, 86, 86, 86, 86, 86, 86, 86, 86, 86, 86, 86, 86, 86, 86]</td>\n",
       "      <td>[87, 29, 78, 17, 78, 78, 18, 78, 14, 78, 78, 17, 16, 78, 17, 79, 78, 78, 14, 16, 78, 19, 78, 78, 78, 14, 29, 14, 26, 34, 15, 34, 15, 78, 78, 19, 15, 81, 17, 15, 29, 14, 29, 15, 14, 29, 15, 29, 29, 29, 18, 14, 29, 15, 29, 88, 86, 86, 86, 86, 86, 86, 86, 86, 86, 86, 86, 86, 86, 86, 86, 86, 86, 86, 86, 86, 86, 86, 86, 86, 86, 86, 86, 86, 86, 86, 86, 86, 86, 86]</td>\n",
       "    </tr>\n",
       "    <tr>\n",
       "      <th>4</th>\n",
       "      <td>Cc1ccc(-c2ccc(C(=O)O)cc2)cc1-c1cc2c(cc1C)C(C)(C)CCC2(C)C</td>\n",
       "      <td>1.828629</td>\n",
       "      <td>0.093436</td>\n",
       "      <td>0.356567</td>\n",
       "      <td>-1.168729</td>\n",
       "      <td>-0.291058</td>\n",
       "      <td>-0.081930</td>\n",
       "      <td>-0.537745</td>\n",
       "      <td>OC(=O)c1ccc(cc1)-c1cc(-c2cc3C(C)(CCC(c3cc2C)(C)C)C)c(cc1)C</td>\n",
       "      <td>[87, 34, 29, 14, 26, 34, 15, 78, 17, 78, 78, 78, 14, 78, 78, 17, 15, 16, 78, 17, 78, 78, 14, 16, 78, 18, 78, 78, 19, 29, 14, 29, 15, 14, 29, 29, 29, 14, 78, 19, 78, 78, 18, 29, 15, 14, 29, 15, 29, 15, 29, 15, 78, 14, 78, 78, 17, 15, 29, 88, 86, 86, 86, 86, 86, 86, 86, 86, 86, 86, 86, 86, 86, 86, 86, 86, 86, 86, 86, 86, 86, 86, 86, 86, 86, 86, 86, 86, 86, 86]</td>\n",
       "      <td>[87, 29, 78, 17, 78, 78, 78, 14, 16, 78, 18, 78, 78, 78, 14, 29, 14, 26, 34, 15, 34, 15, 78, 78, 18, 15, 78, 78, 17, 16, 78, 17, 78, 78, 18, 78, 14, 78, 78, 17, 29, 15, 29, 14, 29, 15, 14, 29, 15, 29, 29, 29, 18, 14, 29, 15, 29, 88, 86, 86, 86, 86, 86, 86, 86, 86, 86, 86, 86, 86, 86, 86, 86, 86, 86, 86, 86, 86, 86, 86, 86, 86, 86, 86, 86, 86, 86, 86, 86, 86]</td>\n",
       "    </tr>\n",
       "    <tr>\n",
       "      <th>...</th>\n",
       "      <td>...</td>\n",
       "      <td>...</td>\n",
       "      <td>...</td>\n",
       "      <td>...</td>\n",
       "      <td>...</td>\n",
       "      <td>...</td>\n",
       "      <td>...</td>\n",
       "      <td>...</td>\n",
       "      <td>...</td>\n",
       "      <td>...</td>\n",
       "      <td>...</td>\n",
       "    </tr>\n",
       "    <tr>\n",
       "      <th>698590</th>\n",
       "      <td>CC(=O)N1CCN(c2ccc3c(c2)CCCN3S(=O)(=O)N(C)Cc2cccc(Cl)c2)CC1</td>\n",
       "      <td>-0.218516</td>\n",
       "      <td>0.084484</td>\n",
       "      <td>-0.420445</td>\n",
       "      <td>-0.446138</td>\n",
       "      <td>-0.535145</td>\n",
       "      <td>0.032283</td>\n",
       "      <td>-0.302121</td>\n",
       "      <td>c12cc(ccc1N(S(=O)(N(C)Cc1cccc(c1)Cl)=O)CCC2)N1CCN(CC1)C(=O)C</td>\n",
       "      <td>[87, 78, 17, 18, 78, 78, 14, 78, 78, 78, 17, 33, 14, 36, 14, 26, 34, 15, 14, 33, 14, 29, 15, 29, 78, 17, 78, 78, 78, 78, 14, 78, 17, 15, 30, 15, 26, 34, 15, 29, 29, 29, 18, 15, 33, 17, 29, 29, 33, 14, 29, 29, 17, 15, 29, 14, 26, 34, 15, 29, 88, 86, 86, 86, 86, 86, 86, 86, 86, 86, 86, 86, 86, 86, 86, 86, 86, 86, 86, 86, 86, 86, 86, 86, 86, 86, 86, 86, 86, 86]</td>\n",
       "      <td>[87, 29, 29, 14, 26, 34, 15, 33, 17, 29, 29, 33, 14, 78, 18, 78, 78, 78, 19, 78, 14, 78, 18, 15, 29, 29, 29, 33, 19, 36, 14, 26, 34, 15, 14, 26, 34, 15, 33, 14, 29, 15, 29, 78, 18, 78, 78, 78, 78, 14, 30, 15, 78, 18, 15, 29, 29, 17, 88, 86, 86, 86, 86, 86, 86, 86, 86, 86, 86, 86, 86, 86, 86, 86, 86, 86, 86, 86, 86, 86, 86, 86, 86, 86, 86, 86, 86, 86, 86, 86]</td>\n",
       "    </tr>\n",
       "    <tr>\n",
       "      <th>698591</th>\n",
       "      <td>CC(=O)N1CCN(c2ccc3c(c2)CCCN3S(=O)(=O)N(C)Cc2ccc(Cl)cc2)CC1</td>\n",
       "      <td>-0.218516</td>\n",
       "      <td>0.084484</td>\n",
       "      <td>-0.439187</td>\n",
       "      <td>-0.446138</td>\n",
       "      <td>-0.535145</td>\n",
       "      <td>0.032283</td>\n",
       "      <td>-0.302121</td>\n",
       "      <td>N1(CCN(C(C)=O)CC1)c1ccc2N(S(=O)(=O)N(Cc3ccc(cc3)Cl)C)CCCc2c1</td>\n",
       "      <td>[87, 33, 17, 14, 29, 29, 33, 14, 29, 14, 29, 15, 26, 34, 15, 29, 29, 17, 15, 78, 17, 78, 78, 78, 18, 33, 14, 36, 14, 26, 34, 15, 14, 26, 34, 15, 33, 14, 29, 78, 19, 78, 78, 78, 14, 78, 78, 19, 15, 30, 15, 29, 15, 29, 29, 29, 78, 18, 78, 17, 88, 86, 86, 86, 86, 86, 86, 86, 86, 86, 86, 86, 86, 86, 86, 86, 86, 86, 86, 86, 86, 86, 86, 86, 86, 86, 86, 86, 86, 86]</td>\n",
       "      <td>[87, 29, 29, 14, 26, 34, 15, 33, 17, 29, 29, 33, 14, 78, 18, 78, 78, 78, 19, 78, 14, 78, 18, 15, 29, 29, 29, 33, 19, 36, 14, 26, 34, 15, 14, 26, 34, 15, 33, 14, 29, 15, 29, 78, 18, 78, 78, 78, 14, 30, 15, 78, 78, 18, 15, 29, 29, 17, 88, 86, 86, 86, 86, 86, 86, 86, 86, 86, 86, 86, 86, 86, 86, 86, 86, 86, 86, 86, 86, 86, 86, 86, 86, 86, 86, 86, 86, 86, 86, 86]</td>\n",
       "    </tr>\n",
       "    <tr>\n",
       "      <th>698592</th>\n",
       "      <td>CCS(=O)(=O)c1ccc(CC(=O)Nc2cc(Cl)c(-c3ccccc3)c(Cl)c2)cc1</td>\n",
       "      <td>0.905880</td>\n",
       "      <td>-0.060467</td>\n",
       "      <td>0.064344</td>\n",
       "      <td>-0.687002</td>\n",
       "      <td>-0.291058</td>\n",
       "      <td>-0.177107</td>\n",
       "      <td>-0.310276</td>\n",
       "      <td>c1cc(ccc1)-c1c(cc(NC(Cc2ccc(S(=O)(CC)=O)cc2)=O)cc1Cl)Cl</td>\n",
       "      <td>[87, 78, 17, 78, 78, 14, 78, 78, 78, 17, 15, 16, 78, 17, 78, 14, 78, 78, 14, 33, 29, 14, 29, 78, 18, 78, 78, 78, 14, 36, 14, 26, 34, 15, 14, 29, 29, 15, 26, 34, 15, 78, 78, 18, 15, 26, 34, 15, 78, 78, 17, 30, 15, 30, 88, 86, 86, 86, 86, 86, 86, 86, 86, 86, 86, 86, 86, 86, 86, 86, 86, 86, 86, 86, 86, 86, 86, 86, 86, 86, 86, 86, 86, 86, 86, 86, 86, 86, 86, 86]</td>\n",
       "      <td>[87, 29, 29, 36, 14, 26, 34, 15, 14, 26, 34, 15, 78, 17, 78, 78, 78, 14, 29, 29, 14, 26, 34, 15, 33, 78, 18, 78, 78, 14, 30, 15, 78, 14, 16, 78, 19, 78, 78, 78, 78, 78, 19, 15, 78, 14, 30, 15, 78, 18, 15, 78, 78, 17, 88, 86, 86, 86, 86, 86, 86, 86, 86, 86, 86, 86, 86, 86, 86, 86, 86, 86, 86, 86, 86, 86, 86, 86, 86, 86, 86, 86, 86, 86, 86, 86, 86, 86, 86, 86]</td>\n",
       "    </tr>\n",
       "    <tr>\n",
       "      <th>698593</th>\n",
       "      <td>CCS(=O)(=O)c1ccc(CC(=O)Nc2cc(Cl)c(-c3cccc(C#N)c3)c(Cl)c2)cc1</td>\n",
       "      <td>0.848104</td>\n",
       "      <td>0.007780</td>\n",
       "      <td>0.131350</td>\n",
       "      <td>-0.446138</td>\n",
       "      <td>-0.291058</td>\n",
       "      <td>-0.100965</td>\n",
       "      <td>-0.101660</td>\n",
       "      <td>C(c1cc(ccc1)-c1c(cc(cc1Cl)NC(=O)Cc1ccc(cc1)S(CC)(=O)=O)Cl)#N</td>\n",
       "      <td>[87, 29, 14, 78, 17, 78, 78, 14, 78, 78, 78, 17, 15, 16, 78, 17, 78, 14, 78, 78, 14, 78, 78, 17, 30, 15, 33, 29, 14, 26, 34, 15, 29, 78, 17, 78, 78, 78, 14, 78, 78, 17, 15, 36, 14, 29, 29, 15, 14, 26, 34, 15, 26, 34, 15, 30, 15, 0, 33, 88, 86, 86, 86, 86, 86, 86, 86, 86, 86, 86, 86, 86, 86, 86, 86, 86, 86, 86, 86, 86, 86, 86, 86, 86, 86, 86, 86, 86, 86, 86]</td>\n",
       "      <td>[87, 29, 29, 36, 14, 26, 34, 15, 14, 26, 34, 15, 78, 17, 78, 78, 78, 14, 29, 29, 14, 26, 34, 15, 33, 78, 18, 78, 78, 14, 30, 15, 78, 14, 16, 78, 19, 78, 78, 78, 78, 14, 29, 0, 33, 15, 78, 19, 15, 78, 14, 30, 15, 78, 18, 15, 78, 78, 17, 88, 86, 86, 86, 86, 86, 86, 86, 86, 86, 86, 86, 86, 86, 86, 86, 86, 86, 86, 86, 86, 86, 86, 86, 86, 86, 86, 86, 86, 86, 86]</td>\n",
       "    </tr>\n",
       "    <tr>\n",
       "      <th>698594</th>\n",
       "      <td>CCS(=O)(=O)c1ccc(CC(=O)Nc2cc(Cl)c(-c3ccc(CC4CCN(C(=O)C(C)(C)C)CC4)c(C#N)c3)c(Cl)c2)cc1</td>\n",
       "      <td>1.670791</td>\n",
       "      <td>0.767147</td>\n",
       "      <td>-0.645755</td>\n",
       "      <td>-0.205274</td>\n",
       "      <td>-0.291058</td>\n",
       "      <td>0.603345</td>\n",
       "      <td>0.076439</td>\n",
       "      <td>C(=O)(C(C)(C)C)N1CCC(Cc2ccc(cc2C#N)-c2c(Cl)cc(NC(Cc3ccc(S(=O)(=O)CC)cc3)=O)cc2Cl)CC1</td>\n",
       "      <td>[87, 29, 14, 26, 34, 15, 14, 29, 14, 29, 15, 14, 29, 15, 29, 15, 33, 17, 29, 29, 29, 14, 29, 78, 18, 78, 78, 78, 14, 78, 78, 18, 29, 0, 33, 15, 16, 78, 18, 78, 14, 30, 15, 78, 78, 14, 33, 29, 14, 29, 78, 19, 78, 78, 78, 14, 36, 14, 26, 34, 15, 14, 26, 34, 15, 29, 29, 15, 78, 78, 19, 15, 26, 34, 15, 78, 78, 18, 30, 15, 29, 29, 17, 88, 86, 86, 86, 86, 86, 86]</td>\n",
       "      <td>[87, 29, 29, 36, 14, 26, 34, 15, 14, 26, 34, 15, 78, 17, 78, 78, 78, 14, 29, 29, 14, 26, 34, 15, 33, 78, 18, 78, 78, 14, 30, 15, 78, 14, 16, 78, 19, 78, 78, 78, 14, 29, 29, 20, 29, 29, 33, 14, 29, 14, 26, 34, 15, 29, 14, 29, 15, 14, 29, 15, 29, 15, 29, 29, 20, 15, 78, 14, 29, 0, 33, 15, 78, 19, 15, 78, 14, 30, 15, 78, 18, 15, 78, 78, 17, 88, 86, 86, 86, 86]</td>\n",
       "    </tr>\n",
       "  </tbody>\n",
       "</table>\n",
       "<p>663369 rows × 11 columns</p>\n",
       "</div>"
      ]
     },
     "execution_count": 83,
     "metadata": {},
     "output_type": "execute_result"
    }
   ],
   "execution_count": 83
  },
  {
   "metadata": {},
   "cell_type": "code",
   "outputs": [],
   "execution_count": null,
   "source": "",
   "id": "32905215e61ed7d2"
  },
  {
   "metadata": {
    "ExecuteTime": {
     "end_time": "2025-03-15T14:30:34.937620Z",
     "start_time": "2025-03-15T14:30:34.909946Z"
    }
   },
   "cell_type": "code",
   "source": [
    "from tqdm import tqdm\n",
    "if hasattr(tqdm, '_instances'):\n",
    "    tqdm._instances.clear()"
   ],
   "id": "435a443653e9920b",
   "outputs": [],
   "execution_count": 92
  },
  {
   "metadata": {
    "ExecuteTime": {
     "end_time": "2025-03-16T04:18:51.664446Z",
     "start_time": "2025-03-16T04:18:42.312033Z"
    }
   },
   "cell_type": "code",
   "source": [
    "from main import prepare_dataset\n",
    "\n",
    "df, scaler, lookup_table, max_length = prepare_dataset('data/250k_rndm_zinc_drugs_clean_3.csv', smiles_col='smiles', len_quantile=0.99)\n",
    "max_length"
   ],
   "id": "be30052b3bb3534c",
   "outputs": [
    {
     "name": "stderr",
     "output_type": "stream",
     "text": [
      "[05:18:42] Initializing Normalizer\n",
      "Building token set: 100%|██████████| 249455/249455 [00:01<00:00, 211915.05it/s]\n"
     ]
    },
    {
     "name": "stdout",
     "output_type": "stream",
     "text": [
      "Tokenizing SMILES strings...\n",
      "Filtering tokens by sequence length...\n",
      "Padding token sequences...\n"
     ]
    },
    {
     "data": {
      "text/plain": [
       "65"
      ]
     },
     "execution_count": 4,
     "metadata": {},
     "output_type": "execute_result"
    }
   ],
   "execution_count": 4
  },
  {
   "metadata": {
    "ExecuteTime": {
     "end_time": "2025-03-16T03:16:09.177184Z",
     "start_time": "2025-03-16T03:15:32.884901Z"
    }
   },
   "cell_type": "code",
   "source": [
    "df, scaler, lookup_table, max_length = prepare_dataset('data/700k_all_chembl.smi.zst')\n",
    "\n",
    "max_length"
   ],
   "id": "ce0ad2cad0e67015",
   "outputs": [
    {
     "name": "stderr",
     "output_type": "stream",
     "text": [
      "Building token set: 100%|██████████| 698595/698595 [00:04<00:00, 161622.54it/s]\n"
     ]
    },
    {
     "name": "stdout",
     "output_type": "stream",
     "text": [
      "Encoding SMILES strings...\n",
      "Filtering tokens by sequence length...\n",
      "Padding token sequences...\n"
     ]
    },
    {
     "data": {
      "text/plain": [
       "90"
      ]
     },
     "execution_count": 4,
     "metadata": {},
     "output_type": "execute_result"
    }
   ],
   "execution_count": 4
  },
  {
   "metadata": {
    "ExecuteTime": {
     "end_time": "2025-03-16T03:22:58.772741Z",
     "start_time": "2025-03-16T03:22:28.334830Z"
    }
   },
   "cell_type": "code",
   "source": [
    "df, scaler, lookup_table, max_length = prepare_dataset('data/600k_chembl_filtered.smi.zst', len_quantile=0.95)\n",
    "max_length"
   ],
   "id": "4c45782495cc12d9",
   "outputs": [
    {
     "name": "stderr",
     "output_type": "stream",
     "text": [
      "Building token set: 100%|██████████| 636218/636218 [00:04<00:00, 147694.71it/s]\n"
     ]
    },
    {
     "name": "stdout",
     "output_type": "stream",
     "text": [
      "Tokenizing SMILES strings...\n",
      "Filtering tokens by sequence length...\n",
      "Padding token sequences...\n"
     ]
    },
    {
     "data": {
      "text/plain": [
       "77"
      ]
     },
     "execution_count": 23,
     "metadata": {},
     "output_type": "execute_result"
    }
   ],
   "execution_count": 23
  },
  {
   "metadata": {
    "ExecuteTime": {
     "end_time": "2025-03-16T03:23:23.641145Z",
     "start_time": "2025-03-16T03:22:58.776705Z"
    }
   },
   "cell_type": "code",
   "source": [
    "df, scaler, lookup_table, max_length = prepare_dataset('data/600k_chembl_filtered.smi.zst', len_quantile=0.99)\n",
    "max_length"
   ],
   "id": "6187f6ff843d2d94",
   "outputs": [
    {
     "name": "stderr",
     "output_type": "stream",
     "text": [
      "Building token set: 100%|██████████| 636218/636218 [00:03<00:00, 171834.39it/s]\n"
     ]
    },
    {
     "name": "stdout",
     "output_type": "stream",
     "text": [
      "Tokenizing SMILES strings...\n",
      "Filtering tokens by sequence length...\n",
      "Padding token sequences...\n"
     ]
    },
    {
     "data": {
      "text/plain": [
       "81"
      ]
     },
     "execution_count": 24,
     "metadata": {},
     "output_type": "execute_result"
    }
   ],
   "execution_count": 24
  },
  {
   "metadata": {
    "ExecuteTime": {
     "end_time": "2025-03-16T03:17:26.944363Z",
     "start_time": "2025-03-16T03:17:26.770477Z"
    }
   },
   "cell_type": "code",
   "source": [
    "import torch\n",
    "from models import Encoder\n",
    "from utils import load_lookup_table\n",
    "\n",
    "lookup_table = load_lookup_table('250k_zinc_output/lookup_table.json')\n",
    "encoder = Encoder(vocab_size=len(lookup_table))\n",
    "encoder.load_state_dict(torch.load('250k_zinc_output/models/encoder_model.pt'))\n",
    "encoder"
   ],
   "id": "5eae4c35913e5663",
   "outputs": [
    {
     "name": "stderr",
     "output_type": "stream",
     "text": [
      "/tmp/ipykernel_11276/3006119689.py:7: FutureWarning: You are using `torch.load` with `weights_only=False` (the current default value), which uses the default pickle module implicitly. It is possible to construct malicious pickle data which will execute arbitrary code during unpickling (See https://github.com/pytorch/pytorch/blob/main/SECURITY.md#untrusted-models for more details). In a future release, the default value for `weights_only` will be flipped to `True`. This limits the functions that could be executed during unpickling. Arbitrary objects will no longer be allowed to be loaded via this mode unless they are explicitly allowlisted by the user via `torch.serialization.add_safe_globals`. We recommend you start setting `weights_only=True` for any use case where you don't have full control of the loaded file. Please open an issue on GitHub for any issues related to this experimental feature.\n",
      "  encoder.load_state_dict(torch.load('250k_zinc_output/models/encoder_model.pt'))\n"
     ]
    },
    {
     "data": {
      "text/plain": [
       "Encoder(\n",
       "  (gru1): GRU(46, 512, batch_first=True)\n",
       "  (gru2): GRU(512, 1024, batch_first=True)\n",
       "  (gru3): GRU(1024, 2048, batch_first=True)\n",
       "  (dropout): Dropout(p=0.15, inplace=False)\n",
       "  (latent_projection): Linear(in_features=3584, out_features=512, bias=True)\n",
       "  (gaussian_noise): GaussianNoise()\n",
       ")"
      ]
     },
     "execution_count": 9,
     "metadata": {},
     "output_type": "execute_result"
    }
   ],
   "execution_count": 9
  },
  {
   "metadata": {
    "ExecuteTime": {
     "end_time": "2025-03-16T03:17:28.866398Z",
     "start_time": "2025-03-16T03:17:28.831349Z"
    }
   },
   "cell_type": "code",
   "source": [
    "from tokens import SmilesTokenizer\n",
    "tokenizer = SmilesTokenizer(lookup_table=lookup_table, max_length=60)\n",
    "tokenizer.tokenize('CO')"
   ],
   "id": "dde09930f3cbd7f2",
   "outputs": [
    {
     "data": {
      "text/plain": [
       "array([44, 14, 19, 45, 43, 43, 43, 43, 43, 43, 43, 43, 43, 43, 43, 43, 43,\n",
       "       43, 43, 43, 43, 43, 43, 43, 43, 43, 43, 43, 43, 43, 43, 43, 43, 43,\n",
       "       43, 43, 43, 43, 43, 43, 43, 43, 43, 43, 43, 43, 43, 43, 43, 43, 43,\n",
       "       43, 43, 43, 43, 43, 43, 43, 43, 43])"
      ]
     },
     "execution_count": 10,
     "metadata": {},
     "output_type": "execute_result"
    }
   ],
   "execution_count": 10
  },
  {
   "metadata": {
    "ExecuteTime": {
     "end_time": "2025-03-16T03:17:30.550852Z",
     "start_time": "2025-03-16T03:17:30.482450Z"
    }
   },
   "cell_type": "code",
   "source": [
    "vec = encoder(torch.tensor(tokenizer.batch_tokenize(['CO', 'CN']))).detach().numpy()\n",
    "\n",
    "print(vec)"
   ],
   "id": "606fe133b20a003f",
   "outputs": [
    {
     "name": "stdout",
     "output_type": "stream",
     "text": [
      "[[-0.5967816   0.1704576  -0.14761288 ...  0.00169486  0.5972924\n",
      "   0.62065905]\n",
      " [-0.5854546  -0.00093883  0.04204349 ...  0.09034973  0.40804797\n",
      "   0.49407646]]\n"
     ]
    }
   ],
   "execution_count": 11
  },
  {
   "metadata": {
    "ExecuteTime": {
     "end_time": "2025-03-16T03:17:36.556629Z",
     "start_time": "2025-03-16T03:17:35.605059Z"
    }
   },
   "cell_type": "code",
   "source": [
    "import pandas as pd\n",
    "df = pd.read_csv('data/600k_chembl_filtered.smi.zst', header=None, names=['smiles'])"
   ],
   "id": "a3df746dbd756dbb",
   "outputs": [],
   "execution_count": 12
  },
  {
   "metadata": {
    "ExecuteTime": {
     "end_time": "2025-03-16T03:17:38.430788Z",
     "start_time": "2025-03-16T03:17:38.401778Z"
    }
   },
   "cell_type": "code",
   "source": "tokenizer.batch_tokenize(['CO', 'CN'])",
   "id": "f11f3607f59842e3",
   "outputs": [
    {
     "data": {
      "text/plain": [
       "array([[44, 14, 19, 45, 43, 43, 43, 43, 43, 43, 43, 43, 43, 43, 43, 43,\n",
       "        43, 43, 43, 43, 43, 43, 43, 43, 43, 43, 43, 43, 43, 43, 43, 43,\n",
       "        43, 43, 43, 43, 43, 43, 43, 43, 43, 43, 43, 43, 43, 43, 43, 43,\n",
       "        43, 43, 43, 43, 43, 43, 43, 43, 43, 43, 43, 43],\n",
       "       [44, 14, 18, 45, 43, 43, 43, 43, 43, 43, 43, 43, 43, 43, 43, 43,\n",
       "        43, 43, 43, 43, 43, 43, 43, 43, 43, 43, 43, 43, 43, 43, 43, 43,\n",
       "        43, 43, 43, 43, 43, 43, 43, 43, 43, 43, 43, 43, 43, 43, 43, 43,\n",
       "        43, 43, 43, 43, 43, 43, 43, 43, 43, 43, 43, 43]])"
      ]
     },
     "execution_count": 13,
     "metadata": {},
     "output_type": "execute_result"
    }
   ],
   "execution_count": 13
  },
  {
   "metadata": {
    "ExecuteTime": {
     "end_time": "2025-03-16T03:17:41.888497Z",
     "start_time": "2025-03-16T03:17:41.820262Z"
    }
   },
   "cell_type": "code",
   "source": [
    "import numpy as np\n",
    "from tqdm import tqdm\n",
    "\n",
    "token_ids = []\n",
    "\n",
    "for smi in tqdm(df.smiles[:1000]):\n",
    "    ids = tokenizer.tokenize(smi)\n",
    "    token_ids.append(ids)\n",
    "    if len(ids) != 60:\n",
    "        print(smi)"
   ],
   "id": "6f30a8932623b903",
   "outputs": [
    {
     "name": "stderr",
     "output_type": "stream",
     "text": [
      "100%|██████████| 1000/1000 [00:00<00:00, 45564.51it/s]\n"
     ]
    }
   ],
   "execution_count": 14
  },
  {
   "metadata": {
    "ExecuteTime": {
     "end_time": "2025-03-16T03:17:46.496595Z",
     "start_time": "2025-03-16T03:17:46.471561Z"
    }
   },
   "cell_type": "code",
   "source": "tokenizer.tokenize('CC1=NN(c2ccccc2)C(=O)C1C=C1C(=O)NC(=O)N(c2cc(C)cc(C)c2)C1=O')",
   "id": "cd5afa744b8b937f",
   "outputs": [
    {
     "data": {
      "text/plain": [
       "array([nan, nan, nan, nan, nan, nan, nan, nan, nan, nan, nan, nan, nan,\n",
       "       nan, nan, nan, nan, nan, nan, nan, nan, nan, nan, nan, nan, nan,\n",
       "       nan, nan, nan, nan, nan, nan, nan, nan, nan, nan, nan, nan, nan,\n",
       "       nan, nan, nan, nan, nan, nan, nan, nan, nan, nan, nan, nan, nan,\n",
       "       nan, nan, nan, nan, nan, nan, nan, nan])"
      ]
     },
     "execution_count": 15,
     "metadata": {},
     "output_type": "execute_result"
    }
   ],
   "execution_count": 15
  },
  {
   "metadata": {
    "ExecuteTime": {
     "end_time": "2025-03-16T03:17:57.259327Z",
     "start_time": "2025-03-16T03:17:48.963058Z"
    }
   },
   "cell_type": "code",
   "source": [
    "token_arr = tokenizer.batch_tokenize(df.smiles.tolist())\n",
    "token_arr.shape"
   ],
   "id": "aa21fa879f1d98f4",
   "outputs": [
    {
     "data": {
      "text/plain": [
       "(636218, 60)"
      ]
     },
     "execution_count": 16,
     "metadata": {},
     "output_type": "execute_result"
    }
   ],
   "execution_count": 16
  },
  {
   "metadata": {
    "ExecuteTime": {
     "end_time": "2025-03-16T03:18:03.342317Z",
     "start_time": "2025-03-16T03:18:03.282045Z"
    }
   },
   "cell_type": "code",
   "source": "mask = ~np.isnan(token_arr).any(axis=1)",
   "id": "7b37c5e84b889092",
   "outputs": [],
   "execution_count": 17
  },
  {
   "metadata": {
    "ExecuteTime": {
     "end_time": "2025-03-16T03:18:04.486744Z",
     "start_time": "2025-03-16T03:18:04.424453Z"
    }
   },
   "cell_type": "code",
   "source": "token_arr[mask].shape",
   "id": "1d1be8ae86b7e1df",
   "outputs": [
    {
     "data": {
      "text/plain": [
       "(510200, 60)"
      ]
     },
     "execution_count": 18,
     "metadata": {},
     "output_type": "execute_result"
    }
   ],
   "execution_count": 18
  },
  {
   "metadata": {
    "ExecuteTime": {
     "end_time": "2025-03-16T03:18:09.690467Z",
     "start_time": "2025-03-16T03:18:09.597384Z"
    }
   },
   "cell_type": "code",
   "source": "token_arr[mask].astype(np.int32)",
   "id": "336276f74a235f5c",
   "outputs": [
    {
     "data": {
      "text/plain": [
       "array([[44, 14, 14, ..., 43, 43, 43],\n",
       "       [44, 14, 38, ..., 43, 43, 43],\n",
       "       [44, 14, 38, ..., 43, 43, 43],\n",
       "       ...,\n",
       "       [44, 14, 14, ...,  4, 45, 43],\n",
       "       [44, 14, 14, ..., 43, 43, 43],\n",
       "       [44, 14, 14, ..., 38,  4, 45]], dtype=int32)"
      ]
     },
     "execution_count": 19,
     "metadata": {},
     "output_type": "execute_result"
    }
   ],
   "execution_count": 19
  },
  {
   "metadata": {
    "ExecuteTime": {
     "end_time": "2025-03-16T03:19:10.270204Z",
     "start_time": "2025-03-16T03:18:59.760196Z"
    }
   },
   "cell_type": "code",
   "source": [
    "import torch\n",
    "import numpy as np\n",
    "\n",
    "# Assuming token_arr[mask] is already defined\n",
    "token_tensor = torch.tensor(token_arr[mask], dtype=torch.int64)\n",
    "\n",
    "# Move token tensor to CUDA\n",
    "token_tensor = token_tensor.to('cuda:0')\n",
    "encoder = encoder.to('cuda:0')\n",
    "\n",
    "# Define batch size\n",
    "batch_size = 128  # Adjust based on available GPU memory\n",
    "batches = torch.split(token_tensor, batch_size)\n",
    "\n",
    "# List to store output vectors\n",
    "cddd_vec_list = []\n",
    "\n",
    "# Iterate over batches\n",
    "with torch.no_grad():  # Disable gradient computation for efficiency\n",
    "    for batch in tqdm(batches):\n",
    "        batch_vec = encoder(batch).detach().cpu().numpy().astype(np.float32)  # Convert to float32\n",
    "        cddd_vec_list.append(batch_vec)\n",
    "\n",
    "# Concatenate results\n",
    "cddd_vec = np.concatenate(cddd_vec_list, axis=0)  # Assuming output is 2D (N, D)\n",
    "\n",
    "print(f\"Final shape: {cddd_vec.shape}, dtype: {cddd_vec.dtype}\")\n"
   ],
   "id": "71cb25b7295b80c3",
   "outputs": [
    {
     "name": "stderr",
     "output_type": "stream",
     "text": [
      "100%|██████████| 3986/3986 [00:10<00:00, 389.69it/s]\n"
     ]
    },
    {
     "name": "stdout",
     "output_type": "stream",
     "text": [
      "Final shape: (510200, 512), dtype: float32\n"
     ]
    }
   ],
   "execution_count": 21
  },
  {
   "metadata": {
    "ExecuteTime": {
     "end_time": "2025-03-16T04:34:03.081785Z",
     "start_time": "2025-03-16T04:34:01.546263Z"
    }
   },
   "cell_type": "code",
   "source": [
    "%load_ext autoreload\n",
    "%autoreload 2\n",
    "\n",
    "from inference import SMILESEncoder\n",
    "\n",
    "encoder = SMILESEncoder('250k_zinc_output')"
   ],
   "id": "7a9239885e02e633",
   "outputs": [],
   "execution_count": 1
  },
  {
   "metadata": {
    "ExecuteTime": {
     "end_time": "2025-03-16T04:34:05.637445Z",
     "start_time": "2025-03-16T04:34:05.527640Z"
    }
   },
   "cell_type": "code",
   "source": "encoder(['CO', 'CN'])",
   "id": "f99ce910a3186444",
   "outputs": [
    {
     "name": "stderr",
     "output_type": "stream",
     "text": [
      "Encoding SMILES: 100%|██████████| 1/1 [00:00<00:00, 11.45it/s]\n"
     ]
    },
    {
     "data": {
      "text/plain": [
       "array([[-0.6304246 ,  0.23668163, -0.00931907, ...,  0.07803214,\n",
       "         0.50458324,  0.6139616 ],\n",
       "       [-0.54407984,  0.03470555,  0.01278339, ...,  0.01867415,\n",
       "         0.50783044,  0.53454304]], dtype=float32)"
      ]
     },
     "execution_count": 2,
     "metadata": {},
     "output_type": "execute_result"
    }
   ],
   "execution_count": 2
  },
  {
   "metadata": {
    "ExecuteTime": {
     "end_time": "2025-03-16T04:34:07.271662Z",
     "start_time": "2025-03-16T04:34:07.228145Z"
    }
   },
   "cell_type": "code",
   "source": [
    "smi = 'CCOc1ccc(OCC)c([C@H]2C(C#N)=C(N)N(c3ccccc3C(F)(F)F)C3=C2C(=O)CCC3)c1'\n",
    "encoder(smi)"
   ],
   "id": "5b7037ba652a87f8",
   "outputs": [
    {
     "name": "stderr",
     "output_type": "stream",
     "text": [
      "Encoding SMILES: 100%|██████████| 1/1 [00:00<00:00, 51.89it/s]\n"
     ]
    },
    {
     "data": {
      "text/plain": [
       "array([-2.33346045e-01,  2.11809397e-01,  4.50099260e-01, -7.23448694e-01,\n",
       "        1.80236727e-01,  1.35352593e-02,  4.74113375e-01,  3.51042718e-01,\n",
       "       -4.86536413e-01, -3.16497356e-01, -6.60222471e-01,  3.79078835e-01,\n",
       "       -2.27939427e-01, -1.91705544e-02, -6.02066278e-01, -2.76844561e-01,\n",
       "       -4.36519206e-01,  4.66927290e-01,  2.91375309e-01, -6.92498326e-01,\n",
       "       -4.78886276e-01, -3.46891791e-01,  1.58121943e-01, -6.30861402e-01,\n",
       "       -1.69504151e-01,  3.49664867e-01,  2.80315787e-01, -4.18642730e-01,\n",
       "        1.56774402e-01,  5.10418355e-01, -1.76414400e-02, -2.30628289e-02,\n",
       "        2.22075954e-01,  3.36660981e-01,  8.68375376e-02, -8.55920315e-02,\n",
       "       -5.31400859e-01,  4.54104990e-01,  1.81561798e-01,  2.39016756e-01,\n",
       "        6.30357742e-01, -2.71569435e-02, -3.37951332e-02,  3.20367396e-01,\n",
       "        3.59472275e-01,  2.44849622e-01,  1.89236030e-01, -1.87072575e-01,\n",
       "       -4.48063314e-01,  1.15371309e-01, -5.85734725e-01, -8.03245138e-03,\n",
       "        7.35326648e-01,  4.53210399e-02, -2.42343903e-01, -4.34139639e-01,\n",
       "        6.93400383e-01, -7.78288916e-02, -1.49141803e-01,  4.75320965e-01,\n",
       "        4.14417922e-01, -3.63974512e-01,  6.91825867e-01,  1.69925258e-01,\n",
       "       -7.38213897e-01, -7.11942017e-02,  1.03940129e-01,  7.12218285e-01,\n",
       "       -8.17569137e-01, -3.16734642e-01, -4.14343551e-02,  3.38055283e-01,\n",
       "       -2.32527986e-01,  6.67157650e-01, -6.73347712e-01, -1.29750133e-01,\n",
       "        9.70258951e-01,  4.29382771e-01,  4.07356530e-01,  7.13710010e-01,\n",
       "        5.43053150e-01, -1.63018107e-01, -4.42645580e-01, -4.24893290e-01,\n",
       "       -3.06680053e-01, -8.43677402e-01, -1.26604959e-01, -3.81692976e-01,\n",
       "       -2.01132104e-01,  1.91729832e-02, -3.93351853e-01, -2.86689140e-02,\n",
       "       -5.67694828e-02,  8.43017548e-02, -1.58637390e-01,  7.37632692e-01,\n",
       "       -2.70150423e-01, -3.29913795e-02, -5.25456607e-01,  1.54584572e-01,\n",
       "       -7.02829063e-01, -5.59665322e-01,  5.20676911e-01, -4.79139954e-01,\n",
       "       -1.46005182e-02,  3.80537510e-01,  2.39748508e-02, -7.91781783e-01,\n",
       "       -2.09390998e-01, -5.06753564e-01, -2.95499891e-01, -5.24938941e-01,\n",
       "        2.78079420e-01,  8.07013035e-01,  6.37299180e-01, -3.51391792e-01,\n",
       "        1.03553809e-01,  9.45914090e-02, -7.89548695e-01, -2.10838169e-02,\n",
       "       -6.57713652e-01, -8.07382911e-02, -4.55616623e-01,  1.88910645e-02,\n",
       "        1.93764910e-01, -2.13336691e-01, -3.13599408e-01, -3.47120464e-01,\n",
       "       -5.25620878e-01,  5.65121055e-01, -4.31175381e-01,  6.01276040e-01,\n",
       "        6.37750208e-01, -1.76904619e-01, -4.47072126e-02, -1.09609991e-01,\n",
       "        3.59262913e-01,  2.08498210e-01,  1.72348246e-01,  8.39696229e-01,\n",
       "       -3.19031365e-02,  1.02977015e-01,  4.93754685e-01, -7.33034134e-01,\n",
       "       -2.87626028e-01,  3.27609330e-01,  7.82952189e-01,  4.81549472e-01,\n",
       "       -5.05957127e-01, -4.72885072e-01, -4.05607849e-01,  6.35260165e-01,\n",
       "        2.56001391e-03, -8.74426365e-01,  6.99126482e-01, -4.12049778e-02,\n",
       "       -2.16536745e-01, -6.41332388e-01,  3.13294232e-01,  1.11116149e-01,\n",
       "        4.70421351e-02,  6.46343052e-01,  9.78733301e-01, -4.37661499e-01,\n",
       "        1.90313429e-01,  3.00933599e-01,  3.61961871e-01, -3.90059620e-01,\n",
       "       -5.82469523e-01,  2.31884375e-01,  7.32590139e-01,  4.25384939e-01,\n",
       "        3.98442328e-01, -2.30396256e-01, -2.14477647e-02, -2.08300605e-01,\n",
       "       -1.31793812e-01, -2.76671886e-01, -1.37348637e-01, -3.97130735e-02,\n",
       "        1.22130267e-01, -1.47670135e-01, -6.06435418e-01, -6.61376238e-01,\n",
       "       -1.51849121e-01, -8.90991017e-02, -3.94182712e-01,  3.85405064e-01,\n",
       "        5.97647250e-01, -1.67845309e-01,  2.13600039e-01, -6.89315856e-01,\n",
       "       -3.15990865e-01,  1.00334853e-01, -7.09983826e-01,  1.19728170e-01,\n",
       "        3.01295370e-01,  3.26965638e-02, -3.47923428e-01, -2.20860228e-01,\n",
       "       -3.43778253e-01, -5.14235497e-02,  1.03931189e-01,  1.21372908e-01,\n",
       "       -1.13287650e-01,  3.70182335e-01,  1.20855168e-01,  2.46093482e-01,\n",
       "        1.07450359e-01,  1.03780605e-01, -6.48257136e-01,  4.26068544e-01,\n",
       "       -3.07418108e-01, -3.20900798e-01, -2.15643615e-01,  1.51799425e-01,\n",
       "       -2.82441944e-01, -8.14785779e-01, -1.97530642e-01, -8.41618240e-01,\n",
       "        2.62913615e-01,  3.25100899e-01, -3.11082602e-01,  2.97767103e-01,\n",
       "        5.43548614e-02,  4.82244343e-01,  1.45064324e-01,  6.72350168e-01,\n",
       "        1.95762828e-01, -6.69424891e-01, -4.40778583e-01,  7.31699407e-01,\n",
       "        5.25913537e-02,  6.69907331e-01, -4.05011863e-01, -7.30140209e-01,\n",
       "       -1.87770631e-02, -1.24529555e-01,  3.95361274e-01,  1.20881125e-01,\n",
       "       -1.03755772e-01, -3.03794853e-02, -1.44155752e-02, -2.90387422e-01,\n",
       "       -8.95901680e-01, -6.60166070e-02,  7.02244639e-01,  1.58225950e-02,\n",
       "        1.39711782e-01,  2.89554417e-01,  2.36844029e-02,  3.05462509e-01,\n",
       "       -9.03207779e-01, -8.78260136e-01,  4.52486247e-01,  4.62920904e-01,\n",
       "       -6.22621536e-01, -5.47194004e-01,  5.52055314e-02, -5.74893542e-02,\n",
       "       -1.24660686e-01,  9.57741141e-01,  2.44307652e-01,  2.67410725e-01,\n",
       "        6.06949806e-01,  3.06459188e-01,  2.18099624e-01, -1.34411827e-01,\n",
       "       -3.47388208e-01, -1.19064607e-01, -3.35394451e-03, -3.00692767e-01,\n",
       "       -6.85516238e-01,  3.49191517e-01, -5.30323505e-01, -5.03328562e-01,\n",
       "        1.34454161e-01,  1.75408497e-01, -1.20059460e-01, -9.38138485e-01,\n",
       "       -2.49648705e-01,  5.36199093e-01, -1.79787353e-01,  2.66820192e-01,\n",
       "       -3.75634849e-01,  3.50930035e-01, -6.31025672e-01, -2.82513797e-01,\n",
       "       -1.13215022e-01,  1.86203063e-01,  8.92433897e-03,  1.15953520e-01,\n",
       "        1.18347958e-01,  1.20658457e-01, -4.12604839e-01,  2.11986721e-01,\n",
       "       -2.75427431e-01,  4.18798804e-01,  1.53770536e-01, -1.97734103e-01,\n",
       "        3.39159638e-01,  4.24870193e-01, -2.78988369e-02,  1.52495936e-01,\n",
       "        2.99288958e-01, -3.25443953e-01, -6.68821096e-01, -5.94439447e-01,\n",
       "        5.25798082e-01,  4.17811811e-01,  5.26965976e-01, -3.63632798e-01,\n",
       "        7.80354917e-01,  6.18987083e-01, -1.49209991e-01, -3.60803932e-01,\n",
       "        2.56697625e-01, -4.94768709e-01, -4.98677969e-01, -2.37824008e-01,\n",
       "       -4.71592769e-02,  2.99400240e-01, -6.30638838e-01, -7.28688657e-01,\n",
       "       -4.38714504e-01,  6.38818383e-01, -1.68290764e-01, -4.26772714e-01,\n",
       "        3.62755716e-01, -2.01421142e-01,  1.58034518e-01, -1.54229254e-01,\n",
       "       -2.02229083e-01, -1.66370332e-01,  5.74391484e-02, -1.14945387e-02,\n",
       "       -2.05901146e-01,  8.38822871e-02,  1.77787542e-01,  1.12399913e-01,\n",
       "        2.38129854e-01,  1.66683197e-01,  6.61201119e-01,  2.81946182e-01,\n",
       "        8.79432499e-01,  8.93974125e-01,  3.20759058e-01, -1.58270568e-01,\n",
       "       -1.90140948e-01,  3.77001703e-01,  3.03559124e-01, -5.71254827e-02,\n",
       "        6.79193914e-01, -5.62117668e-03, -4.42216933e-01, -1.53255522e-01,\n",
       "       -1.09116718e-01, -1.80949718e-01, -2.02308625e-01, -3.26941729e-01,\n",
       "       -4.97319311e-01,  1.63387671e-01, -3.89761418e-01, -2.33951896e-01,\n",
       "       -5.46033621e-01,  2.14511260e-01, -5.26911914e-01,  1.53126717e-01,\n",
       "        2.95681179e-01,  5.05292952e-01,  4.10851061e-01, -1.43705830e-01,\n",
       "        3.20932746e-01,  1.75916925e-01,  9.73253399e-02, -3.37692611e-02,\n",
       "        5.20161092e-01,  4.67669189e-01,  5.35656989e-01, -1.05053097e-01,\n",
       "        4.08737540e-01, -8.81448388e-01, -3.01256567e-01, -3.45417768e-01,\n",
       "        2.79024541e-01,  4.33462828e-01, -1.07482500e-01, -8.41658711e-02,\n",
       "        4.60706532e-01,  3.21831673e-01,  8.31391662e-03,  7.91535735e-01,\n",
       "        4.69430268e-01,  1.39125496e-01, -9.98717099e-02, -6.64866328e-01,\n",
       "        5.70322871e-01, -1.79143339e-01,  1.93004925e-02,  4.33540732e-01,\n",
       "       -5.36884367e-01, -3.05326641e-01, -3.82796049e-01,  1.70604333e-01,\n",
       "        1.02150396e-01, -1.03641618e-02,  4.52344388e-01, -1.32375270e-01,\n",
       "        2.91707397e-01, -5.03414690e-01, -6.83343887e-01, -5.52274823e-01,\n",
       "        2.48261571e-01, -5.43754578e-01,  3.69940132e-01, -4.54167783e-01,\n",
       "       -7.92979088e-04, -1.75792113e-01,  2.52044559e-01,  5.89384317e-01,\n",
       "        3.68455797e-01, -1.96608588e-01, -5.52372336e-01,  9.02430788e-02,\n",
       "       -7.04654932e-01,  1.13629408e-01,  6.08786583e-01,  3.52475077e-01,\n",
       "        1.85114652e-01,  2.59459019e-01, -2.34639525e-01,  4.46441084e-01,\n",
       "        1.66532509e-02, -3.26432241e-03, -4.40329723e-02,  7.01774180e-01,\n",
       "       -3.33001316e-01, -1.48507640e-01, -1.11518122e-01, -7.09773973e-03,\n",
       "        2.55255997e-01,  1.24673083e-01,  7.52983764e-02,  2.52424091e-01,\n",
       "        3.06864738e-01,  3.56130511e-01,  6.00318372e-01,  7.51899034e-02,\n",
       "        3.56801033e-01, -4.63016272e-01, -3.12244385e-01,  7.06451952e-01,\n",
       "       -4.72656563e-02, -6.58568978e-01, -3.10219020e-01, -1.47365406e-01,\n",
       "       -5.20433068e-01,  4.36552435e-01, -2.40961418e-01, -1.31934062e-01,\n",
       "       -1.38526633e-01, -8.07177067e-01,  6.45595118e-02,  1.62442520e-01,\n",
       "        2.76514497e-02,  1.18000191e-02, -3.05670440e-01,  1.58527552e-03,\n",
       "       -6.90294266e-01, -6.81490779e-01,  2.28705257e-01, -4.02126789e-01,\n",
       "        4.35336307e-02,  7.24254362e-03, -3.06317627e-01,  1.30113363e-01,\n",
       "        2.74683665e-02, -2.61485398e-01, -3.95009756e-01,  1.03661589e-01,\n",
       "       -9.30236951e-02, -5.19706130e-01,  2.68137813e-01,  2.93919723e-03,\n",
       "       -9.12719786e-01, -1.10448204e-01, -4.44799885e-02, -2.62464941e-01,\n",
       "        1.51162565e-01,  5.42233944e-01,  1.53538883e-01,  6.36088669e-01,\n",
       "        6.65394187e-01, -1.64018616e-01,  4.70052481e-01, -2.79860526e-01,\n",
       "        4.29461151e-02,  4.25292909e-01,  2.09851936e-01, -5.91467142e-01,\n",
       "        3.39413673e-01,  3.10333699e-01, -4.68081295e-01,  8.71589184e-01,\n",
       "       -2.27883458e-01,  4.60225582e-01,  2.69861102e-01,  3.30298543e-02,\n",
       "        2.68772453e-01, -1.77655458e-01,  2.91042458e-02, -3.18862319e-01],\n",
       "      dtype=float32)"
      ]
     },
     "execution_count": 3,
     "metadata": {},
     "output_type": "execute_result"
    }
   ],
   "execution_count": 3
  },
  {
   "metadata": {
    "ExecuteTime": {
     "end_time": "2025-03-16T04:32:10.057158Z",
     "start_time": "2025-03-16T04:32:10.024657Z"
    }
   },
   "cell_type": "code",
   "source": "encoder.tokenizer.tokenize(smi)",
   "id": "6624223e665b97be",
   "outputs": [
    {
     "data": {
      "text/plain": [
       "array([44, 14, 14, 19, 38,  4, 38, 38, 38,  1, 19, 14, 14,  2, 38,  1, 42,\n",
       "        5, 14,  1, 14,  0, 18,  2, 12, 14,  1, 18,  2, 18,  1, 38,  6, 38,\n",
       "       38, 38, 38, 38,  6, 14,  1, 16,  2,  1, 16,  2, 16,  2, 14,  6, 12,\n",
       "       14,  5, 14,  1, 12, 19,  2, 14, 45])"
      ]
     },
     "execution_count": 4,
     "metadata": {},
     "output_type": "execute_result"
    }
   ],
   "execution_count": 4
  },
  {
   "metadata": {
    "ExecuteTime": {
     "end_time": "2025-03-16T04:32:22.818889Z",
     "start_time": "2025-03-16T04:32:22.578032Z"
    }
   },
   "cell_type": "code",
   "source": [
    "import pandas as pd\n",
    "df = pd.read_csv('data/250k_rndm_zinc_drugs_clean_3.csv')[['smiles']]"
   ],
   "id": "f092d016eb489858",
   "outputs": [],
   "execution_count": 6
  },
  {
   "metadata": {
    "ExecuteTime": {
     "end_time": "2025-03-16T04:32:34.811822Z",
     "start_time": "2025-03-16T04:32:25.111851Z"
    }
   },
   "cell_type": "code",
   "source": "encoder(df.smiles)",
   "id": "2d792eb7b7cb36b8",
   "outputs": [
    {
     "name": "stderr",
     "output_type": "stream",
     "text": [
      "Encoding SMILES: 100%|██████████| 3898/3898 [00:06<00:00, 571.06it/s]\n"
     ]
    },
    {
     "data": {
      "text/plain": [
       "array([[-0.28182882, -0.13454095, -0.11872078, ..., -0.282257  ,\n",
       "        -0.16449887,  0.44023547],\n",
       "       [-0.29591104, -0.2470757 , -0.231886  , ...,  0.1065323 ,\n",
       "         0.128735  , -0.59969556],\n",
       "       [-0.02900665, -0.30289793, -0.10597746, ..., -0.05631225,\n",
       "         0.2070439 ,  0.44529995],\n",
       "       ...,\n",
       "       [-0.27128732, -0.2090925 ,  0.17025048, ..., -0.05494078,\n",
       "         0.00831078,  0.32568377],\n",
       "       [-0.19690284,  0.01924747, -0.07598521, ..., -0.1908015 ,\n",
       "        -0.05643069,  0.0929241 ],\n",
       "       [ 0.66773605, -0.14579004,  0.6943203 , ..., -0.11735951,\n",
       "         0.6665484 ,  0.851227  ]], dtype=float32)"
      ]
     },
     "execution_count": 7,
     "metadata": {},
     "output_type": "execute_result"
    }
   ],
   "execution_count": 7
  },
  {
   "metadata": {},
   "cell_type": "code",
   "outputs": [],
   "execution_count": null,
   "source": "",
   "id": "e9c7b255727a66f1"
  }
 ],
 "metadata": {
  "kernelspec": {
   "display_name": "cddd",
   "language": "python",
   "name": "cddd"
  },
  "language_info": {
   "codemirror_mode": {
    "name": "ipython",
    "version": 2
   },
   "file_extension": ".py",
   "mimetype": "text/x-python",
   "name": "python",
   "nbconvert_exporter": "python",
   "pygments_lexer": "ipython2",
   "version": "2.7.6"
  }
 },
 "nbformat": 4,
 "nbformat_minor": 5
}
