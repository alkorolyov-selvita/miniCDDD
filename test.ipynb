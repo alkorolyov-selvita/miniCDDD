{
 "cells": [
  {
   "cell_type": "code",
   "id": "initial_id",
   "metadata": {
    "collapsed": true,
    "ExecuteTime": {
     "end_time": "2025-03-15T14:24:22.051879Z",
     "start_time": "2025-03-15T14:24:22.031451Z"
    }
   },
   "source": [
    "import pandas as pd\n",
    "import numpy as np\n",
    "from joblib import Parallel, delayed\n",
    "\n",
    "%load_ext autoreload\n",
    "%autoreload 2\n",
    "\n",
    "KEEP_STEREO = False\n",
    "DESCRIPTORS = [\n",
    "    'MolLogP', 'MolMR', 'BalabanJ', 'NumHAcceptors',\n",
    "    'NumHDonors', 'NumValenceElectrons', 'TPSA'\n",
    "]"
   ],
   "outputs": [
    {
     "name": "stdout",
     "output_type": "stream",
     "text": [
      "The autoreload extension is already loaded. To reload it, use:\n",
      "  %reload_ext autoreload\n"
     ]
    }
   ],
   "execution_count": 87
  },
  {
   "metadata": {
    "ExecuteTime": {
     "end_time": "2025-03-15T14:24:26.602024Z",
     "start_time": "2025-03-15T14:24:22.054796Z"
    }
   },
   "cell_type": "code",
   "source": [
    "from sklearn.preprocessing import StandardScaler\n",
    "from preprocess import preprocess_smiles_inplace, add_descriptors_parallel, chunked_ser\n",
    "from preprocess import randomize_smiles\n",
    "from preprocess import mem\n",
    "\n",
    "\n",
    "# df = pd.read_csv('data/250k_rndm_zinc_drugs_clean_3.csv')[['smiles']]\n",
    "df = pd.read_csv('data/700k_all_chembl.smi.zst', header=None, names=['smiles'])\n",
    "\n",
    "preprocess_smiles_inplace(df, smiles_col='smiles', keep_stereo=KEEP_STEREO)\n",
    "df = add_descriptors_parallel(df, DESCRIPTORS)\n",
    "\n",
    "scaler = StandardScaler()\n",
    "df.loc[:, DESCRIPTORS] = scaler.fit_transform(df[DESCRIPTORS].values)\n",
    "\n",
    "df['random_smiles'] = mem.cache(randomize_smiles)(df.smiles)\n",
    "df.rename(columns={'smiles': 'canonical_smiles'}, inplace=True)"
   ],
   "id": "765b6282d337e493",
   "outputs": [],
   "execution_count": 88
  },
  {
   "metadata": {
    "ExecuteTime": {
     "end_time": "2025-03-15T14:24:32.859250Z",
     "start_time": "2025-03-15T14:24:26.613736Z"
    }
   },
   "cell_type": "code",
   "source": [
    "from tokens import extract_tokens_from_smiles\n",
    "from tqdm import tqdm\n",
    "\n",
    "all_tokens = set()\n",
    "for smi in tqdm(df.canonical_smiles):\n",
    "    all_tokens |= set(extract_tokens_from_smiles(smi))\n",
    "\n",
    "lookup_table = {token: idx for idx, token in enumerate(sorted(all_tokens))}\n",
    "lookup_table['<UNK>'] = len(all_tokens)\n",
    "\n",
    "lookup_table"
   ],
   "id": "f373b345dc9c8050",
   "outputs": [
    {
     "name": "stderr",
     "output_type": "stream",
     "text": [
      "100%|██████████| 698595/698595 [00:06<00:00, 112164.95it/s]\n"
     ]
    },
    {
     "data": {
      "text/plain": [
       "{'#': 0,\n",
       " '%10': 1,\n",
       " '%11': 2,\n",
       " '%12': 3,\n",
       " '%13': 4,\n",
       " '%14': 5,\n",
       " '%15': 6,\n",
       " '%16': 7,\n",
       " '%17': 8,\n",
       " '%18': 9,\n",
       " '%19': 10,\n",
       " '%20': 11,\n",
       " '%21': 12,\n",
       " '%22': 13,\n",
       " '(': 14,\n",
       " ')': 15,\n",
       " '-': 16,\n",
       " '1': 17,\n",
       " '2': 18,\n",
       " '3': 19,\n",
       " '4': 20,\n",
       " '5': 21,\n",
       " '6': 22,\n",
       " '7': 23,\n",
       " '8': 24,\n",
       " '9': 25,\n",
       " '=': 26,\n",
       " 'B': 27,\n",
       " 'Br': 28,\n",
       " 'C': 29,\n",
       " 'Cl': 30,\n",
       " 'F': 31,\n",
       " 'I': 32,\n",
       " 'N': 33,\n",
       " 'O': 34,\n",
       " 'P': 35,\n",
       " 'S': 36,\n",
       " '[As+]': 37,\n",
       " '[As]': 38,\n",
       " '[B-]': 39,\n",
       " '[BH-]': 40,\n",
       " '[BH2-]': 41,\n",
       " '[C+]': 42,\n",
       " '[C-]': 43,\n",
       " '[C]': 44,\n",
       " '[I+]': 45,\n",
       " '[N+]': 46,\n",
       " '[N-]': 47,\n",
       " '[NH+]': 48,\n",
       " '[NH-]': 49,\n",
       " '[NH2+]': 50,\n",
       " '[Na]': 51,\n",
       " '[O+]': 52,\n",
       " '[O-]': 53,\n",
       " '[OH+]': 54,\n",
       " '[O]': 55,\n",
       " '[P+]': 56,\n",
       " '[PH]': 57,\n",
       " '[S+]': 58,\n",
       " '[S-]': 59,\n",
       " '[SH+]': 60,\n",
       " '[SH]': 61,\n",
       " '[Se+]': 62,\n",
       " '[SeH]': 63,\n",
       " '[Se]': 64,\n",
       " '[SiH]': 65,\n",
       " '[Si]': 66,\n",
       " '[Te]': 67,\n",
       " '[Zn-2]': 68,\n",
       " '[Zn]': 69,\n",
       " '[cH-]': 70,\n",
       " '[n+]': 71,\n",
       " '[n-]': 72,\n",
       " '[nH]': 73,\n",
       " '[o+]': 74,\n",
       " '[s+]': 75,\n",
       " '[se]': 76,\n",
       " '[te]': 77,\n",
       " 'c': 78,\n",
       " 'n': 79,\n",
       " 'o': 80,\n",
       " 's': 81,\n",
       " '<UNK>': 82}"
      ]
     },
     "execution_count": 89,
     "metadata": {},
     "output_type": "execute_result"
    }
   ],
   "execution_count": 89
  },
  {
   "metadata": {
    "ExecuteTime": {
     "end_time": "2025-03-15T14:24:56.146730Z",
     "start_time": "2025-03-15T14:24:32.870683Z"
    }
   },
   "cell_type": "code",
   "source": [
    "def encode_to_tokens(smi):\n",
    "    return [lookup_table.get(token, '<UNK>') for token in extract_tokens_from_smiles(smi)]\n",
    "\n",
    "df['input_tokens'] = df['random_smiles'].apply(encode_to_tokens)\n",
    "df['output_tokens'] = df['canonical_smiles'].apply(encode_to_tokens)"
   ],
   "id": "419dd2c4bb78dd",
   "outputs": [],
   "execution_count": 90
  },
  {
   "metadata": {
    "ExecuteTime": {
     "end_time": "2025-03-15T14:24:57.438029Z",
     "start_time": "2025-03-15T14:24:56.158696Z"
    }
   },
   "cell_type": "code",
   "source": [
    "import seaborn as sns\n",
    "\n",
    "sns.histplot(df['input_tokens'].apply(len), discrete=True);"
   ],
   "id": "e6814b40c22b29fe",
   "outputs": [
    {
     "data": {
      "text/plain": [
       "<Figure size 640x480 with 1 Axes>"
      ],
      "image/png": "[encoded data removed]"
     },
     "metadata": {},
     "output_type": "display_data"
    }
   ],
   "execution_count": 91
  },
  {
   "metadata": {
    "ExecuteTime": {
     "end_time": "2025-03-15T14:24:19.030Z",
     "start_time": "2025-03-15T14:24:18.917716Z"
    }
   },
   "cell_type": "code",
   "source": [
    "threshold = df['input_tokens'].apply(len).quantile(0.95)\n",
    "threshold"
   ],
   "id": "7bc41e71a5bd9ed1",
   "outputs": [
    {
     "data": {
      "text/plain": [
       "90.0"
      ]
     },
     "execution_count": 86,
     "metadata": {},
     "output_type": "execute_result"
    }
   ],
   "execution_count": 86
  },
  {
   "metadata": {
    "ExecuteTime": {
     "end_time": "2025-03-15T14:23:41.231732Z",
     "start_time": "2025-03-15T14:23:40.920199Z"
    }
   },
   "cell_type": "code",
   "source": [
    "mask = df['input_tokens'].apply(len) < threshold\n",
    "df = df[mask].copy()"
   ],
   "id": "838d6398ef080222",
   "outputs": [],
   "execution_count": 81
  },
  {
   "metadata": {
    "ExecuteTime": {
     "end_time": "2025-03-15T14:23:47.840678Z",
     "start_time": "2025-03-15T14:23:45.907780Z"
    }
   },
   "cell_type": "code",
   "source": [
    "from tokens import pad_tokens_to_max_length_with_lookup\n",
    "\n",
    "df_padded, updated_lookup_table, max_length = pad_tokens_to_max_length_with_lookup(df, lookup_table)"
   ],
   "id": "69ab0c00dac4b83",
   "outputs": [],
   "execution_count": 82
  },
  {
   "metadata": {
    "ExecuteTime": {
     "end_time": "2025-03-15T14:23:49.934034Z",
     "start_time": "2025-03-15T14:23:49.906221Z"
    }
   },
   "cell_type": "code",
   "source": "df_padded",
   "id": "93618c69dec375f5",
   "outputs": [
    {
     "data": {
      "text/plain": [
       "                                                                              canonical_smiles  \\\n",
       "0                                       CC1(C)CCC(C)(C)c2cc(-c3cccc(-c4ccc(C(=O)O)cc4)n3)ccc21   \n",
       "1                                        Cc1cc2c(cc1C1=NOC(c3ccc(C(=O)O)cc3)C1)C(C)(C)CCC2(C)C   \n",
       "2                                      Cc1ccc(-c2ccc(C(=O)O)cc2)cc1-c1ccc2c(c1)C(C)(C)CCC2(C)C   \n",
       "3                                       Cc1cc2c(cc1-c1ncc(-c3ccc(C(=O)O)cc3)s1)C(C)(C)CCC2(C)C   \n",
       "4                                     Cc1ccc(-c2ccc(C(=O)O)cc2)cc1-c1cc2c(cc1C)C(C)(C)CCC2(C)C   \n",
       "...                                                                                        ...   \n",
       "698590                              CC(=O)N1CCN(c2ccc3c(c2)CCCN3S(=O)(=O)N(C)Cc2cccc(Cl)c2)CC1   \n",
       "698591                              CC(=O)N1CCN(c2ccc3c(c2)CCCN3S(=O)(=O)N(C)Cc2ccc(Cl)cc2)CC1   \n",
       "698592                                 CCS(=O)(=O)c1ccc(CC(=O)Nc2cc(Cl)c(-c3ccccc3)c(Cl)c2)cc1   \n",
       "698593                            CCS(=O)(=O)c1ccc(CC(=O)Nc2cc(Cl)c(-c3cccc(C#N)c3)c(Cl)c2)cc1   \n",
       "698594  CCS(=O)(=O)c1ccc(CC(=O)Nc2cc(Cl)c(-c3ccc(CC4CCN(C(=O)C(C)(C)C)CC4)c(C#N)c3)c(Cl)c2)cc1   \n",
       "\n",
       "         MolLogP     MolMR  BalabanJ  NumHAcceptors  NumHDonors  \\\n",
       "0       1.278502 -0.075610  0.114690      -0.927865   -0.291058   \n",
       "1       1.028671 -0.111911 -0.147369      -0.687002   -0.291058   \n",
       "2       1.689765  0.024871  0.231090      -1.168729   -0.291058   \n",
       "3       1.445057 -0.037774  0.137799      -0.687002   -0.291058   \n",
       "4       1.828629  0.093436  0.356567      -1.168729   -0.291058   \n",
       "...          ...       ...       ...            ...         ...   \n",
       "698590 -0.218516  0.084484 -0.420445      -0.446138   -0.535145   \n",
       "698591 -0.218516  0.084484 -0.439187      -0.446138   -0.535145   \n",
       "698592  0.905880 -0.060467  0.064344      -0.687002   -0.291058   \n",
       "698593  0.848104  0.007780  0.131350      -0.446138   -0.291058   \n",
       "698594  1.670791  0.767147 -0.645755      -0.205274   -0.291058   \n",
       "\n",
       "        NumValenceElectrons      TPSA  \\\n",
       "0                 -0.196142 -0.424712   \n",
       "1                 -0.158071 -0.348422   \n",
       "2                 -0.139036 -0.537745   \n",
       "3                 -0.177107 -0.424712   \n",
       "4                 -0.081930 -0.537745   \n",
       "...                     ...       ...   \n",
       "698590             0.032283 -0.302121   \n",
       "698591             0.032283 -0.302121   \n",
       "698592            -0.177107 -0.310276   \n",
       "698593            -0.100965 -0.101660   \n",
       "698594             0.603345  0.076439   \n",
       "\n",
       "                                                                               random_smiles  \\\n",
       "0                                   c1c(C(O)=O)ccc(-c2cccc(n2)-c2cc3C(CCC(C)(c3cc2)C)(C)C)c1   \n",
       "1                                    c12cc(c(C3=NOC(c4ccc(cc4)C(=O)O)C3)cc1C(C)(CCC2(C)C)C)C   \n",
       "2                                  c1c(ccc(c1-c1ccc2C(CCC(C)(c2c1)C)(C)C)C)-c1ccc(C(=O)O)cc1   \n",
       "3                                     OC(c1ccc(-c2cnc(s2)-c2cc3c(C(CCC3(C)C)(C)C)cc2C)cc1)=O   \n",
       "4                                 OC(=O)c1ccc(cc1)-c1cc(-c2cc3C(C)(CCC(c3cc2C)(C)C)C)c(cc1)C   \n",
       "...                                                                                      ...   \n",
       "698590                          c12cc(ccc1N(S(=O)(N(C)Cc1cccc(c1)Cl)=O)CCC2)N1CCN(CC1)C(=O)C   \n",
       "698591                          N1(CCN(C(C)=O)CC1)c1ccc2N(S(=O)(=O)N(Cc3ccc(cc3)Cl)C)CCCc2c1   \n",
       "698592                               c1cc(ccc1)-c1c(cc(NC(Cc2ccc(S(=O)(CC)=O)cc2)=O)cc1Cl)Cl   \n",
       "698593                          C(c1cc(ccc1)-c1c(cc(cc1Cl)NC(=O)Cc1ccc(cc1)S(CC)(=O)=O)Cl)#N   \n",
       "698594  C(=O)(C(C)(C)C)N1CCC(Cc2ccc(cc2C#N)-c2c(Cl)cc(NC(Cc3ccc(S(=O)(=O)CC)cc3)=O)cc2Cl)CC1   \n",
       "\n",
       "                                                                                                                                                                                                                                                                                                                                                                    input_tokens  \\\n",
       "0       [87, 78, 17, 78, 14, 29, 14, 34, 15, 26, 34, 15, 78, 78, 78, 14, 16, 78, 18, 78, 78, 78, 78, 14, 79, 18, 15, 16, 78, 18, 78, 78, 19, 29, 14, 29, 29, 29, 14, 29, 15, 14, 78, 19, 78, 78, 18, 15, 29, 15, 14, 29, 15, 29, 15, 78, 17, 88, 86, 86, 86, 86, 86, 86, 86, 86, 86, 86, 86, 86, 86, 86, 86, 86, 86, 86, 86, 86, 86, 86, 86, 86, 86, 86, 86, 86, 86, 86, 86, 86]   \n",
       "1       [87, 78, 17, 18, 78, 78, 14, 78, 14, 29, 19, 26, 33, 34, 29, 14, 78, 20, 78, 78, 78, 14, 78, 78, 20, 15, 29, 14, 26, 34, 15, 34, 15, 29, 19, 15, 78, 78, 17, 29, 14, 29, 15, 14, 29, 29, 29, 18, 14, 29, 15, 29, 15, 29, 15, 29, 88, 86, 86, 86, 86, 86, 86, 86, 86, 86, 86, 86, 86, 86, 86, 86, 86, 86, 86, 86, 86, 86, 86, 86, 86, 86, 86, 86, 86, 86, 86, 86, 86, 86]   \n",
       "2       [87, 78, 17, 78, 14, 78, 78, 78, 14, 78, 17, 16, 78, 17, 78, 78, 78, 18, 29, 14, 29, 29, 29, 14, 29, 15, 14, 78, 18, 78, 17, 15, 29, 15, 14, 29, 15, 29, 15, 29, 15, 16, 78, 17, 78, 78, 78, 14, 29, 14, 26, 34, 15, 34, 15, 78, 78, 17, 88, 86, 86, 86, 86, 86, 86, 86, 86, 86, 86, 86, 86, 86, 86, 86, 86, 86, 86, 86, 86, 86, 86, 86, 86, 86, 86, 86, 86, 86, 86, 86]   \n",
       "3       [87, 34, 29, 14, 78, 17, 78, 78, 78, 14, 16, 78, 18, 78, 79, 78, 14, 81, 18, 15, 16, 78, 18, 78, 78, 19, 78, 14, 29, 14, 29, 29, 29, 19, 14, 29, 15, 29, 15, 14, 29, 15, 29, 15, 78, 78, 18, 29, 15, 78, 78, 17, 15, 26, 34, 88, 86, 86, 86, 86, 86, 86, 86, 86, 86, 86, 86, 86, 86, 86, 86, 86, 86, 86, 86, 86, 86, 86, 86, 86, 86, 86, 86, 86, 86, 86, 86, 86, 86, 86]   \n",
       "4       [87, 34, 29, 14, 26, 34, 15, 78, 17, 78, 78, 78, 14, 78, 78, 17, 15, 16, 78, 17, 78, 78, 14, 16, 78, 18, 78, 78, 19, 29, 14, 29, 15, 14, 29, 29, 29, 14, 78, 19, 78, 78, 18, 29, 15, 14, 29, 15, 29, 15, 29, 15, 78, 14, 78, 78, 17, 15, 29, 88, 86, 86, 86, 86, 86, 86, 86, 86, 86, 86, 86, 86, 86, 86, 86, 86, 86, 86, 86, 86, 86, 86, 86, 86, 86, 86, 86, 86, 86, 86]   \n",
       "...                                                                                                                                                                                                                                                                                                                                                                          ...   \n",
       "698590  [87, 78, 17, 18, 78, 78, 14, 78, 78, 78, 17, 33, 14, 36, 14, 26, 34, 15, 14, 33, 14, 29, 15, 29, 78, 17, 78, 78, 78, 78, 14, 78, 17, 15, 30, 15, 26, 34, 15, 29, 29, 29, 18, 15, 33, 17, 29, 29, 33, 14, 29, 29, 17, 15, 29, 14, 26, 34, 15, 29, 88, 86, 86, 86, 86, 86, 86, 86, 86, 86, 86, 86, 86, 86, 86, 86, 86, 86, 86, 86, 86, 86, 86, 86, 86, 86, 86, 86, 86, 86]   \n",
       "698591  [87, 33, 17, 14, 29, 29, 33, 14, 29, 14, 29, 15, 26, 34, 15, 29, 29, 17, 15, 78, 17, 78, 78, 78, 18, 33, 14, 36, 14, 26, 34, 15, 14, 26, 34, 15, 33, 14, 29, 78, 19, 78, 78, 78, 14, 78, 78, 19, 15, 30, 15, 29, 15, 29, 29, 29, 78, 18, 78, 17, 88, 86, 86, 86, 86, 86, 86, 86, 86, 86, 86, 86, 86, 86, 86, 86, 86, 86, 86, 86, 86, 86, 86, 86, 86, 86, 86, 86, 86, 86]   \n",
       "698592  [87, 78, 17, 78, 78, 14, 78, 78, 78, 17, 15, 16, 78, 17, 78, 14, 78, 78, 14, 33, 29, 14, 29, 78, 18, 78, 78, 78, 14, 36, 14, 26, 34, 15, 14, 29, 29, 15, 26, 34, 15, 78, 78, 18, 15, 26, 34, 15, 78, 78, 17, 30, 15, 30, 88, 86, 86, 86, 86, 86, 86, 86, 86, 86, 86, 86, 86, 86, 86, 86, 86, 86, 86, 86, 86, 86, 86, 86, 86, 86, 86, 86, 86, 86, 86, 86, 86, 86, 86, 86]   \n",
       "698593   [87, 29, 14, 78, 17, 78, 78, 14, 78, 78, 78, 17, 15, 16, 78, 17, 78, 14, 78, 78, 14, 78, 78, 17, 30, 15, 33, 29, 14, 26, 34, 15, 29, 78, 17, 78, 78, 78, 14, 78, 78, 17, 15, 36, 14, 29, 29, 15, 14, 26, 34, 15, 26, 34, 15, 30, 15, 0, 33, 88, 86, 86, 86, 86, 86, 86, 86, 86, 86, 86, 86, 86, 86, 86, 86, 86, 86, 86, 86, 86, 86, 86, 86, 86, 86, 86, 86, 86, 86, 86]   \n",
       "698594   [87, 29, 14, 26, 34, 15, 14, 29, 14, 29, 15, 14, 29, 15, 29, 15, 33, 17, 29, 29, 29, 14, 29, 78, 18, 78, 78, 78, 14, 78, 78, 18, 29, 0, 33, 15, 16, 78, 18, 78, 14, 30, 15, 78, 78, 14, 33, 29, 14, 29, 78, 19, 78, 78, 78, 14, 36, 14, 26, 34, 15, 14, 26, 34, 15, 29, 29, 15, 78, 78, 19, 15, 26, 34, 15, 78, 78, 18, 30, 15, 29, 29, 17, 88, 86, 86, 86, 86, 86, 86]   \n",
       "\n",
       "                                                                                                                                                                                                                                                                                                                                                                   output_tokens  \n",
       "0       [87, 29, 29, 17, 14, 29, 15, 29, 29, 29, 14, 29, 15, 14, 29, 15, 78, 18, 78, 78, 14, 16, 78, 19, 78, 78, 78, 78, 14, 16, 78, 20, 78, 78, 78, 14, 29, 14, 26, 34, 15, 34, 15, 78, 78, 20, 15, 79, 19, 15, 78, 78, 78, 18, 17, 88, 86, 86, 86, 86, 86, 86, 86, 86, 86, 86, 86, 86, 86, 86, 86, 86, 86, 86, 86, 86, 86, 86, 86, 86, 86, 86, 86, 86, 86, 86, 86, 86, 86, 86]  \n",
       "1       [87, 29, 78, 17, 78, 78, 18, 78, 14, 78, 78, 17, 29, 17, 26, 33, 34, 29, 14, 78, 19, 78, 78, 78, 14, 29, 14, 26, 34, 15, 34, 15, 78, 78, 19, 15, 29, 17, 15, 29, 14, 29, 15, 14, 29, 15, 29, 29, 29, 18, 14, 29, 15, 29, 88, 86, 86, 86, 86, 86, 86, 86, 86, 86, 86, 86, 86, 86, 86, 86, 86, 86, 86, 86, 86, 86, 86, 86, 86, 86, 86, 86, 86, 86, 86, 86, 86, 86, 86, 86]  \n",
       "2       [87, 29, 78, 17, 78, 78, 78, 14, 16, 78, 18, 78, 78, 78, 14, 29, 14, 26, 34, 15, 34, 15, 78, 78, 18, 15, 78, 78, 17, 16, 78, 17, 78, 78, 78, 18, 78, 14, 78, 17, 15, 29, 14, 29, 15, 14, 29, 15, 29, 29, 29, 18, 14, 29, 15, 29, 88, 86, 86, 86, 86, 86, 86, 86, 86, 86, 86, 86, 86, 86, 86, 86, 86, 86, 86, 86, 86, 86, 86, 86, 86, 86, 86, 86, 86, 86, 86, 86, 86, 86]  \n",
       "3       [87, 29, 78, 17, 78, 78, 18, 78, 14, 78, 78, 17, 16, 78, 17, 79, 78, 78, 14, 16, 78, 19, 78, 78, 78, 14, 29, 14, 26, 34, 15, 34, 15, 78, 78, 19, 15, 81, 17, 15, 29, 14, 29, 15, 14, 29, 15, 29, 29, 29, 18, 14, 29, 15, 29, 88, 86, 86, 86, 86, 86, 86, 86, 86, 86, 86, 86, 86, 86, 86, 86, 86, 86, 86, 86, 86, 86, 86, 86, 86, 86, 86, 86, 86, 86, 86, 86, 86, 86, 86]  \n",
       "4       [87, 29, 78, 17, 78, 78, 78, 14, 16, 78, 18, 78, 78, 78, 14, 29, 14, 26, 34, 15, 34, 15, 78, 78, 18, 15, 78, 78, 17, 16, 78, 17, 78, 78, 18, 78, 14, 78, 78, 17, 29, 15, 29, 14, 29, 15, 14, 29, 15, 29, 29, 29, 18, 14, 29, 15, 29, 88, 86, 86, 86, 86, 86, 86, 86, 86, 86, 86, 86, 86, 86, 86, 86, 86, 86, 86, 86, 86, 86, 86, 86, 86, 86, 86, 86, 86, 86, 86, 86, 86]  \n",
       "...                                                                                                                                                                                                                                                                                                                                                                          ...  \n",
       "698590  [87, 29, 29, 14, 26, 34, 15, 33, 17, 29, 29, 33, 14, 78, 18, 78, 78, 78, 19, 78, 14, 78, 18, 15, 29, 29, 29, 33, 19, 36, 14, 26, 34, 15, 14, 26, 34, 15, 33, 14, 29, 15, 29, 78, 18, 78, 78, 78, 78, 14, 30, 15, 78, 18, 15, 29, 29, 17, 88, 86, 86, 86, 86, 86, 86, 86, 86, 86, 86, 86, 86, 86, 86, 86, 86, 86, 86, 86, 86, 86, 86, 86, 86, 86, 86, 86, 86, 86, 86, 86]  \n",
       "698591  [87, 29, 29, 14, 26, 34, 15, 33, 17, 29, 29, 33, 14, 78, 18, 78, 78, 78, 19, 78, 14, 78, 18, 15, 29, 29, 29, 33, 19, 36, 14, 26, 34, 15, 14, 26, 34, 15, 33, 14, 29, 15, 29, 78, 18, 78, 78, 78, 14, 30, 15, 78, 78, 18, 15, 29, 29, 17, 88, 86, 86, 86, 86, 86, 86, 86, 86, 86, 86, 86, 86, 86, 86, 86, 86, 86, 86, 86, 86, 86, 86, 86, 86, 86, 86, 86, 86, 86, 86, 86]  \n",
       "698592  [87, 29, 29, 36, 14, 26, 34, 15, 14, 26, 34, 15, 78, 17, 78, 78, 78, 14, 29, 29, 14, 26, 34, 15, 33, 78, 18, 78, 78, 14, 30, 15, 78, 14, 16, 78, 19, 78, 78, 78, 78, 78, 19, 15, 78, 14, 30, 15, 78, 18, 15, 78, 78, 17, 88, 86, 86, 86, 86, 86, 86, 86, 86, 86, 86, 86, 86, 86, 86, 86, 86, 86, 86, 86, 86, 86, 86, 86, 86, 86, 86, 86, 86, 86, 86, 86, 86, 86, 86, 86]  \n",
       "698593   [87, 29, 29, 36, 14, 26, 34, 15, 14, 26, 34, 15, 78, 17, 78, 78, 78, 14, 29, 29, 14, 26, 34, 15, 33, 78, 18, 78, 78, 14, 30, 15, 78, 14, 16, 78, 19, 78, 78, 78, 78, 14, 29, 0, 33, 15, 78, 19, 15, 78, 14, 30, 15, 78, 18, 15, 78, 78, 17, 88, 86, 86, 86, 86, 86, 86, 86, 86, 86, 86, 86, 86, 86, 86, 86, 86, 86, 86, 86, 86, 86, 86, 86, 86, 86, 86, 86, 86, 86, 86]  \n",
       "698594   [87, 29, 29, 36, 14, 26, 34, 15, 14, 26, 34, 15, 78, 17, 78, 78, 78, 14, 29, 29, 14, 26, 34, 15, 33, 78, 18, 78, 78, 14, 30, 15, 78, 14, 16, 78, 19, 78, 78, 78, 14, 29, 29, 20, 29, 29, 33, 14, 29, 14, 26, 34, 15, 29, 14, 29, 15, 14, 29, 15, 29, 15, 29, 29, 20, 15, 78, 14, 29, 0, 33, 15, 78, 19, 15, 78, 14, 30, 15, 78, 18, 15, 78, 78, 17, 88, 86, 86, 86, 86]  \n",
       "\n",
       "[663369 rows x 11 columns]"
      ],
      "text/html": [
       "<div>\n",
       "<style scoped>\n",
       "    .dataframe tbody tr th:only-of-type {\n",
       "        vertical-align: middle;\n",
       "    }\n",
       "\n",
       "    .dataframe tbody tr th {\n",
       "        vertical-align: top;\n",
       "    }\n",
       "\n",
       "    .dataframe thead th {\n",
       "        text-align: right;\n",
       "    }\n",
       "</style>\n",
       "<table border=\"1\" class=\"dataframe\">\n",
       "  <thead>\n",
       "    <tr style=\"text-align: right;\">\n",
       "      <th></th>\n",
       "      <th>canonical_smiles</th>\n",
       "      <th>MolLogP</th>\n",
       "      <th>MolMR</th>\n",
       "      <th>BalabanJ</th>\n",
       "      <th>NumHAcceptors</th>\n",
       "      <th>NumHDonors</th>\n",
       "      <th>NumValenceElectrons</th>\n",
       "      <th>TPSA</th>\n",
       "      <th>random_smiles</th>\n",
       "      <th>input_tokens</th>\n",
       "      <th>output_tokens</th>\n",
       "    </tr>\n",
       "  </thead>\n",
       "  <tbody>\n",
       "    <tr>\n",
       "      <th>0</th>\n",
       "      <td>CC1(C)CCC(C)(C)c2cc(-c3cccc(-c4ccc(C(=O)O)cc4)n3)ccc21</td>\n",
       "      <td>1.278502</td>\n",
       "      <td>-0.075610</td>\n",
       "      <td>0.114690</td>\n",
       "      <td>-0.927865</td>\n",
       "      <td>-0.291058</td>\n",
       "      <td>-0.196142</td>\n",
       "      <td>-0.424712</td>\n",
       "      <td>c1c(C(O)=O)ccc(-c2cccc(n2)-c2cc3C(CCC(C)(c3cc2)C)(C)C)c1</td>\n",
       "      <td>[87, 78, 17, 78, 14, 29, 14, 34, 15, 26, 34, 15, 78, 78, 78, 14, 16, 78, 18, 78, 78, 78, 78, 14, 79, 18, 15, 16, 78, 18, 78, 78, 19, 29, 14, 29, 29, 29, 14, 29, 15, 14, 78, 19, 78, 78, 18, 15, 29, 15, 14, 29, 15, 29, 15, 78, 17, 88, 86, 86, 86, 86, 86, 86, 86, 86, 86, 86, 86, 86, 86, 86, 86, 86, 86, 86, 86, 86, 86, 86, 86, 86, 86, 86, 86, 86, 86, 86, 86, 86]</td>\n",
       "      <td>[87, 29, 29, 17, 14, 29, 15, 29, 29, 29, 14, 29, 15, 14, 29, 15, 78, 18, 78, 78, 14, 16, 78, 19, 78, 78, 78, 78, 14, 16, 78, 20, 78, 78, 78, 14, 29, 14, 26, 34, 15, 34, 15, 78, 78, 20, 15, 79, 19, 15, 78, 78, 78, 18, 17, 88, 86, 86, 86, 86, 86, 86, 86, 86, 86, 86, 86, 86, 86, 86, 86, 86, 86, 86, 86, 86, 86, 86, 86, 86, 86, 86, 86, 86, 86, 86, 86, 86, 86, 86]</td>\n",
       "    </tr>\n",
       "    <tr>\n",
       "      <th>1</th>\n",
       "      <td>Cc1cc2c(cc1C1=NOC(c3ccc(C(=O)O)cc3)C1)C(C)(C)CCC2(C)C</td>\n",
       "      <td>1.028671</td>\n",
       "      <td>-0.111911</td>\n",
       "      <td>-0.147369</td>\n",
       "      <td>-0.687002</td>\n",
       "      <td>-0.291058</td>\n",
       "      <td>-0.158071</td>\n",
       "      <td>-0.348422</td>\n",
       "      <td>c12cc(c(C3=NOC(c4ccc(cc4)C(=O)O)C3)cc1C(C)(CCC2(C)C)C)C</td>\n",
       "      <td>[87, 78, 17, 18, 78, 78, 14, 78, 14, 29, 19, 26, 33, 34, 29, 14, 78, 20, 78, 78, 78, 14, 78, 78, 20, 15, 29, 14, 26, 34, 15, 34, 15, 29, 19, 15, 78, 78, 17, 29, 14, 29, 15, 14, 29, 29, 29, 18, 14, 29, 15, 29, 15, 29, 15, 29, 88, 86, 86, 86, 86, 86, 86, 86, 86, 86, 86, 86, 86, 86, 86, 86, 86, 86, 86, 86, 86, 86, 86, 86, 86, 86, 86, 86, 86, 86, 86, 86, 86, 86]</td>\n",
       "      <td>[87, 29, 78, 17, 78, 78, 18, 78, 14, 78, 78, 17, 29, 17, 26, 33, 34, 29, 14, 78, 19, 78, 78, 78, 14, 29, 14, 26, 34, 15, 34, 15, 78, 78, 19, 15, 29, 17, 15, 29, 14, 29, 15, 14, 29, 15, 29, 29, 29, 18, 14, 29, 15, 29, 88, 86, 86, 86, 86, 86, 86, 86, 86, 86, 86, 86, 86, 86, 86, 86, 86, 86, 86, 86, 86, 86, 86, 86, 86, 86, 86, 86, 86, 86, 86, 86, 86, 86, 86, 86]</td>\n",
       "    </tr>\n",
       "    <tr>\n",
       "      <th>2</th>\n",
       "      <td>Cc1ccc(-c2ccc(C(=O)O)cc2)cc1-c1ccc2c(c1)C(C)(C)CCC2(C)C</td>\n",
       "      <td>1.689765</td>\n",
       "      <td>0.024871</td>\n",
       "      <td>0.231090</td>\n",
       "      <td>-1.168729</td>\n",
       "      <td>-0.291058</td>\n",
       "      <td>-0.139036</td>\n",
       "      <td>-0.537745</td>\n",
       "      <td>c1c(ccc(c1-c1ccc2C(CCC(C)(c2c1)C)(C)C)C)-c1ccc(C(=O)O)cc1</td>\n",
       "      <td>[87, 78, 17, 78, 14, 78, 78, 78, 14, 78, 17, 16, 78, 17, 78, 78, 78, 18, 29, 14, 29, 29, 29, 14, 29, 15, 14, 78, 18, 78, 17, 15, 29, 15, 14, 29, 15, 29, 15, 29, 15, 16, 78, 17, 78, 78, 78, 14, 29, 14, 26, 34, 15, 34, 15, 78, 78, 17, 88, 86, 86, 86, 86, 86, 86, 86, 86, 86, 86, 86, 86, 86, 86, 86, 86, 86, 86, 86, 86, 86, 86, 86, 86, 86, 86, 86, 86, 86, 86, 86]</td>\n",
       "      <td>[87, 29, 78, 17, 78, 78, 78, 14, 16, 78, 18, 78, 78, 78, 14, 29, 14, 26, 34, 15, 34, 15, 78, 78, 18, 15, 78, 78, 17, 16, 78, 17, 78, 78, 78, 18, 78, 14, 78, 17, 15, 29, 14, 29, 15, 14, 29, 15, 29, 29, 29, 18, 14, 29, 15, 29, 88, 86, 86, 86, 86, 86, 86, 86, 86, 86, 86, 86, 86, 86, 86, 86, 86, 86, 86, 86, 86, 86, 86, 86, 86, 86, 86, 86, 86, 86, 86, 86, 86, 86]</td>\n",
       "    </tr>\n",
       "    <tr>\n",
       "      <th>3</th>\n",
       "      <td>Cc1cc2c(cc1-c1ncc(-c3ccc(C(=O)O)cc3)s1)C(C)(C)CCC2(C)C</td>\n",
       "      <td>1.445057</td>\n",
       "      <td>-0.037774</td>\n",
       "      <td>0.137799</td>\n",
       "      <td>-0.687002</td>\n",
       "      <td>-0.291058</td>\n",
       "      <td>-0.177107</td>\n",
       "      <td>-0.424712</td>\n",
       "      <td>OC(c1ccc(-c2cnc(s2)-c2cc3c(C(CCC3(C)C)(C)C)cc2C)cc1)=O</td>\n",
       "      <td>[87, 34, 29, 14, 78, 17, 78, 78, 78, 14, 16, 78, 18, 78, 79, 78, 14, 81, 18, 15, 16, 78, 18, 78, 78, 19, 78, 14, 29, 14, 29, 29, 29, 19, 14, 29, 15, 29, 15, 14, 29, 15, 29, 15, 78, 78, 18, 29, 15, 78, 78, 17, 15, 26, 34, 88, 86, 86, 86, 86, 86, 86, 86, 86, 86, 86, 86, 86, 86, 86, 86, 86, 86, 86, 86, 86, 86, 86, 86, 86, 86, 86, 86, 86, 86, 86, 86, 86, 86, 86]</td>\n",
       "      <td>[87, 29, 78, 17, 78, 78, 18, 78, 14, 78, 78, 17, 16, 78, 17, 79, 78, 78, 14, 16, 78, 19, 78, 78, 78, 14, 29, 14, 26, 34, 15, 34, 15, 78, 78, 19, 15, 81, 17, 15, 29, 14, 29, 15, 14, 29, 15, 29, 29, 29, 18, 14, 29, 15, 29, 88, 86, 86, 86, 86, 86, 86, 86, 86, 86, 86, 86, 86, 86, 86, 86, 86, 86, 86, 86, 86, 86, 86, 86, 86, 86, 86, 86, 86, 86, 86, 86, 86, 86, 86]</td>\n",
       "    </tr>\n",
       "    <tr>\n",
       "      <th>4</th>\n",
       "      <td>Cc1ccc(-c2ccc(C(=O)O)cc2)cc1-c1cc2c(cc1C)C(C)(C)CCC2(C)C</td>\n",
       "      <td>1.828629</td>\n",
       "      <td>0.093436</td>\n",
       "      <td>0.356567</td>\n",
       "      <td>-1.168729</td>\n",
       "      <td>-0.291058</td>\n",
       "      <td>-0.081930</td>\n",
       "      <td>-0.537745</td>\n",
       "      <td>OC(=O)c1ccc(cc1)-c1cc(-c2cc3C(C)(CCC(c3cc2C)(C)C)C)c(cc1)C</td>\n",
       "      <td>[87, 34, 29, 14, 26, 34, 15, 78, 17, 78, 78, 78, 14, 78, 78, 17, 15, 16, 78, 17, 78, 78, 14, 16, 78, 18, 78, 78, 19, 29, 14, 29, 15, 14, 29, 29, 29, 14, 78, 19, 78, 78, 18, 29, 15, 14, 29, 15, 29, 15, 29, 15, 78, 14, 78, 78, 17, 15, 29, 88, 86, 86, 86, 86, 86, 86, 86, 86, 86, 86, 86, 86, 86, 86, 86, 86, 86, 86, 86, 86, 86, 86, 86, 86, 86, 86, 86, 86, 86, 86]</td>\n",
       "      <td>[87, 29, 78, 17, 78, 78, 78, 14, 16, 78, 18, 78, 78, 78, 14, 29, 14, 26, 34, 15, 34, 15, 78, 78, 18, 15, 78, 78, 17, 16, 78, 17, 78, 78, 18, 78, 14, 78, 78, 17, 29, 15, 29, 14, 29, 15, 14, 29, 15, 29, 29, 29, 18, 14, 29, 15, 29, 88, 86, 86, 86, 86, 86, 86, 86, 86, 86, 86, 86, 86, 86, 86, 86, 86, 86, 86, 86, 86, 86, 86, 86, 86, 86, 86, 86, 86, 86, 86, 86, 86]</td>\n",
       "    </tr>\n",
       "    <tr>\n",
       "      <th>...</th>\n",
       "      <td>...</td>\n",
       "      <td>...</td>\n",
       "      <td>...</td>\n",
       "      <td>...</td>\n",
       "      <td>...</td>\n",
       "      <td>...</td>\n",
       "      <td>...</td>\n",
       "      <td>...</td>\n",
       "      <td>...</td>\n",
       "      <td>...</td>\n",
       "      <td>...</td>\n",
       "    </tr>\n",
       "    <tr>\n",
       "      <th>698590</th>\n",
       "      <td>CC(=O)N1CCN(c2ccc3c(c2)CCCN3S(=O)(=O)N(C)Cc2cccc(Cl)c2)CC1</td>\n",
       "      <td>-0.218516</td>\n",
       "      <td>0.084484</td>\n",
       "      <td>-0.420445</td>\n",
       "      <td>-0.446138</td>\n",
       "      <td>-0.535145</td>\n",
       "      <td>0.032283</td>\n",
       "      <td>-0.302121</td>\n",
       "      <td>c12cc(ccc1N(S(=O)(N(C)Cc1cccc(c1)Cl)=O)CCC2)N1CCN(CC1)C(=O)C</td>\n",
       "      <td>[87, 78, 17, 18, 78, 78, 14, 78, 78, 78, 17, 33, 14, 36, 14, 26, 34, 15, 14, 33, 14, 29, 15, 29, 78, 17, 78, 78, 78, 78, 14, 78, 17, 15, 30, 15, 26, 34, 15, 29, 29, 29, 18, 15, 33, 17, 29, 29, 33, 14, 29, 29, 17, 15, 29, 14, 26, 34, 15, 29, 88, 86, 86, 86, 86, 86, 86, 86, 86, 86, 86, 86, 86, 86, 86, 86, 86, 86, 86, 86, 86, 86, 86, 86, 86, 86, 86, 86, 86, 86]</td>\n",
       "      <td>[87, 29, 29, 14, 26, 34, 15, 33, 17, 29, 29, 33, 14, 78, 18, 78, 78, 78, 19, 78, 14, 78, 18, 15, 29, 29, 29, 33, 19, 36, 14, 26, 34, 15, 14, 26, 34, 15, 33, 14, 29, 15, 29, 78, 18, 78, 78, 78, 78, 14, 30, 15, 78, 18, 15, 29, 29, 17, 88, 86, 86, 86, 86, 86, 86, 86, 86, 86, 86, 86, 86, 86, 86, 86, 86, 86, 86, 86, 86, 86, 86, 86, 86, 86, 86, 86, 86, 86, 86, 86]</td>\n",
       "    </tr>\n",
       "    <tr>\n",
       "      <th>698591</th>\n",
       "      <td>CC(=O)N1CCN(c2ccc3c(c2)CCCN3S(=O)(=O)N(C)Cc2ccc(Cl)cc2)CC1</td>\n",
       "      <td>-0.218516</td>\n",
       "      <td>0.084484</td>\n",
       "      <td>-0.439187</td>\n",
       "      <td>-0.446138</td>\n",
       "      <td>-0.535145</td>\n",
       "      <td>0.032283</td>\n",
       "      <td>-0.302121</td>\n",
       "      <td>N1(CCN(C(C)=O)CC1)c1ccc2N(S(=O)(=O)N(Cc3ccc(cc3)Cl)C)CCCc2c1</td>\n",
       "      <td>[87, 33, 17, 14, 29, 29, 33, 14, 29, 14, 29, 15, 26, 34, 15, 29, 29, 17, 15, 78, 17, 78, 78, 78, 18, 33, 14, 36, 14, 26, 34, 15, 14, 26, 34, 15, 33, 14, 29, 78, 19, 78, 78, 78, 14, 78, 78, 19, 15, 30, 15, 29, 15, 29, 29, 29, 78, 18, 78, 17, 88, 86, 86, 86, 86, 86, 86, 86, 86, 86, 86, 86, 86, 86, 86, 86, 86, 86, 86, 86, 86, 86, 86, 86, 86, 86, 86, 86, 86, 86]</td>\n",
       "      <td>[87, 29, 29, 14, 26, 34, 15, 33, 17, 29, 29, 33, 14, 78, 18, 78, 78, 78, 19, 78, 14, 78, 18, 15, 29, 29, 29, 33, 19, 36, 14, 26, 34, 15, 14, 26, 34, 15, 33, 14, 29, 15, 29, 78, 18, 78, 78, 78, 14, 30, 15, 78, 78, 18, 15, 29, 29, 17, 88, 86, 86, 86, 86, 86, 86, 86, 86, 86, 86, 86, 86, 86, 86, 86, 86, 86, 86, 86, 86, 86, 86, 86, 86, 86, 86, 86, 86, 86, 86, 86]</td>\n",
       "    </tr>\n",
       "    <tr>\n",
       "      <th>698592</th>\n",
       "      <td>CCS(=O)(=O)c1ccc(CC(=O)Nc2cc(Cl)c(-c3ccccc3)c(Cl)c2)cc1</td>\n",
       "      <td>0.905880</td>\n",
       "      <td>-0.060467</td>\n",
       "      <td>0.064344</td>\n",
       "      <td>-0.687002</td>\n",
       "      <td>-0.291058</td>\n",
       "      <td>-0.177107</td>\n",
       "      <td>-0.310276</td>\n",
       "      <td>c1cc(ccc1)-c1c(cc(NC(Cc2ccc(S(=O)(CC)=O)cc2)=O)cc1Cl)Cl</td>\n",
       "      <td>[87, 78, 17, 78, 78, 14, 78, 78, 78, 17, 15, 16, 78, 17, 78, 14, 78, 78, 14, 33, 29, 14, 29, 78, 18, 78, 78, 78, 14, 36, 14, 26, 34, 15, 14, 29, 29, 15, 26, 34, 15, 78, 78, 18, 15, 26, 34, 15, 78, 78, 17, 30, 15, 30, 88, 86, 86, 86, 86, 86, 86, 86, 86, 86, 86, 86, 86, 86, 86, 86, 86, 86, 86, 86, 86, 86, 86, 86, 86, 86, 86, 86, 86, 86, 86, 86, 86, 86, 86, 86]</td>\n",
       "      <td>[87, 29, 29, 36, 14, 26, 34, 15, 14, 26, 34, 15, 78, 17, 78, 78, 78, 14, 29, 29, 14, 26, 34, 15, 33, 78, 18, 78, 78, 14, 30, 15, 78, 14, 16, 78, 19, 78, 78, 78, 78, 78, 19, 15, 78, 14, 30, 15, 78, 18, 15, 78, 78, 17, 88, 86, 86, 86, 86, 86, 86, 86, 86, 86, 86, 86, 86, 86, 86, 86, 86, 86, 86, 86, 86, 86, 86, 86, 86, 86, 86, 86, 86, 86, 86, 86, 86, 86, 86, 86]</td>\n",
       "    </tr>\n",
       "    <tr>\n",
       "      <th>698593</th>\n",
       "      <td>CCS(=O)(=O)c1ccc(CC(=O)Nc2cc(Cl)c(-c3cccc(C#N)c3)c(Cl)c2)cc1</td>\n",
       "      <td>0.848104</td>\n",
       "      <td>0.007780</td>\n",
       "      <td>0.131350</td>\n",
       "      <td>-0.446138</td>\n",
       "      <td>-0.291058</td>\n",
       "      <td>-0.100965</td>\n",
       "      <td>-0.101660</td>\n",
       "      <td>C(c1cc(ccc1)-c1c(cc(cc1Cl)NC(=O)Cc1ccc(cc1)S(CC)(=O)=O)Cl)#N</td>\n",
       "      <td>[87, 29, 14, 78, 17, 78, 78, 14, 78, 78, 78, 17, 15, 16, 78, 17, 78, 14, 78, 78, 14, 78, 78, 17, 30, 15, 33, 29, 14, 26, 34, 15, 29, 78, 17, 78, 78, 78, 14, 78, 78, 17, 15, 36, 14, 29, 29, 15, 14, 26, 34, 15, 26, 34, 15, 30, 15, 0, 33, 88, 86, 86, 86, 86, 86, 86, 86, 86, 86, 86, 86, 86, 86, 86, 86, 86, 86, 86, 86, 86, 86, 86, 86, 86, 86, 86, 86, 86, 86, 86]</td>\n",
       "      <td>[87, 29, 29, 36, 14, 26, 34, 15, 14, 26, 34, 15, 78, 17, 78, 78, 78, 14, 29, 29, 14, 26, 34, 15, 33, 78, 18, 78, 78, 14, 30, 15, 78, 14, 16, 78, 19, 78, 78, 78, 78, 14, 29, 0, 33, 15, 78, 19, 15, 78, 14, 30, 15, 78, 18, 15, 78, 78, 17, 88, 86, 86, 86, 86, 86, 86, 86, 86, 86, 86, 86, 86, 86, 86, 86, 86, 86, 86, 86, 86, 86, 86, 86, 86, 86, 86, 86, 86, 86, 86]</td>\n",
       "    </tr>\n",
       "    <tr>\n",
       "      <th>698594</th>\n",
       "      <td>CCS(=O)(=O)c1ccc(CC(=O)Nc2cc(Cl)c(-c3ccc(CC4CCN(C(=O)C(C)(C)C)CC4)c(C#N)c3)c(Cl)c2)cc1</td>\n",
       "      <td>1.670791</td>\n",
       "      <td>0.767147</td>\n",
       "      <td>-0.645755</td>\n",
       "      <td>-0.205274</td>\n",
       "      <td>-0.291058</td>\n",
       "      <td>0.603345</td>\n",
       "      <td>0.076439</td>\n",
       "      <td>C(=O)(C(C)(C)C)N1CCC(Cc2ccc(cc2C#N)-c2c(Cl)cc(NC(Cc3ccc(S(=O)(=O)CC)cc3)=O)cc2Cl)CC1</td>\n",
       "      <td>[87, 29, 14, 26, 34, 15, 14, 29, 14, 29, 15, 14, 29, 15, 29, 15, 33, 17, 29, 29, 29, 14, 29, 78, 18, 78, 78, 78, 14, 78, 78, 18, 29, 0, 33, 15, 16, 78, 18, 78, 14, 30, 15, 78, 78, 14, 33, 29, 14, 29, 78, 19, 78, 78, 78, 14, 36, 14, 26, 34, 15, 14, 26, 34, 15, 29, 29, 15, 78, 78, 19, 15, 26, 34, 15, 78, 78, 18, 30, 15, 29, 29, 17, 88, 86, 86, 86, 86, 86, 86]</td>\n",
       "      <td>[87, 29, 29, 36, 14, 26, 34, 15, 14, 26, 34, 15, 78, 17, 78, 78, 78, 14, 29, 29, 14, 26, 34, 15, 33, 78, 18, 78, 78, 14, 30, 15, 78, 14, 16, 78, 19, 78, 78, 78, 14, 29, 29, 20, 29, 29, 33, 14, 29, 14, 26, 34, 15, 29, 14, 29, 15, 14, 29, 15, 29, 15, 29, 29, 20, 15, 78, 14, 29, 0, 33, 15, 78, 19, 15, 78, 14, 30, 15, 78, 18, 15, 78, 78, 17, 88, 86, 86, 86, 86]</td>\n",
       "    </tr>\n",
       "  </tbody>\n",
       "</table>\n",
       "<p>663369 rows × 11 columns</p>\n",
       "</div>"
      ]
     },
     "execution_count": 83,
     "metadata": {},
     "output_type": "execute_result"
    }
   ],
   "execution_count": 83
  },
  {
   "metadata": {},
   "cell_type": "code",
   "outputs": [],
   "execution_count": null,
   "source": "",
   "id": "32905215e61ed7d2"
  },
  {
   "metadata": {
    "ExecuteTime": {
     "end_time": "2025-03-15T14:30:34.937620Z",
     "start_time": "2025-03-15T14:30:34.909946Z"
    }
   },
   "cell_type": "code",
   "source": [
    "from tqdm import tqdm\n",
    "if hasattr(tqdm, '_instances'):\n",
    "    tqdm._instances.clear()"
   ],
   "id": "435a443653e9920b",
   "outputs": [],
   "execution_count": 92
  },
  {
   "metadata": {
    "ExecuteTime": {
     "end_time": "2025-03-15T14:38:33.923250Z",
     "start_time": "2025-03-15T14:38:24.939791Z"
    }
   },
   "cell_type": "code",
   "source": [
    "from main import prepare_dataset\n",
    "\n",
    "df, lookup_table, scaler = prepare_dataset('data/250k_rndm_zinc_drugs_clean_3.csv', smiles_col='smiles')"
   ],
   "id": "be30052b3bb3534c",
   "outputs": [
    {
     "name": "stderr",
     "output_type": "stream",
     "text": [
      "[15:38:25] Initializing Normalizer\n",
      "100%|██████████| 249455/249455 [00:01<00:00, 149891.79it/s]\n"
     ]
    }
   ],
   "execution_count": 1
  },
  {
   "metadata": {
    "ExecuteTime": {
     "end_time": "2025-03-15T14:39:50.371860Z",
     "start_time": "2025-03-15T14:39:20.305314Z"
    }
   },
   "cell_type": "code",
   "source": [
    "# df, lookup_table, scaler = prepare_dataset('data/250k_rndm_zinc_drugs_clean_3.csv', smiles_col='smiles')\n",
    "df, lookup_table, scaler = prepare_dataset('data/700k_all_chembl.smi.zst')"
   ],
   "id": "ce0ad2cad0e67015",
   "outputs": [
    {
     "name": "stderr",
     "output_type": "stream",
     "text": [
      "100%|██████████| 698595/698595 [00:05<00:00, 133559.77it/s]\n"
     ]
    }
   ],
   "execution_count": 5
  },
  {
   "metadata": {
    "ExecuteTime": {
     "end_time": "2025-03-15T16:02:42.952204Z",
     "start_time": "2025-03-15T15:56:42.428839Z"
    }
   },
   "cell_type": "code",
   "source": "df, lookup_table, scaler = prepare_dataset('data/600k_chembl_filtered.smi.zst')",
   "id": "4c45782495cc12d9",
   "outputs": [
    {
     "name": "stderr",
     "output_type": "stream",
     "text": [
      "Preprocessing SMILES: 100%|██████████| 6363/6363 [03:33<00:00, 29.86it/s]\n",
      "Descriptors: 100%|██████████| 6363/6363 [01:32<00:00, 68.74it/s]\n",
      "Randomizing SMILES: 100%|██████████| 6363/6363 [00:11<00:00, 545.39it/s]\n",
      "100%|██████████| 636218/636218 [00:04<00:00, 135666.79it/s]\n"
     ]
    }
   ],
   "execution_count": 6
  },
  {
   "metadata": {},
   "cell_type": "code",
   "outputs": [],
   "execution_count": null,
   "source": "",
   "id": "55a6fe3fb5e62c9f"
  },
  {
   "metadata": {
    "ExecuteTime": {
     "end_time": "2025-03-15T18:17:37.448724Z",
     "start_time": "2025-03-15T18:17:36.160223Z"
    }
   },
   "cell_type": "code",
   "source": [
    "import torch\n",
    "from models import Encoder\n",
    "from utils import load_lookup_table\n",
    "\n",
    "lookup_table = load_lookup_table('output/lookup_table.json')\n",
    "encoder = Encoder(vocab_size=len(lookup_table))\n",
    "encoder.load_state_dict(torch.load('output/models/encoder_model.pt'))\n",
    "encoder"
   ],
   "id": "5eae4c35913e5663",
   "outputs": [
    {
     "name": "stderr",
     "output_type": "stream",
     "text": [
      "/tmp/ipykernel_141669/2572015885.py:7: FutureWarning: You are using `torch.load` with `weights_only=False` (the current default value), which uses the default pickle module implicitly. It is possible to construct malicious pickle data which will execute arbitrary code during unpickling (See https://github.com/pytorch/pytorch/blob/main/SECURITY.md#untrusted-models for more details). In a future release, the default value for `weights_only` will be flipped to `True`. This limits the functions that could be executed during unpickling. Arbitrary objects will no longer be allowed to be loaded via this mode unless they are explicitly allowlisted by the user via `torch.serialization.add_safe_globals`. We recommend you start setting `weights_only=True` for any use case where you don't have full control of the loaded file. Please open an issue on GitHub for any issues related to this experimental feature.\n",
      "  encoder.load_state_dict(torch.load('output/models/encoder_model.pt'))\n"
     ]
    },
    {
     "data": {
      "text/plain": [
       "Encoder(\n",
       "  (gru1): GRU(46, 512, batch_first=True)\n",
       "  (gru2): GRU(512, 1024, batch_first=True)\n",
       "  (gru3): GRU(1024, 2048, batch_first=True)\n",
       "  (dropout): Dropout(p=0.15, inplace=False)\n",
       "  (latent_projection): Linear(in_features=3584, out_features=512, bias=True)\n",
       "  (gaussian_noise): GaussianNoise()\n",
       ")"
      ]
     },
     "execution_count": 2,
     "metadata": {},
     "output_type": "execute_result"
    }
   ],
   "execution_count": 2
  },
  {
   "metadata": {
    "ExecuteTime": {
     "end_time": "2025-03-15T18:17:37.569812Z",
     "start_time": "2025-03-15T18:17:37.566143Z"
    }
   },
   "cell_type": "code",
   "source": [
    "from tokens import SmilesTokenizer\n",
    "tokenizer = SmilesTokenizer(lookup_table=lookup_table, max_length=60)\n",
    "tokenizer.tokenize('CO')"
   ],
   "id": "dde09930f3cbd7f2",
   "outputs": [
    {
     "data": {
      "text/plain": [
       "array([44, 14, 19, 45, 43, 43, 43, 43, 43, 43, 43, 43, 43, 43, 43, 43, 43,\n",
       "       43, 43, 43, 43, 43, 43, 43, 43, 43, 43, 43, 43, 43, 43, 43, 43, 43,\n",
       "       43, 43, 43, 43, 43, 43, 43, 43, 43, 43, 43, 43, 43, 43, 43, 43, 43,\n",
       "       43, 43, 43, 43, 43, 43, 43, 43, 43])"
      ]
     },
     "execution_count": 3,
     "metadata": {},
     "output_type": "execute_result"
    }
   ],
   "execution_count": 3
  },
  {
   "metadata": {
    "ExecuteTime": {
     "end_time": "2025-03-15T18:17:37.834715Z",
     "start_time": "2025-03-15T18:17:37.810325Z"
    }
   },
   "cell_type": "code",
   "source": [
    "vec = encoder(torch.tensor(tokenizer.batch_tokenize(['CO', 'CN']))).detach().numpy()\n",
    "\n",
    "print(vec)"
   ],
   "id": "606fe133b20a003f",
   "outputs": [
    {
     "name": "stdout",
     "output_type": "stream",
     "text": [
      "[[-0.63000524  0.09065861 -0.03445164 ...  0.10817901  0.47364128\n",
      "   0.6754693 ]\n",
      " [-0.49943557 -0.0013564  -0.0766381  ... -0.00745684  0.5586533\n",
      "   0.4841815 ]]\n"
     ]
    }
   ],
   "execution_count": 4
  },
  {
   "metadata": {
    "ExecuteTime": {
     "end_time": "2025-03-15T18:17:39.073865Z",
     "start_time": "2025-03-15T18:17:38.605213Z"
    }
   },
   "cell_type": "code",
   "source": [
    "import pandas as pd\n",
    "df = pd.read_csv('data/600k_chembl_filtered.smi.zst', header=None, names=['smiles'])"
   ],
   "id": "a3df746dbd756dbb",
   "outputs": [],
   "execution_count": 5
  },
  {
   "metadata": {
    "ExecuteTime": {
     "end_time": "2025-03-15T18:17:39.705088Z",
     "start_time": "2025-03-15T18:17:39.700931Z"
    }
   },
   "cell_type": "code",
   "source": "tokenizer.batch_tokenize(['CO', 'CN'])",
   "id": "f11f3607f59842e3",
   "outputs": [
    {
     "data": {
      "text/plain": [
       "array([[44, 14, 19, 45, 43, 43, 43, 43, 43, 43, 43, 43, 43, 43, 43, 43,\n",
       "        43, 43, 43, 43, 43, 43, 43, 43, 43, 43, 43, 43, 43, 43, 43, 43,\n",
       "        43, 43, 43, 43, 43, 43, 43, 43, 43, 43, 43, 43, 43, 43, 43, 43,\n",
       "        43, 43, 43, 43, 43, 43, 43, 43, 43, 43, 43, 43],\n",
       "       [44, 14, 18, 45, 43, 43, 43, 43, 43, 43, 43, 43, 43, 43, 43, 43,\n",
       "        43, 43, 43, 43, 43, 43, 43, 43, 43, 43, 43, 43, 43, 43, 43, 43,\n",
       "        43, 43, 43, 43, 43, 43, 43, 43, 43, 43, 43, 43, 43, 43, 43, 43,\n",
       "        43, 43, 43, 43, 43, 43, 43, 43, 43, 43, 43, 43]])"
      ]
     },
     "execution_count": 6,
     "metadata": {},
     "output_type": "execute_result"
    }
   ],
   "execution_count": 6
  },
  {
   "metadata": {
    "ExecuteTime": {
     "end_time": "2025-03-15T18:17:40.518916Z",
     "start_time": "2025-03-15T18:17:40.488556Z"
    }
   },
   "cell_type": "code",
   "source": [
    "import numpy as np\n",
    "from tqdm import tqdm\n",
    "\n",
    "token_ids = []\n",
    "\n",
    "for smi in tqdm(df.smiles[:1000]):\n",
    "    ids = tokenizer.tokenize(smi)\n",
    "    token_ids.append(ids)\n",
    "    if len(ids) != 60:\n",
    "        print(smi)"
   ],
   "id": "6f30a8932623b903",
   "outputs": [
    {
     "name": "stderr",
     "output_type": "stream",
     "text": [
      "100%|██████████| 1000/1000 [00:00<00:00, 43541.90it/s]\n"
     ]
    }
   ],
   "execution_count": 7
  },
  {
   "metadata": {
    "ExecuteTime": {
     "end_time": "2025-03-15T18:17:41.836422Z",
     "start_time": "2025-03-15T18:17:41.831221Z"
    }
   },
   "cell_type": "code",
   "source": "tokenizer.tokenize('CC1=NN(c2ccccc2)C(=O)C1C=C1C(=O)NC(=O)N(c2cc(C)cc(C)c2)C1=O')",
   "id": "cd5afa744b8b937f",
   "outputs": [
    {
     "data": {
      "text/plain": [
       "array([nan, nan, nan, nan, nan, nan, nan, nan, nan, nan, nan, nan, nan,\n",
       "       nan, nan, nan, nan, nan, nan, nan, nan, nan, nan, nan, nan, nan,\n",
       "       nan, nan, nan, nan, nan, nan, nan, nan, nan, nan, nan, nan, nan,\n",
       "       nan, nan, nan, nan, nan, nan, nan, nan, nan, nan, nan, nan, nan,\n",
       "       nan, nan, nan, nan, nan, nan, nan, nan])"
      ]
     },
     "execution_count": 8,
     "metadata": {},
     "output_type": "execute_result"
    }
   ],
   "execution_count": 8
  },
  {
   "metadata": {
    "ExecuteTime": {
     "end_time": "2025-03-15T18:18:04.075334Z",
     "start_time": "2025-03-15T18:17:56.390371Z"
    }
   },
   "cell_type": "code",
   "source": [
    "token_arr = tokenizer.batch_tokenize(df.smiles.tolist())\n",
    "token_arr.shape"
   ],
   "id": "aa21fa879f1d98f4",
   "outputs": [
    {
     "data": {
      "text/plain": [
       "(636218, 60)"
      ]
     },
     "execution_count": 12,
     "metadata": {},
     "output_type": "execute_result"
    }
   ],
   "execution_count": 12
  },
  {
   "metadata": {
    "ExecuteTime": {
     "end_time": "2025-03-15T18:20:51.562117Z",
     "start_time": "2025-03-15T18:20:51.526390Z"
    }
   },
   "cell_type": "code",
   "source": "mask = ~np.isnan(token_arr).any(axis=1)",
   "id": "7b37c5e84b889092",
   "outputs": [],
   "execution_count": 30
  },
  {
   "metadata": {
    "ExecuteTime": {
     "end_time": "2025-03-15T18:20:56.422054Z",
     "start_time": "2025-03-15T18:20:56.373207Z"
    }
   },
   "cell_type": "code",
   "source": "token_arr[mask].shape",
   "id": "1d1be8ae86b7e1df",
   "outputs": [
    {
     "data": {
      "text/plain": [
       "(510200, 60)"
      ]
     },
     "execution_count": 31,
     "metadata": {},
     "output_type": "execute_result"
    }
   ],
   "execution_count": 31
  },
  {
   "metadata": {
    "ExecuteTime": {
     "end_time": "2025-03-15T18:22:20.551854Z",
     "start_time": "2025-03-15T18:22:20.506124Z"
    }
   },
   "cell_type": "code",
   "source": "token_arr[mask].astype(np.int32)",
   "id": "336276f74a235f5c",
   "outputs": [
    {
     "data": {
      "text/plain": [
       "dtype('float64')"
      ]
     },
     "execution_count": 37,
     "metadata": {},
     "output_type": "execute_result"
    }
   ],
   "execution_count": 37
  },
  {
   "metadata": {
    "ExecuteTime": {
     "end_time": "2025-03-15T18:25:56.257869Z",
     "start_time": "2025-03-15T18:25:56.115666Z"
    }
   },
   "cell_type": "code",
   "source": [
    "token_tensor = torch.tensor(token_arr[mask], dtype=torch.int64)\n",
    "\n",
    "token_tensor = token_tensor.to('cuda:0')\n",
    "encoder = encoder.to('cuda:0')\n",
    "\n",
    "cddd_vec = encoder(token_tensor).detach().numpy()"
   ],
   "id": "f256a58693d890ac",
   "outputs": [
    {
     "ename": "RuntimeError",
     "evalue": "one_hot is only applicable to index tensor.",
     "output_type": "error",
     "traceback": [
      "\u001B[0;31m---------------------------------------------------------------------------\u001B[0m",
      "\u001B[0;31mRuntimeError\u001B[0m                              Traceback (most recent call last)",
      "Cell \u001B[0;32mIn[43], line 6\u001B[0m\n\u001B[1;32m      3\u001B[0m token_tensor \u001B[38;5;241m=\u001B[39m token_tensor\u001B[38;5;241m.\u001B[39mto(\u001B[38;5;124m'\u001B[39m\u001B[38;5;124mcuda:0\u001B[39m\u001B[38;5;124m'\u001B[39m)\n\u001B[1;32m      4\u001B[0m encoder \u001B[38;5;241m=\u001B[39m encoder\u001B[38;5;241m.\u001B[39mto(\u001B[38;5;124m'\u001B[39m\u001B[38;5;124mcuda:0\u001B[39m\u001B[38;5;124m'\u001B[39m)\n\u001B[0;32m----> 6\u001B[0m cddd_vec \u001B[38;5;241m=\u001B[39m \u001B[43mencoder\u001B[49m\u001B[43m(\u001B[49m\u001B[43mtoken_tensor\u001B[49m\u001B[43m)\u001B[49m\u001B[38;5;241m.\u001B[39mdetach()\u001B[38;5;241m.\u001B[39mnumpy()\n",
      "File \u001B[0;32m~/miniforge3/envs/cddd/lib/python3.10/site-packages/torch/nn/modules/module.py:1553\u001B[0m, in \u001B[0;36mModule._wrapped_call_impl\u001B[0;34m(self, *args, **kwargs)\u001B[0m\n\u001B[1;32m   1551\u001B[0m     \u001B[38;5;28;01mreturn\u001B[39;00m \u001B[38;5;28mself\u001B[39m\u001B[38;5;241m.\u001B[39m_compiled_call_impl(\u001B[38;5;241m*\u001B[39margs, \u001B[38;5;241m*\u001B[39m\u001B[38;5;241m*\u001B[39mkwargs)  \u001B[38;5;66;03m# type: ignore[misc]\u001B[39;00m\n\u001B[1;32m   1552\u001B[0m \u001B[38;5;28;01melse\u001B[39;00m:\n\u001B[0;32m-> 1553\u001B[0m     \u001B[38;5;28;01mreturn\u001B[39;00m \u001B[38;5;28;43mself\u001B[39;49m\u001B[38;5;241;43m.\u001B[39;49m\u001B[43m_call_impl\u001B[49m\u001B[43m(\u001B[49m\u001B[38;5;241;43m*\u001B[39;49m\u001B[43margs\u001B[49m\u001B[43m,\u001B[49m\u001B[43m \u001B[49m\u001B[38;5;241;43m*\u001B[39;49m\u001B[38;5;241;43m*\u001B[39;49m\u001B[43mkwargs\u001B[49m\u001B[43m)\u001B[49m\n",
      "File \u001B[0;32m~/miniforge3/envs/cddd/lib/python3.10/site-packages/torch/nn/modules/module.py:1562\u001B[0m, in \u001B[0;36mModule._call_impl\u001B[0;34m(self, *args, **kwargs)\u001B[0m\n\u001B[1;32m   1557\u001B[0m \u001B[38;5;66;03m# If we don't have any hooks, we want to skip the rest of the logic in\u001B[39;00m\n\u001B[1;32m   1558\u001B[0m \u001B[38;5;66;03m# this function, and just call forward.\u001B[39;00m\n\u001B[1;32m   1559\u001B[0m \u001B[38;5;28;01mif\u001B[39;00m \u001B[38;5;129;01mnot\u001B[39;00m (\u001B[38;5;28mself\u001B[39m\u001B[38;5;241m.\u001B[39m_backward_hooks \u001B[38;5;129;01mor\u001B[39;00m \u001B[38;5;28mself\u001B[39m\u001B[38;5;241m.\u001B[39m_backward_pre_hooks \u001B[38;5;129;01mor\u001B[39;00m \u001B[38;5;28mself\u001B[39m\u001B[38;5;241m.\u001B[39m_forward_hooks \u001B[38;5;129;01mor\u001B[39;00m \u001B[38;5;28mself\u001B[39m\u001B[38;5;241m.\u001B[39m_forward_pre_hooks\n\u001B[1;32m   1560\u001B[0m         \u001B[38;5;129;01mor\u001B[39;00m _global_backward_pre_hooks \u001B[38;5;129;01mor\u001B[39;00m _global_backward_hooks\n\u001B[1;32m   1561\u001B[0m         \u001B[38;5;129;01mor\u001B[39;00m _global_forward_hooks \u001B[38;5;129;01mor\u001B[39;00m _global_forward_pre_hooks):\n\u001B[0;32m-> 1562\u001B[0m     \u001B[38;5;28;01mreturn\u001B[39;00m \u001B[43mforward_call\u001B[49m\u001B[43m(\u001B[49m\u001B[38;5;241;43m*\u001B[39;49m\u001B[43margs\u001B[49m\u001B[43m,\u001B[49m\u001B[43m \u001B[49m\u001B[38;5;241;43m*\u001B[39;49m\u001B[38;5;241;43m*\u001B[39;49m\u001B[43mkwargs\u001B[49m\u001B[43m)\u001B[49m\n\u001B[1;32m   1564\u001B[0m \u001B[38;5;28;01mtry\u001B[39;00m:\n\u001B[1;32m   1565\u001B[0m     result \u001B[38;5;241m=\u001B[39m \u001B[38;5;28;01mNone\u001B[39;00m\n",
      "File \u001B[0;32m~/projects/miniCDDD/models.py:30\u001B[0m, in \u001B[0;36mEncoder.forward\u001B[0;34m(self, x)\u001B[0m\n\u001B[1;32m     28\u001B[0m \u001B[38;5;28;01mdef\u001B[39;00m\u001B[38;5;250m \u001B[39m\u001B[38;5;21mforward\u001B[39m(\u001B[38;5;28mself\u001B[39m, x):\n\u001B[1;32m     29\u001B[0m     \u001B[38;5;66;03m# One-hot encode the input\u001B[39;00m\n\u001B[0;32m---> 30\u001B[0m     x_one_hot \u001B[38;5;241m=\u001B[39m \u001B[43mF\u001B[49m\u001B[38;5;241;43m.\u001B[39;49m\u001B[43mone_hot\u001B[49m\u001B[43m(\u001B[49m\u001B[43mx\u001B[49m\u001B[43m,\u001B[49m\u001B[43m \u001B[49m\u001B[38;5;28;43mself\u001B[39;49m\u001B[38;5;241;43m.\u001B[39;49m\u001B[43mvocab_size\u001B[49m\u001B[43m)\u001B[49m\u001B[38;5;241m.\u001B[39mfloat()\n\u001B[1;32m     32\u001B[0m     \u001B[38;5;66;03m# Apply dropout\u001B[39;00m\n\u001B[1;32m     33\u001B[0m     x_one_hot \u001B[38;5;241m=\u001B[39m \u001B[38;5;28mself\u001B[39m\u001B[38;5;241m.\u001B[39mdropout(x_one_hot)\n",
      "\u001B[0;31mRuntimeError\u001B[0m: one_hot is only applicable to index tensor."
     ]
    }
   ],
   "execution_count": 43
  },
  {
   "metadata": {
    "ExecuteTime": {
     "end_time": "2025-03-15T18:27:06.421763Z",
     "start_time": "2025-03-15T18:26:55.399449Z"
    }
   },
   "cell_type": "code",
   "source": [
    "import torch\n",
    "import numpy as np\n",
    "\n",
    "# Assuming token_arr[mask] is already defined\n",
    "token_tensor = torch.tensor(token_arr[mask], dtype=torch.int64)\n",
    "\n",
    "# Move token tensor to CUDA\n",
    "token_tensor = token_tensor.to('cuda:0')\n",
    "encoder = encoder.to('cuda:0')\n",
    "\n",
    "# Define batch size\n",
    "batch_size = 128  # Adjust based on available GPU memory\n",
    "batches = torch.split(token_tensor, batch_size)\n",
    "\n",
    "# List to store output vectors\n",
    "cddd_vec_list = []\n",
    "\n",
    "# Iterate over batches\n",
    "with torch.no_grad():  # Disable gradient computation for efficiency\n",
    "    for batch in batches:\n",
    "        batch_vec = encoder(batch).detach().cpu().numpy().astype(np.float32)  # Convert to float32\n",
    "        cddd_vec_list.append(batch_vec)\n",
    "\n",
    "# Concatenate results\n",
    "cddd_vec = np.concatenate(cddd_vec_list, axis=0)  # Assuming output is 2D (N, D)\n",
    "\n",
    "print(f\"Final shape: {cddd_vec.shape}, dtype: {cddd_vec.dtype}\")\n"
   ],
   "id": "71cb25b7295b80c3",
   "outputs": [
    {
     "name": "stdout",
     "output_type": "stream",
     "text": [
      "Final shape: (510200, 512), dtype: float32\n"
     ]
    }
   ],
   "execution_count": 44
  }
 ],
 "metadata": {
  "kernelspec": {
   "display_name": "Python 3",
   "language": "python",
   "name": "python3"
  },
  "language_info": {
   "codemirror_mode": {
    "name": "ipython",
    "version": 2
   },
   "file_extension": ".py",
   "mimetype": "text/x-python",
   "name": "python",
   "nbconvert_exporter": "python",
   "pygments_lexer": "ipython2",
   "version": "2.7.6"
  }
 },
 "nbformat": 4,
 "nbformat_minor": 5
}
